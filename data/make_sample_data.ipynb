{
 "cells": [
  {
   "cell_type": "markdown",
   "metadata": {},
   "source": [
    "講義で使用するためのデータを作成した時のコード。\n",
    "\n",
    "StatsBase の sample 関数を使えば、尤もらしそうなデータが作れます。"
   ]
  },
  {
   "cell_type": "code",
   "execution_count": 2,
   "metadata": {
    "collapsed": false
   },
   "outputs": [
    {
     "data": {
      "text/plain": [
       "Plots.GRBackend()"
      ]
     },
     "execution_count": 2,
     "metadata": {},
     "output_type": "execute_result"
    }
   ],
   "source": [
    "using DataFrames, StatsBase, StatPlots\n",
    "gr(leg=false)"
   ]
  },
  {
   "cell_type": "code",
   "execution_count": 2,
   "metadata": {
    "collapsed": false
   },
   "outputs": [
    {
     "data": {
      "text/plain": [
       "f (generic function with 1 method)"
      ]
     },
     "execution_count": 2,
     "metadata": {},
     "output_type": "execute_result"
    }
   ],
   "source": [
    "f(x) = exp(-((x-1980)/15)^2)"
   ]
  },
  {
   "cell_type": "code",
   "execution_count": 3,
   "metadata": {
    "collapsed": false
   },
   "outputs": [
    {
     "data": {
      "text/plain": [
       "randday (generic function with 1 method)"
      ]
     },
     "execution_count": 3,
     "metadata": {},
     "output_type": "execute_result"
    }
   ],
   "source": [
    "function randday()\n",
    "    m = rand(1:12)\n",
    "    d = rand(1:31)\n",
    "    try\n",
    "        Date(\"1991-$m-$d\")\n",
    "    catch\n",
    "        d -= 3\n",
    "    end\n",
    "    return m, d\n",
    "end"
   ]
  },
  {
   "cell_type": "code",
   "execution_count": 38,
   "metadata": {
    "collapsed": false
   },
   "outputs": [],
   "source": [
    "N = 1000\n",
    "sexlist = [\"M\", \"F\", \"Male\", \"Female\", \"male\", \"female\"]\n",
    "Sex = rand(sexlist, N);"
   ]
  },
  {
   "cell_type": "code",
   "execution_count": 39,
   "metadata": {
    "collapsed": false
   },
   "outputs": [],
   "source": [
    "nendai = 1940:1990\n",
    "tmp = sample(nendai, WeightVec(f.(nendai)), N);"
   ]
  },
  {
   "cell_type": "code",
   "execution_count": 40,
   "metadata": {
    "collapsed": false
   },
   "outputs": [
    {
     "data": {
      "text/html": [
       "<?xml version=\"1.0\" encoding=\"utf-8\"?>\n",
       "<svg xmlns=\"http://www.w3.org/2000/svg\" xmlns:xlink=\"http://www.w3.org/1999/xlink\" width=\"600\" height=\"400\" viewBox=\"0 0 600 400\">\n",
       "<defs>\n",
       "  <clipPath id=\"clip00\">\n",
       "    <rect x=\"0\" y=\"0\" width=\"600\" height=\"400\"/>\n",
       "  </clipPath>\n",
       "</defs>\n",
       "<polygon clip-path=\"url(#clip00)\" points=\"\n",
       "0,400 600,400 600,0 0,0 \n",
       "  \" fill=\"#ffffff\" fill-opacity=\"1\"/>\n",
       "<defs>\n",
       "  <clipPath id=\"clip01\">\n",
       "    <rect x=\"120\" y=\"0\" width=\"421\" height=\"400\"/>\n",
       "  </clipPath>\n",
       "</defs>\n",
       "<polygon clip-path=\"url(#clip00)\" points=\"\n",
       "30.6037,384.952 596.063,384.952 596.063,3.93701 30.6037,3.93701 \n",
       "  \" fill=\"#ffffff\" fill-opacity=\"1\"/>\n",
       "<defs>\n",
       "  <clipPath id=\"clip02\">\n",
       "    <rect x=\"30\" y=\"3\" width=\"566\" height=\"382\"/>\n",
       "  </clipPath>\n",
       "</defs>\n",
       "<polyline clip-path=\"url(#clip02)\" style=\"stroke:#00002d; stroke-width:0.8; stroke-opacity:0.5; fill:none\" stroke-dasharray=\"1, 2\" points=\"\n",
       "  46.6072,379.237 46.6072,9.65223 \n",
       "  \"/>\n",
       "<polyline clip-path=\"url(#clip02)\" style=\"stroke:#00002d; stroke-width:0.8; stroke-opacity:0.5; fill:none\" stroke-dasharray=\"1, 2\" points=\"\n",
       "  157.743,379.237 157.743,9.65223 \n",
       "  \"/>\n",
       "<polyline clip-path=\"url(#clip02)\" style=\"stroke:#00002d; stroke-width:0.8; stroke-opacity:0.5; fill:none\" stroke-dasharray=\"1, 2\" points=\"\n",
       "  268.879,379.237 268.879,9.65223 \n",
       "  \"/>\n",
       "<polyline clip-path=\"url(#clip02)\" style=\"stroke:#00002d; stroke-width:0.8; stroke-opacity:0.5; fill:none\" stroke-dasharray=\"1, 2\" points=\"\n",
       "  380.015,379.237 380.015,9.65223 \n",
       "  \"/>\n",
       "<polyline clip-path=\"url(#clip02)\" style=\"stroke:#00002d; stroke-width:0.8; stroke-opacity:0.5; fill:none\" stroke-dasharray=\"1, 2\" points=\"\n",
       "  491.151,379.237 491.151,9.65223 \n",
       "  \"/>\n",
       "<polyline clip-path=\"url(#clip02)\" style=\"stroke:#00002d; stroke-width:0.8; stroke-opacity:0.5; fill:none\" stroke-dasharray=\"1, 2\" points=\"\n",
       "  39.0856,384.952 587.581,384.952 \n",
       "  \"/>\n",
       "<polyline clip-path=\"url(#clip02)\" style=\"stroke:#00002d; stroke-width:0.8; stroke-opacity:0.5; fill:none\" stroke-dasharray=\"1, 2\" points=\"\n",
       "  39.0856,278.523 587.581,278.523 \n",
       "  \"/>\n",
       "<polyline clip-path=\"url(#clip02)\" style=\"stroke:#00002d; stroke-width:0.8; stroke-opacity:0.5; fill:none\" stroke-dasharray=\"1, 2\" points=\"\n",
       "  39.0856,172.094 587.581,172.094 \n",
       "  \"/>\n",
       "<polyline clip-path=\"url(#clip02)\" style=\"stroke:#00002d; stroke-width:0.8; stroke-opacity:0.5; fill:none\" stroke-dasharray=\"1, 2\" points=\"\n",
       "  39.0856,65.6657 587.581,65.6657 \n",
       "  \"/>\n",
       "<polyline clip-path=\"url(#clip02)\" style=\"stroke:#00002d; stroke-width:0.8; stroke-opacity:1; fill:none\" points=\"\n",
       "  30.6037,384.952 596.063,384.952 \n",
       "  \"/>\n",
       "<polyline clip-path=\"url(#clip02)\" style=\"stroke:#00002d; stroke-width:0.8; stroke-opacity:1; fill:none\" points=\"\n",
       "  46.6072,384.952 46.6072,379.237 \n",
       "  \"/>\n",
       "<polyline clip-path=\"url(#clip02)\" style=\"stroke:#00002d; stroke-width:0.8; stroke-opacity:1; fill:none\" points=\"\n",
       "  157.743,384.952 157.743,379.237 \n",
       "  \"/>\n",
       "<polyline clip-path=\"url(#clip02)\" style=\"stroke:#00002d; stroke-width:0.8; stroke-opacity:1; fill:none\" points=\"\n",
       "  268.879,384.952 268.879,379.237 \n",
       "  \"/>\n",
       "<polyline clip-path=\"url(#clip02)\" style=\"stroke:#00002d; stroke-width:0.8; stroke-opacity:1; fill:none\" points=\"\n",
       "  380.015,384.952 380.015,379.237 \n",
       "  \"/>\n",
       "<polyline clip-path=\"url(#clip02)\" style=\"stroke:#00002d; stroke-width:0.8; stroke-opacity:1; fill:none\" points=\"\n",
       "  491.151,384.952 491.151,379.237 \n",
       "  \"/>\n",
       "<polyline clip-path=\"url(#clip02)\" style=\"stroke:#00002d; stroke-width:0.8; stroke-opacity:1; fill:none\" points=\"\n",
       "  30.6037,384.952 30.6037,3.93701 \n",
       "  \"/>\n",
       "<polyline clip-path=\"url(#clip02)\" style=\"stroke:#00002d; stroke-width:0.8; stroke-opacity:1; fill:none\" points=\"\n",
       "  30.6037,384.952 39.0856,384.952 \n",
       "  \"/>\n",
       "<polyline clip-path=\"url(#clip02)\" style=\"stroke:#00002d; stroke-width:0.8; stroke-opacity:1; fill:none\" points=\"\n",
       "  30.6037,278.523 39.0856,278.523 \n",
       "  \"/>\n",
       "<polyline clip-path=\"url(#clip02)\" style=\"stroke:#00002d; stroke-width:0.8; stroke-opacity:1; fill:none\" points=\"\n",
       "  30.6037,172.094 39.0856,172.094 \n",
       "  \"/>\n",
       "<polyline clip-path=\"url(#clip02)\" style=\"stroke:#00002d; stroke-width:0.8; stroke-opacity:1; fill:none\" points=\"\n",
       "  30.6037,65.6657 39.0856,65.6657 \n",
       "  \"/>\n",
       "<g clip-path=\"url(#clip00)\">\n",
       "<text style=\"fill:#00002d; fill-opacity:1; font-family:Arial,Helvetica Neue,Helvetica,sans-serif; font-size:12; text-anchor:middle;\" transform=\"rotate(0, 46.6072, 396.952)\" x=\"46.6072\" y=\"396.952\">1940</text>\n",
       "</g>\n",
       "<g clip-path=\"url(#clip00)\">\n",
       "<text style=\"fill:#00002d; fill-opacity:1; font-family:Arial,Helvetica Neue,Helvetica,sans-serif; font-size:12; text-anchor:middle;\" transform=\"rotate(0, 157.743, 396.952)\" x=\"157.743\" y=\"396.952\">1950</text>\n",
       "</g>\n",
       "<g clip-path=\"url(#clip00)\">\n",
       "<text style=\"fill:#00002d; fill-opacity:1; font-family:Arial,Helvetica Neue,Helvetica,sans-serif; font-size:12; text-anchor:middle;\" transform=\"rotate(0, 268.879, 396.952)\" x=\"268.879\" y=\"396.952\">1960</text>\n",
       "</g>\n",
       "<g clip-path=\"url(#clip00)\">\n",
       "<text style=\"fill:#00002d; fill-opacity:1; font-family:Arial,Helvetica Neue,Helvetica,sans-serif; font-size:12; text-anchor:middle;\" transform=\"rotate(0, 380.015, 396.952)\" x=\"380.015\" y=\"396.952\">1970</text>\n",
       "</g>\n",
       "<g clip-path=\"url(#clip00)\">\n",
       "<text style=\"fill:#00002d; fill-opacity:1; font-family:Arial,Helvetica Neue,Helvetica,sans-serif; font-size:12; text-anchor:middle;\" transform=\"rotate(0, 491.151, 396.952)\" x=\"491.151\" y=\"396.952\">1980</text>\n",
       "</g>\n",
       "<g clip-path=\"url(#clip00)\">\n",
       "<text style=\"fill:#00002d; fill-opacity:1; font-family:Arial,Helvetica Neue,Helvetica,sans-serif; font-size:12; text-anchor:end;\" transform=\"rotate(0, 29.4037, 389.452)\" x=\"29.4037\" y=\"389.452\">0</text>\n",
       "</g>\n",
       "<g clip-path=\"url(#clip00)\">\n",
       "<text style=\"fill:#00002d; fill-opacity:1; font-family:Arial,Helvetica Neue,Helvetica,sans-serif; font-size:12; text-anchor:end;\" transform=\"rotate(0, 29.4037, 283.023)\" x=\"29.4037\" y=\"283.023\">50</text>\n",
       "</g>\n",
       "<g clip-path=\"url(#clip00)\">\n",
       "<text style=\"fill:#00002d; fill-opacity:1; font-family:Arial,Helvetica Neue,Helvetica,sans-serif; font-size:12; text-anchor:end;\" transform=\"rotate(0, 29.4037, 176.594)\" x=\"29.4037\" y=\"176.594\">100</text>\n",
       "</g>\n",
       "<g clip-path=\"url(#clip00)\">\n",
       "<text style=\"fill:#00002d; fill-opacity:1; font-family:Arial,Helvetica Neue,Helvetica,sans-serif; font-size:12; text-anchor:end;\" transform=\"rotate(0, 29.4037, 70.1657)\" x=\"29.4037\" y=\"70.1657\">150</text>\n",
       "</g>\n",
       "<polygon clip-path=\"url(#clip02)\" points=\"\n",
       "46.6072,382.823 46.6072,384.952 79.948,384.952 79.948,382.823 46.6072,382.823 46.6072,382.823 \n",
       "  \" fill=\"#0099ff\" fill-opacity=\"1\"/>\n",
       "<polyline clip-path=\"url(#clip02)\" style=\"stroke:#00002d; stroke-width:0.8; stroke-opacity:1; fill:none\" points=\"\n",
       "  46.6072,382.823 46.6072,384.952 79.948,384.952 79.948,382.823 46.6072,382.823 \n",
       "  \"/>\n",
       "<polygon clip-path=\"url(#clip02)\" points=\"\n",
       "79.948,382.823 79.948,384.952 113.289,384.952 113.289,382.823 79.948,382.823 79.948,382.823 \n",
       "  \" fill=\"#0099ff\" fill-opacity=\"1\"/>\n",
       "<polyline clip-path=\"url(#clip02)\" style=\"stroke:#00002d; stroke-width:0.8; stroke-opacity:1; fill:none\" points=\"\n",
       "  79.948,382.823 79.948,384.952 113.289,384.952 113.289,382.823 79.948,382.823 \n",
       "  \"/>\n",
       "<polygon clip-path=\"url(#clip02)\" points=\"\n",
       "113.289,382.823 113.289,384.952 146.63,384.952 146.63,382.823 113.289,382.823 113.289,382.823 \n",
       "  \" fill=\"#0099ff\" fill-opacity=\"1\"/>\n",
       "<polyline clip-path=\"url(#clip02)\" style=\"stroke:#00002d; stroke-width:0.8; stroke-opacity:1; fill:none\" points=\"\n",
       "  113.289,382.823 113.289,384.952 146.63,384.952 146.63,382.823 113.289,382.823 \n",
       "  \"/>\n",
       "<polygon clip-path=\"url(#clip02)\" points=\"\n",
       "146.63,372.18 146.63,384.952 179.97,384.952 179.97,372.18 146.63,372.18 146.63,372.18 \n",
       "  \" fill=\"#0099ff\" fill-opacity=\"1\"/>\n",
       "<polyline clip-path=\"url(#clip02)\" style=\"stroke:#00002d; stroke-width:0.8; stroke-opacity:1; fill:none\" points=\"\n",
       "  146.63,372.18 146.63,384.952 179.97,384.952 179.97,372.18 146.63,372.18 \n",
       "  \"/>\n",
       "<polygon clip-path=\"url(#clip02)\" points=\"\n",
       "179.97,372.18 179.97,384.952 213.311,384.952 213.311,372.18 179.97,372.18 179.97,372.18 \n",
       "  \" fill=\"#0099ff\" fill-opacity=\"1\"/>\n",
       "<polyline clip-path=\"url(#clip02)\" style=\"stroke:#00002d; stroke-width:0.8; stroke-opacity:1; fill:none\" points=\"\n",
       "  179.97,372.18 179.97,384.952 213.311,384.952 213.311,372.18 179.97,372.18 \n",
       "  \"/>\n",
       "<polygon clip-path=\"url(#clip02)\" points=\"\n",
       "213.311,363.666 213.311,384.952 246.652,384.952 246.652,363.666 213.311,363.666 213.311,363.666 \n",
       "  \" fill=\"#0099ff\" fill-opacity=\"1\"/>\n",
       "<polyline clip-path=\"url(#clip02)\" style=\"stroke:#00002d; stroke-width:0.8; stroke-opacity:1; fill:none\" points=\"\n",
       "  213.311,363.666 213.311,384.952 246.652,384.952 246.652,363.666 213.311,363.666 \n",
       "  \"/>\n",
       "<polygon clip-path=\"url(#clip02)\" points=\"\n",
       "246.652,333.866 246.652,384.952 279.993,384.952 279.993,333.866 246.652,333.866 246.652,333.866 \n",
       "  \" fill=\"#0099ff\" fill-opacity=\"1\"/>\n",
       "<polyline clip-path=\"url(#clip02)\" style=\"stroke:#00002d; stroke-width:0.8; stroke-opacity:1; fill:none\" points=\"\n",
       "  246.652,333.866 246.652,384.952 279.993,384.952 279.993,333.866 246.652,333.866 \n",
       "  \"/>\n",
       "<polygon clip-path=\"url(#clip02)\" points=\"\n",
       "279.993,310.452 279.993,384.952 313.333,384.952 313.333,310.452 279.993,310.452 279.993,310.452 \n",
       "  \" fill=\"#0099ff\" fill-opacity=\"1\"/>\n",
       "<polyline clip-path=\"url(#clip02)\" style=\"stroke:#00002d; stroke-width:0.8; stroke-opacity:1; fill:none\" points=\"\n",
       "  279.993,310.452 279.993,384.952 313.333,384.952 313.333,310.452 279.993,310.452 \n",
       "  \"/>\n",
       "<polygon clip-path=\"url(#clip02)\" points=\"\n",
       "313.333,284.909 313.333,384.952 346.674,384.952 346.674,284.909 313.333,284.909 313.333,284.909 \n",
       "  \" fill=\"#0099ff\" fill-opacity=\"1\"/>\n",
       "<polyline clip-path=\"url(#clip02)\" style=\"stroke:#00002d; stroke-width:0.8; stroke-opacity:1; fill:none\" points=\"\n",
       "  313.333,284.909 313.333,384.952 346.674,384.952 346.674,284.909 313.333,284.909 \n",
       "  \"/>\n",
       "<polygon clip-path=\"url(#clip02)\" points=\"\n",
       "346.674,218.923 346.674,384.952 380.015,384.952 380.015,218.923 346.674,218.923 346.674,218.923 \n",
       "  \" fill=\"#0099ff\" fill-opacity=\"1\"/>\n",
       "<polyline clip-path=\"url(#clip02)\" style=\"stroke:#00002d; stroke-width:0.8; stroke-opacity:1; fill:none\" points=\"\n",
       "  346.674,218.923 346.674,384.952 380.015,384.952 380.015,218.923 346.674,218.923 \n",
       "  \"/>\n",
       "<polygon clip-path=\"url(#clip02)\" points=\"\n",
       "380.015,180.609 380.015,384.952 413.356,384.952 413.356,180.609 380.015,180.609 380.015,180.609 \n",
       "  \" fill=\"#0099ff\" fill-opacity=\"1\"/>\n",
       "<polyline clip-path=\"url(#clip02)\" style=\"stroke:#00002d; stroke-width:0.8; stroke-opacity:1; fill:none\" points=\"\n",
       "  380.015,180.609 380.015,384.952 413.356,384.952 413.356,180.609 380.015,180.609 \n",
       "  \"/>\n",
       "<polygon clip-path=\"url(#clip02)\" points=\"\n",
       "413.356,186.994 413.356,384.952 446.696,384.952 446.696,186.994 413.356,186.994 413.356,186.994 \n",
       "  \" fill=\"#0099ff\" fill-opacity=\"1\"/>\n",
       "<polyline clip-path=\"url(#clip02)\" style=\"stroke:#00002d; stroke-width:0.8; stroke-opacity:1; fill:none\" points=\"\n",
       "  413.356,186.994 413.356,384.952 446.696,384.952 446.696,186.994 413.356,186.994 \n",
       "  \"/>\n",
       "<polygon clip-path=\"url(#clip02)\" points=\"\n",
       "446.696,76.3085 446.696,384.952 480.037,384.952 480.037,76.3085 446.696,76.3085 446.696,76.3085 \n",
       "  \" fill=\"#0099ff\" fill-opacity=\"1\"/>\n",
       "<polyline clip-path=\"url(#clip02)\" style=\"stroke:#00002d; stroke-width:0.8; stroke-opacity:1; fill:none\" points=\"\n",
       "  446.696,76.3085 446.696,384.952 480.037,384.952 480.037,76.3085 446.696,76.3085 \n",
       "  \"/>\n",
       "<polygon clip-path=\"url(#clip02)\" points=\"\n",
       "480.037,74.18 480.037,384.952 513.378,384.952 513.378,74.18 480.037,74.18 480.037,74.18 \n",
       "  \" fill=\"#0099ff\" fill-opacity=\"1\"/>\n",
       "<polyline clip-path=\"url(#clip02)\" style=\"stroke:#00002d; stroke-width:0.8; stroke-opacity:1; fill:none\" points=\"\n",
       "  480.037,74.18 480.037,384.952 513.378,384.952 513.378,74.18 480.037,74.18 \n",
       "  \"/>\n",
       "<polygon clip-path=\"url(#clip02)\" points=\"\n",
       "513.378,103.98 513.378,384.952 546.719,384.952 546.719,103.98 513.378,103.98 513.378,103.98 \n",
       "  \" fill=\"#0099ff\" fill-opacity=\"1\"/>\n",
       "<polyline clip-path=\"url(#clip02)\" style=\"stroke:#00002d; stroke-width:0.8; stroke-opacity:1; fill:none\" points=\"\n",
       "  513.378,103.98 513.378,384.952 546.719,384.952 546.719,103.98 513.378,103.98 \n",
       "  \"/>\n",
       "<polygon clip-path=\"url(#clip02)\" points=\"\n",
       "546.719,3.93701 546.719,384.952 580.059,384.952 580.059,3.93701 546.719,3.93701 546.719,3.93701 \n",
       "  \" fill=\"#0099ff\" fill-opacity=\"1\"/>\n",
       "<polyline clip-path=\"url(#clip02)\" style=\"stroke:#00002d; stroke-width:0.8; stroke-opacity:1; fill:none\" points=\"\n",
       "  546.719,3.93701 546.719,384.952 580.059,384.952 580.059,3.93701 546.719,3.93701 \n",
       "  \"/>\n",
       "</svg>\n"
      ]
     },
     "execution_count": 40,
     "metadata": {},
     "output_type": "execute_result"
    }
   ],
   "source": [
    "histogram(tmp, bins=1940:3:1990)"
   ]
  },
  {
   "cell_type": "code",
   "execution_count": 41,
   "metadata": {
    "collapsed": false
   },
   "outputs": [],
   "source": [
    "Birthday = Vector{Date}(N)\n",
    "for i in 1:N\n",
    "    Birthday[i] = Date(tmp[i], randday()...)\n",
    "end"
   ]
  },
  {
   "cell_type": "code",
   "execution_count": 42,
   "metadata": {
    "collapsed": false
   },
   "outputs": [
    {
     "data": {
      "text/plain": [
       "1000-element Array{Date,1}:\n",
       " 1984-08-30\n",
       " 1978-12-15\n",
       " 1982-10-09\n",
       " 1980-08-15\n",
       " 1980-01-12\n",
       " 1974-03-04\n",
       " 1987-06-23\n",
       " 1976-04-21\n",
       " 1979-04-21\n",
       " 1980-05-16\n",
       " 1977-01-08\n",
       " 1982-03-21\n",
       " 1967-03-16\n",
       " ⋮         \n",
       " 1983-10-26\n",
       " 1972-12-11\n",
       " 1977-11-18\n",
       " 1989-12-13\n",
       " 1979-06-12\n",
       " 1984-05-24\n",
       " 1974-07-02\n",
       " 1986-11-20\n",
       " 1982-11-15\n",
       " 1982-12-13\n",
       " 1980-03-24\n",
       " 1989-05-01"
      ]
     },
     "execution_count": 42,
     "metadata": {},
     "output_type": "execute_result"
    }
   ],
   "source": [
    "Birthday"
   ]
  },
  {
   "cell_type": "code",
   "execution_count": 43,
   "metadata": {
    "collapsed": false
   },
   "outputs": [
    {
     "data": {
      "text/html": [
       "<table class=\"data-frame\"><thead><tr><th></th><th>ID</th><th>Sex</th><th>Birthday</th></tr></thead><tbody><tr><th>1</th><td>1</td><td>female</td><td>1984-08-30</td></tr><tr><th>2</th><td>2</td><td>F</td><td>1978-12-15</td></tr><tr><th>3</th><td>3</td><td>Male</td><td>1982-10-09</td></tr><tr><th>4</th><td>4</td><td>Male</td><td>1980-08-15</td></tr><tr><th>5</th><td>5</td><td>F</td><td>1980-01-12</td></tr><tr><th>6</th><td>6</td><td>male</td><td>1974-03-04</td></tr><tr><th>7</th><td>7</td><td>female</td><td>1987-06-23</td></tr><tr><th>8</th><td>8</td><td>M</td><td>1976-04-21</td></tr><tr><th>9</th><td>9</td><td>F</td><td>1979-04-21</td></tr><tr><th>10</th><td>10</td><td>F</td><td>1980-05-16</td></tr><tr><th>11</th><td>11</td><td>Female</td><td>1977-01-08</td></tr><tr><th>12</th><td>12</td><td>Male</td><td>1982-03-21</td></tr><tr><th>13</th><td>13</td><td>female</td><td>1967-03-16</td></tr><tr><th>14</th><td>14</td><td>M</td><td>1973-04-28</td></tr><tr><th>15</th><td>15</td><td>Male</td><td>1974-08-07</td></tr><tr><th>16</th><td>16</td><td>F</td><td>1961-04-17</td></tr><tr><th>17</th><td>17</td><td>Female</td><td>1985-09-22</td></tr><tr><th>18</th><td>18</td><td>M</td><td>1984-08-17</td></tr><tr><th>19</th><td>19</td><td>Female</td><td>1982-03-14</td></tr><tr><th>20</th><td>20</td><td>M</td><td>1970-11-20</td></tr><tr><th>21</th><td>21</td><td>F</td><td>1962-05-13</td></tr><tr><th>22</th><td>22</td><td>Male</td><td>1987-04-13</td></tr><tr><th>23</th><td>23</td><td>Female</td><td>1975-09-05</td></tr><tr><th>24</th><td>24</td><td>female</td><td>1962-07-06</td></tr><tr><th>25</th><td>25</td><td>male</td><td>1977-09-13</td></tr><tr><th>26</th><td>26</td><td>F</td><td>1988-08-23</td></tr><tr><th>27</th><td>27</td><td>Female</td><td>1989-05-06</td></tr><tr><th>28</th><td>28</td><td>Female</td><td>1984-03-07</td></tr><tr><th>29</th><td>29</td><td>male</td><td>1972-07-23</td></tr><tr><th>30</th><td>30</td><td>Male</td><td>1981-11-22</td></tr><tr><th>&vellip;</th><td>&vellip;</td><td>&vellip;</td><td>&vellip;</td></tr></tbody></table>"
      ],
      "text/plain": [
       "1000×3 DataFrames.DataFrame\n",
       "│ Row  │ ID   │ Sex      │ Birthday   │\n",
       "├──────┼──────┼──────────┼────────────┤\n",
       "│ 1    │ 1    │ \"female\" │ 1984-08-30 │\n",
       "│ 2    │ 2    │ \"F\"      │ 1978-12-15 │\n",
       "│ 3    │ 3    │ \"Male\"   │ 1982-10-09 │\n",
       "│ 4    │ 4    │ \"Male\"   │ 1980-08-15 │\n",
       "│ 5    │ 5    │ \"F\"      │ 1980-01-12 │\n",
       "│ 6    │ 6    │ \"male\"   │ 1974-03-04 │\n",
       "│ 7    │ 7    │ \"female\" │ 1987-06-23 │\n",
       "│ 8    │ 8    │ \"M\"      │ 1976-04-21 │\n",
       "│ 9    │ 9    │ \"F\"      │ 1979-04-21 │\n",
       "│ 10   │ 10   │ \"F\"      │ 1980-05-16 │\n",
       "│ 11   │ 11   │ \"Female\" │ 1977-01-08 │\n",
       "⋮\n",
       "│ 989  │ 989  │ \"female\" │ 1983-10-26 │\n",
       "│ 990  │ 990  │ \"female\" │ 1972-12-11 │\n",
       "│ 991  │ 991  │ \"male\"   │ 1977-11-18 │\n",
       "│ 992  │ 992  │ \"F\"      │ 1989-12-13 │\n",
       "│ 993  │ 993  │ \"Female\" │ 1979-06-12 │\n",
       "│ 994  │ 994  │ \"male\"   │ 1984-05-24 │\n",
       "│ 995  │ 995  │ \"female\" │ 1974-07-02 │\n",
       "│ 996  │ 996  │ \"female\" │ 1986-11-20 │\n",
       "│ 997  │ 997  │ \"Female\" │ 1982-11-15 │\n",
       "│ 998  │ 998  │ \"male\"   │ 1982-12-13 │\n",
       "│ 999  │ 999  │ \"Male\"   │ 1980-03-24 │\n",
       "│ 1000 │ 1000 │ \"male\"   │ 1989-05-01 │"
      ]
     },
     "execution_count": 43,
     "metadata": {},
     "output_type": "execute_result"
    }
   ],
   "source": [
    "DataFrame(ID = 1:N, Sex = Sex, Birthday = Birthday)"
   ]
  },
  {
   "cell_type": "code",
   "execution_count": 44,
   "metadata": {
    "collapsed": false
   },
   "outputs": [
    {
     "data": {
      "text/html": [
       "<table class=\"data-frame\"><thead><tr><th></th><th>ID</th><th>Sex</th><th>Birthday</th></tr></thead><tbody><tr><th>1</th><td>1</td><td>female</td><td>1984-08-30</td></tr><tr><th>2</th><td>2</td><td>F</td><td>1978-12-15</td></tr><tr><th>3</th><td>3</td><td>Male</td><td>1982-10-09</td></tr><tr><th>4</th><td>4</td><td>Male</td><td>1980-08-15</td></tr><tr><th>5</th><td>5</td><td>F</td><td>1980-01-12</td></tr><tr><th>6</th><td>6</td><td>male</td><td>1974-03-04</td></tr></tbody></table>"
      ],
      "text/plain": [
       "6×3 DataFrames.DataFrame\n",
       "│ Row │ ID │ Sex      │ Birthday   │\n",
       "├─────┼────┼──────────┼────────────┤\n",
       "│ 1   │ 1  │ \"female\" │ 1984-08-30 │\n",
       "│ 2   │ 2  │ \"F\"      │ 1978-12-15 │\n",
       "│ 3   │ 3  │ \"Male\"   │ 1982-10-09 │\n",
       "│ 4   │ 4  │ \"Male\"   │ 1980-08-15 │\n",
       "│ 5   │ 5  │ \"F\"      │ 1980-01-12 │\n",
       "│ 6   │ 6  │ \"male\"   │ 1974-03-04 │"
      ]
     },
     "execution_count": 44,
     "metadata": {},
     "output_type": "execute_result"
    }
   ],
   "source": [
    "people = DataFrame(ID = 1:N, Sex = Sex, Birthday = Birthday)\n",
    "head(people)"
   ]
  },
  {
   "cell_type": "code",
   "execution_count": 45,
   "metadata": {
    "collapsed": true
   },
   "outputs": [],
   "source": [
    "writetable(\"people.csv\", people)"
   ]
  },
  {
   "cell_type": "code",
   "execution_count": null,
   "metadata": {
    "collapsed": true
   },
   "outputs": [],
   "source": []
  },
  {
   "cell_type": "code",
   "execution_count": null,
   "metadata": {
    "collapsed": true
   },
   "outputs": [],
   "source": []
  },
  {
   "cell_type": "code",
   "execution_count": 46,
   "metadata": {
    "collapsed": false
   },
   "outputs": [
    {
     "data": {
      "text/html": [
       "<table class=\"data-frame\"><thead><tr><th></th><th>ID</th><th>Sex</th><th>Birthday</th><th>Age</th></tr></thead><tbody><tr><th>1</th><td>1</td><td>female</td><td>1984-08-30</td><td>34</td></tr><tr><th>2</th><td>2</td><td>F</td><td>1978-12-15</td><td>40</td></tr><tr><th>3</th><td>3</td><td>Male</td><td>1982-10-09</td><td>36</td></tr><tr><th>4</th><td>4</td><td>Male</td><td>1980-08-15</td><td>38</td></tr><tr><th>5</th><td>5</td><td>F</td><td>1980-01-12</td><td>38</td></tr><tr><th>6</th><td>6</td><td>male</td><td>1974-03-04</td><td>44</td></tr></tbody></table>"
      ],
      "text/plain": [
       "6×4 DataFrames.DataFrame\n",
       "│ Row │ ID │ Sex      │ Birthday   │ Age │\n",
       "├─────┼────┼──────────┼────────────┼─────┤\n",
       "│ 1   │ 1  │ \"female\" │ 1984-08-30 │ 34  │\n",
       "│ 2   │ 2  │ \"F\"      │ 1978-12-15 │ 40  │\n",
       "│ 3   │ 3  │ \"Male\"   │ 1982-10-09 │ 36  │\n",
       "│ 4   │ 4  │ \"Male\"   │ 1980-08-15 │ 38  │\n",
       "│ 5   │ 5  │ \"F\"      │ 1980-01-12 │ 38  │\n",
       "│ 6   │ 6  │ \"male\"   │ 1974-03-04 │ 44  │"
      ]
     },
     "execution_count": 46,
     "metadata": {},
     "output_type": "execute_result"
    }
   ],
   "source": [
    "people[:Age] = Dates.year(now()) - Dates.year(people[:Birthday]) + 1\n",
    "head(people)"
   ]
  },
  {
   "cell_type": "code",
   "execution_count": 47,
   "metadata": {
    "collapsed": false
   },
   "outputs": [
    {
     "data": {
      "text/plain": [
       "28:76"
      ]
     },
     "execution_count": 47,
     "metadata": {},
     "output_type": "execute_result"
    }
   ],
   "source": [
    "span(people[:Age])"
   ]
  },
  {
   "cell_type": "code",
   "execution_count": 48,
   "metadata": {
    "collapsed": false
   },
   "outputs": [
    {
     "data": {
      "text/plain": [
       "11-element Array{Float64,1}:\n",
       "  1.0\n",
       "  1.9\n",
       "  2.8\n",
       "  3.7\n",
       "  4.6\n",
       "  5.5\n",
       "  6.4\n",
       "  7.3\n",
       "  8.2\n",
       "  9.1\n",
       " 10.0"
      ]
     },
     "execution_count": 48,
     "metadata": {},
     "output_type": "execute_result"
    }
   ],
   "source": [
    "1.0:0.9:10 |> collect"
   ]
  },
  {
   "cell_type": "code",
   "execution_count": 49,
   "metadata": {
    "collapsed": false
   },
   "outputs": [],
   "source": [
    "Satisfaction = Vector{Int}(N);\n",
    "for i in 1:N\n",
    "    weight = []\n",
    "    if people[:Age][i] in 28:38\n",
    "        weight = [1, 1, 2, 1, 1]\n",
    "    elseif people[:Age][i] in 39:46\n",
    "        weight = [1, 1, 1, 1, 1]\n",
    "    elseif people[:Age][i] in 47:54\n",
    "        weight = 1.0:0.5:3.0\n",
    "    elseif people[:Age][i] in 55:62\n",
    "        weight = 1.0:0.8:4.2\n",
    "    elseif people[:Age][i] in 63:70\n",
    "        weight = 1.0:0.9:4.6\n",
    "    else\n",
    "        weight = 1:5\n",
    "    end\n",
    "    \n",
    "    Satisfaction[i] = sample(5:-1:1, WeightVec(weight), 1)[1]\n",
    "end"
   ]
  },
  {
   "cell_type": "code",
   "execution_count": 51,
   "metadata": {
    "collapsed": false
   },
   "outputs": [
    {
     "data": {
      "text/html": [
       "<?xml version=\"1.0\" encoding=\"utf-8\"?>\n",
       "<svg xmlns=\"http://www.w3.org/2000/svg\" xmlns:xlink=\"http://www.w3.org/1999/xlink\" width=\"600\" height=\"400\" viewBox=\"0 0 600 400\">\n",
       "<defs>\n",
       "  <clipPath id=\"clip00\">\n",
       "    <rect x=\"0\" y=\"0\" width=\"600\" height=\"400\"/>\n",
       "  </clipPath>\n",
       "</defs>\n",
       "<polygon clip-path=\"url(#clip00)\" points=\"\n",
       "0,400 600,400 600,0 0,0 \n",
       "  \" fill=\"#ffffff\" fill-opacity=\"1\"/>\n",
       "<defs>\n",
       "  <clipPath id=\"clip01\">\n",
       "    <rect x=\"120\" y=\"0\" width=\"421\" height=\"400\"/>\n",
       "  </clipPath>\n",
       "</defs>\n",
       "<polygon clip-path=\"url(#clip00)\" points=\"\n",
       "30.6037,384.952 596.063,384.952 596.063,3.93701 30.6037,3.93701 \n",
       "  \" fill=\"#ffffff\" fill-opacity=\"1\"/>\n",
       "<defs>\n",
       "  <clipPath id=\"clip02\">\n",
       "    <rect x=\"30\" y=\"3\" width=\"566\" height=\"382\"/>\n",
       "  </clipPath>\n",
       "</defs>\n",
       "<polyline clip-path=\"url(#clip02)\" style=\"stroke:#00002d; stroke-width:0.8; stroke-opacity:0.5; fill:none\" stroke-dasharray=\"1, 2\" points=\"\n",
       "  46.6072,379.237 46.6072,9.65223 \n",
       "  \"/>\n",
       "<polyline clip-path=\"url(#clip02)\" style=\"stroke:#00002d; stroke-width:0.8; stroke-opacity:0.5; fill:none\" stroke-dasharray=\"1, 2\" points=\"\n",
       "  179.97,379.237 179.97,9.65223 \n",
       "  \"/>\n",
       "<polyline clip-path=\"url(#clip02)\" style=\"stroke:#00002d; stroke-width:0.8; stroke-opacity:0.5; fill:none\" stroke-dasharray=\"1, 2\" points=\"\n",
       "  313.333,379.237 313.333,9.65223 \n",
       "  \"/>\n",
       "<polyline clip-path=\"url(#clip02)\" style=\"stroke:#00002d; stroke-width:0.8; stroke-opacity:0.5; fill:none\" stroke-dasharray=\"1, 2\" points=\"\n",
       "  446.696,379.237 446.696,9.65223 \n",
       "  \"/>\n",
       "<polyline clip-path=\"url(#clip02)\" style=\"stroke:#00002d; stroke-width:0.8; stroke-opacity:0.5; fill:none\" stroke-dasharray=\"1, 2\" points=\"\n",
       "  580.059,379.237 580.059,9.65223 \n",
       "  \"/>\n",
       "<polyline clip-path=\"url(#clip02)\" style=\"stroke:#00002d; stroke-width:0.8; stroke-opacity:0.5; fill:none\" stroke-dasharray=\"1, 2\" points=\"\n",
       "  39.0856,384.952 587.581,384.952 \n",
       "  \"/>\n",
       "<polyline clip-path=\"url(#clip02)\" style=\"stroke:#00002d; stroke-width:0.8; stroke-opacity:0.5; fill:none\" stroke-dasharray=\"1, 2\" points=\"\n",
       "  39.0856,238.969 587.581,238.969 \n",
       "  \"/>\n",
       "<polyline clip-path=\"url(#clip02)\" style=\"stroke:#00002d; stroke-width:0.8; stroke-opacity:0.5; fill:none\" stroke-dasharray=\"1, 2\" points=\"\n",
       "  39.0856,92.9865 587.581,92.9865 \n",
       "  \"/>\n",
       "<polyline clip-path=\"url(#clip02)\" style=\"stroke:#00002d; stroke-width:0.8; stroke-opacity:1; fill:none\" points=\"\n",
       "  30.6037,384.952 596.063,384.952 \n",
       "  \"/>\n",
       "<polyline clip-path=\"url(#clip02)\" style=\"stroke:#00002d; stroke-width:0.8; stroke-opacity:1; fill:none\" points=\"\n",
       "  46.6072,384.952 46.6072,379.237 \n",
       "  \"/>\n",
       "<polyline clip-path=\"url(#clip02)\" style=\"stroke:#00002d; stroke-width:0.8; stroke-opacity:1; fill:none\" points=\"\n",
       "  179.97,384.952 179.97,379.237 \n",
       "  \"/>\n",
       "<polyline clip-path=\"url(#clip02)\" style=\"stroke:#00002d; stroke-width:0.8; stroke-opacity:1; fill:none\" points=\"\n",
       "  313.333,384.952 313.333,379.237 \n",
       "  \"/>\n",
       "<polyline clip-path=\"url(#clip02)\" style=\"stroke:#00002d; stroke-width:0.8; stroke-opacity:1; fill:none\" points=\"\n",
       "  446.696,384.952 446.696,379.237 \n",
       "  \"/>\n",
       "<polyline clip-path=\"url(#clip02)\" style=\"stroke:#00002d; stroke-width:0.8; stroke-opacity:1; fill:none\" points=\"\n",
       "  580.059,384.952 580.059,379.237 \n",
       "  \"/>\n",
       "<polyline clip-path=\"url(#clip02)\" style=\"stroke:#00002d; stroke-width:0.8; stroke-opacity:1; fill:none\" points=\"\n",
       "  30.6037,384.952 30.6037,3.93701 \n",
       "  \"/>\n",
       "<polyline clip-path=\"url(#clip02)\" style=\"stroke:#00002d; stroke-width:0.8; stroke-opacity:1; fill:none\" points=\"\n",
       "  30.6037,384.952 39.0856,384.952 \n",
       "  \"/>\n",
       "<polyline clip-path=\"url(#clip02)\" style=\"stroke:#00002d; stroke-width:0.8; stroke-opacity:1; fill:none\" points=\"\n",
       "  30.6037,238.969 39.0856,238.969 \n",
       "  \"/>\n",
       "<polyline clip-path=\"url(#clip02)\" style=\"stroke:#00002d; stroke-width:0.8; stroke-opacity:1; fill:none\" points=\"\n",
       "  30.6037,92.9865 39.0856,92.9865 \n",
       "  \"/>\n",
       "<g clip-path=\"url(#clip00)\">\n",
       "<text style=\"fill:#00002d; fill-opacity:1; font-family:Arial,Helvetica Neue,Helvetica,sans-serif; font-size:12; text-anchor:middle;\" transform=\"rotate(0, 46.6072, 396.952)\" x=\"46.6072\" y=\"396.952\">1</text>\n",
       "</g>\n",
       "<g clip-path=\"url(#clip00)\">\n",
       "<text style=\"fill:#00002d; fill-opacity:1; font-family:Arial,Helvetica Neue,Helvetica,sans-serif; font-size:12; text-anchor:middle;\" transform=\"rotate(0, 179.97, 396.952)\" x=\"179.97\" y=\"396.952\">2</text>\n",
       "</g>\n",
       "<g clip-path=\"url(#clip00)\">\n",
       "<text style=\"fill:#00002d; fill-opacity:1; font-family:Arial,Helvetica Neue,Helvetica,sans-serif; font-size:12; text-anchor:middle;\" transform=\"rotate(0, 313.333, 396.952)\" x=\"313.333\" y=\"396.952\">3</text>\n",
       "</g>\n",
       "<g clip-path=\"url(#clip00)\">\n",
       "<text style=\"fill:#00002d; fill-opacity:1; font-family:Arial,Helvetica Neue,Helvetica,sans-serif; font-size:12; text-anchor:middle;\" transform=\"rotate(0, 446.696, 396.952)\" x=\"446.696\" y=\"396.952\">4</text>\n",
       "</g>\n",
       "<g clip-path=\"url(#clip00)\">\n",
       "<text style=\"fill:#00002d; fill-opacity:1; font-family:Arial,Helvetica Neue,Helvetica,sans-serif; font-size:12; text-anchor:middle;\" transform=\"rotate(0, 580.059, 396.952)\" x=\"580.059\" y=\"396.952\">5</text>\n",
       "</g>\n",
       "<g clip-path=\"url(#clip00)\">\n",
       "<text style=\"fill:#00002d; fill-opacity:1; font-family:Arial,Helvetica Neue,Helvetica,sans-serif; font-size:12; text-anchor:end;\" transform=\"rotate(0, 29.4037, 389.452)\" x=\"29.4037\" y=\"389.452\">0</text>\n",
       "</g>\n",
       "<g clip-path=\"url(#clip00)\">\n",
       "<text style=\"fill:#00002d; fill-opacity:1; font-family:Arial,Helvetica Neue,Helvetica,sans-serif; font-size:12; text-anchor:end;\" transform=\"rotate(0, 29.4037, 243.469)\" x=\"29.4037\" y=\"243.469\">100</text>\n",
       "</g>\n",
       "<g clip-path=\"url(#clip00)\">\n",
       "<text style=\"fill:#00002d; fill-opacity:1; font-family:Arial,Helvetica Neue,Helvetica,sans-serif; font-size:12; text-anchor:end;\" transform=\"rotate(0, 29.4037, 97.4865)\" x=\"29.4037\" y=\"97.4865\">200</text>\n",
       "</g>\n",
       "<polygon clip-path=\"url(#clip02)\" points=\"\n",
       "46.6072,56.4908 46.6072,384.952 64.389,384.952 64.389,56.4908 46.6072,56.4908 46.6072,56.4908 \n",
       "  \" fill=\"#0099ff\" fill-opacity=\"1\"/>\n",
       "<polyline clip-path=\"url(#clip02)\" style=\"stroke:#00002d; stroke-width:0.8; stroke-opacity:1; fill:none\" points=\"\n",
       "  46.6072,56.4908 46.6072,384.952 64.389,384.952 64.389,56.4908 46.6072,56.4908 \n",
       "  \"/>\n",
       "<polygon clip-path=\"url(#clip02)\" points=\"\n",
       "64.389,384.952 64.389,384.952 82.1707,384.952 82.1707,384.952 64.389,384.952 64.389,384.952 \n",
       "  \" fill=\"#0099ff\" fill-opacity=\"1\"/>\n",
       "<polyline clip-path=\"url(#clip02)\" style=\"stroke:#00002d; stroke-width:0.8; stroke-opacity:1; fill:none\" points=\"\n",
       "  64.389,384.952 64.389,384.952 82.1707,384.952 64.389,384.952 \n",
       "  \"/>\n",
       "<polygon clip-path=\"url(#clip02)\" points=\"\n",
       "82.1707,384.952 82.1707,384.952 99.9525,384.952 99.9525,384.952 82.1707,384.952 82.1707,384.952 \n",
       "  \" fill=\"#0099ff\" fill-opacity=\"1\"/>\n",
       "<polyline clip-path=\"url(#clip02)\" style=\"stroke:#00002d; stroke-width:0.8; stroke-opacity:1; fill:none\" points=\"\n",
       "  82.1707,384.952 82.1707,384.952 99.9525,384.952 82.1707,384.952 \n",
       "  \"/>\n",
       "<polygon clip-path=\"url(#clip02)\" points=\"\n",
       "99.9525,384.952 99.9525,384.952 117.734,384.952 117.734,384.952 99.9525,384.952 99.9525,384.952 \n",
       "  \" fill=\"#0099ff\" fill-opacity=\"1\"/>\n",
       "<polyline clip-path=\"url(#clip02)\" style=\"stroke:#00002d; stroke-width:0.8; stroke-opacity:1; fill:none\" points=\"\n",
       "  99.9525,384.952 99.9525,384.952 117.734,384.952 99.9525,384.952 \n",
       "  \"/>\n",
       "<polygon clip-path=\"url(#clip02)\" points=\"\n",
       "117.734,384.952 117.734,384.952 135.516,384.952 135.516,384.952 117.734,384.952 117.734,384.952 \n",
       "  \" fill=\"#0099ff\" fill-opacity=\"1\"/>\n",
       "<polyline clip-path=\"url(#clip02)\" style=\"stroke:#00002d; stroke-width:0.8; stroke-opacity:1; fill:none\" points=\"\n",
       "  117.734,384.952 117.734,384.952 135.516,384.952 117.734,384.952 \n",
       "  \"/>\n",
       "<polygon clip-path=\"url(#clip02)\" points=\"\n",
       "135.516,384.952 135.516,384.952 153.298,384.952 153.298,384.952 135.516,384.952 135.516,384.952 \n",
       "  \" fill=\"#0099ff\" fill-opacity=\"1\"/>\n",
       "<polyline clip-path=\"url(#clip02)\" style=\"stroke:#00002d; stroke-width:0.8; stroke-opacity:1; fill:none\" points=\"\n",
       "  135.516,384.952 135.516,384.952 153.298,384.952 135.516,384.952 \n",
       "  \"/>\n",
       "<polygon clip-path=\"url(#clip02)\" points=\"\n",
       "153.298,384.952 153.298,384.952 171.079,384.952 171.079,384.952 153.298,384.952 153.298,384.952 \n",
       "  \" fill=\"#0099ff\" fill-opacity=\"1\"/>\n",
       "<polyline clip-path=\"url(#clip02)\" style=\"stroke:#00002d; stroke-width:0.8; stroke-opacity:1; fill:none\" points=\"\n",
       "  153.298,384.952 153.298,384.952 171.079,384.952 153.298,384.952 \n",
       "  \"/>\n",
       "<polygon clip-path=\"url(#clip02)\" points=\"\n",
       "171.079,81.3078 171.079,384.952 188.861,384.952 188.861,81.3078 171.079,81.3078 171.079,81.3078 \n",
       "  \" fill=\"#0099ff\" fill-opacity=\"1\"/>\n",
       "<polyline clip-path=\"url(#clip02)\" style=\"stroke:#00002d; stroke-width:0.8; stroke-opacity:1; fill:none\" points=\"\n",
       "  171.079,81.3078 171.079,384.952 188.861,384.952 188.861,81.3078 171.079,81.3078 \n",
       "  \"/>\n",
       "<polygon clip-path=\"url(#clip02)\" points=\"\n",
       "188.861,384.952 188.861,384.952 206.643,384.952 206.643,384.952 188.861,384.952 188.861,384.952 \n",
       "  \" fill=\"#0099ff\" fill-opacity=\"1\"/>\n",
       "<polyline clip-path=\"url(#clip02)\" style=\"stroke:#00002d; stroke-width:0.8; stroke-opacity:1; fill:none\" points=\"\n",
       "  188.861,384.952 188.861,384.952 206.643,384.952 188.861,384.952 \n",
       "  \"/>\n",
       "<polygon clip-path=\"url(#clip02)\" points=\"\n",
       "206.643,384.952 206.643,384.952 224.425,384.952 224.425,384.952 206.643,384.952 206.643,384.952 \n",
       "  \" fill=\"#0099ff\" fill-opacity=\"1\"/>\n",
       "<polyline clip-path=\"url(#clip02)\" style=\"stroke:#00002d; stroke-width:0.8; stroke-opacity:1; fill:none\" points=\"\n",
       "  206.643,384.952 206.643,384.952 224.425,384.952 206.643,384.952 \n",
       "  \"/>\n",
       "<polygon clip-path=\"url(#clip02)\" points=\"\n",
       "224.425,384.952 224.425,384.952 242.206,384.952 242.206,384.952 224.425,384.952 224.425,384.952 \n",
       "  \" fill=\"#0099ff\" fill-opacity=\"1\"/>\n",
       "<polyline clip-path=\"url(#clip02)\" style=\"stroke:#00002d; stroke-width:0.8; stroke-opacity:1; fill:none\" points=\"\n",
       "  224.425,384.952 224.425,384.952 242.206,384.952 224.425,384.952 \n",
       "  \"/>\n",
       "<polygon clip-path=\"url(#clip02)\" points=\"\n",
       "242.206,384.952 242.206,384.952 259.988,384.952 259.988,384.952 242.206,384.952 242.206,384.952 \n",
       "  \" fill=\"#0099ff\" fill-opacity=\"1\"/>\n",
       "<polyline clip-path=\"url(#clip02)\" style=\"stroke:#00002d; stroke-width:0.8; stroke-opacity:1; fill:none\" points=\"\n",
       "  242.206,384.952 242.206,384.952 259.988,384.952 242.206,384.952 \n",
       "  \"/>\n",
       "<polygon clip-path=\"url(#clip02)\" points=\"\n",
       "259.988,384.952 259.988,384.952 277.77,384.952 277.77,384.952 259.988,384.952 259.988,384.952 \n",
       "  \" fill=\"#0099ff\" fill-opacity=\"1\"/>\n",
       "<polyline clip-path=\"url(#clip02)\" style=\"stroke:#00002d; stroke-width:0.8; stroke-opacity:1; fill:none\" points=\"\n",
       "  259.988,384.952 259.988,384.952 277.77,384.952 259.988,384.952 \n",
       "  \"/>\n",
       "<polygon clip-path=\"url(#clip02)\" points=\"\n",
       "277.77,384.952 277.77,384.952 295.552,384.952 295.552,384.952 277.77,384.952 277.77,384.952 \n",
       "  \" fill=\"#0099ff\" fill-opacity=\"1\"/>\n",
       "<polyline clip-path=\"url(#clip02)\" style=\"stroke:#00002d; stroke-width:0.8; stroke-opacity:1; fill:none\" points=\"\n",
       "  277.77,384.952 277.77,384.952 295.552,384.952 277.77,384.952 \n",
       "  \"/>\n",
       "<polygon clip-path=\"url(#clip02)\" points=\"\n",
       "295.552,3.93701 295.552,384.952 313.333,384.952 313.333,3.93701 295.552,3.93701 295.552,3.93701 \n",
       "  \" fill=\"#0099ff\" fill-opacity=\"1\"/>\n",
       "<polyline clip-path=\"url(#clip02)\" style=\"stroke:#00002d; stroke-width:0.8; stroke-opacity:1; fill:none\" points=\"\n",
       "  295.552,3.93701 295.552,384.952 313.333,384.952 313.333,3.93701 295.552,3.93701 \n",
       "  \"/>\n",
       "<polygon clip-path=\"url(#clip02)\" points=\"\n",
       "313.333,384.952 313.333,384.952 331.115,384.952 331.115,384.952 313.333,384.952 313.333,384.952 \n",
       "  \" fill=\"#0099ff\" fill-opacity=\"1\"/>\n",
       "<polyline clip-path=\"url(#clip02)\" style=\"stroke:#00002d; stroke-width:0.8; stroke-opacity:1; fill:none\" points=\"\n",
       "  313.333,384.952 313.333,384.952 331.115,384.952 313.333,384.952 \n",
       "  \"/>\n",
       "<polygon clip-path=\"url(#clip02)\" points=\"\n",
       "331.115,384.952 331.115,384.952 348.897,384.952 348.897,384.952 331.115,384.952 331.115,384.952 \n",
       "  \" fill=\"#0099ff\" fill-opacity=\"1\"/>\n",
       "<polyline clip-path=\"url(#clip02)\" style=\"stroke:#00002d; stroke-width:0.8; stroke-opacity:1; fill:none\" points=\"\n",
       "  331.115,384.952 331.115,384.952 348.897,384.952 331.115,384.952 \n",
       "  \"/>\n",
       "<polygon clip-path=\"url(#clip02)\" points=\"\n",
       "348.897,384.952 348.897,384.952 366.679,384.952 366.679,384.952 348.897,384.952 348.897,384.952 \n",
       "  \" fill=\"#0099ff\" fill-opacity=\"1\"/>\n",
       "<polyline clip-path=\"url(#clip02)\" style=\"stroke:#00002d; stroke-width:0.8; stroke-opacity:1; fill:none\" points=\"\n",
       "  348.897,384.952 348.897,384.952 366.679,384.952 348.897,384.952 \n",
       "  \"/>\n",
       "<polygon clip-path=\"url(#clip02)\" points=\"\n",
       "366.679,384.952 366.679,384.952 384.46,384.952 384.46,384.952 366.679,384.952 366.679,384.952 \n",
       "  \" fill=\"#0099ff\" fill-opacity=\"1\"/>\n",
       "<polyline clip-path=\"url(#clip02)\" style=\"stroke:#00002d; stroke-width:0.8; stroke-opacity:1; fill:none\" points=\"\n",
       "  366.679,384.952 366.679,384.952 384.46,384.952 366.679,384.952 \n",
       "  \"/>\n",
       "<polygon clip-path=\"url(#clip02)\" points=\"\n",
       "384.46,384.952 384.46,384.952 402.242,384.952 402.242,384.952 384.46,384.952 384.46,384.952 \n",
       "  \" fill=\"#0099ff\" fill-opacity=\"1\"/>\n",
       "<polyline clip-path=\"url(#clip02)\" style=\"stroke:#00002d; stroke-width:0.8; stroke-opacity:1; fill:none\" points=\"\n",
       "  384.46,384.952 384.46,384.952 402.242,384.952 384.46,384.952 \n",
       "  \"/>\n",
       "<polygon clip-path=\"url(#clip02)\" points=\"\n",
       "402.242,384.952 402.242,384.952 420.024,384.952 420.024,384.952 402.242,384.952 402.242,384.952 \n",
       "  \" fill=\"#0099ff\" fill-opacity=\"1\"/>\n",
       "<polyline clip-path=\"url(#clip02)\" style=\"stroke:#00002d; stroke-width:0.8; stroke-opacity:1; fill:none\" points=\"\n",
       "  402.242,384.952 402.242,384.952 420.024,384.952 402.242,384.952 \n",
       "  \"/>\n",
       "<polygon clip-path=\"url(#clip02)\" points=\"\n",
       "420.024,384.952 420.024,384.952 437.806,384.952 437.806,384.952 420.024,384.952 420.024,384.952 \n",
       "  \" fill=\"#0099ff\" fill-opacity=\"1\"/>\n",
       "<polyline clip-path=\"url(#clip02)\" style=\"stroke:#00002d; stroke-width:0.8; stroke-opacity:1; fill:none\" points=\"\n",
       "  420.024,384.952 420.024,384.952 437.806,384.952 420.024,384.952 \n",
       "  \"/>\n",
       "<polygon clip-path=\"url(#clip02)\" points=\"\n",
       "437.806,151.38 437.806,384.952 455.587,384.952 455.587,151.38 437.806,151.38 437.806,151.38 \n",
       "  \" fill=\"#0099ff\" fill-opacity=\"1\"/>\n",
       "<polyline clip-path=\"url(#clip02)\" style=\"stroke:#00002d; stroke-width:0.8; stroke-opacity:1; fill:none\" points=\"\n",
       "  437.806,151.38 437.806,384.952 455.587,384.952 455.587,151.38 437.806,151.38 \n",
       "  \"/>\n",
       "<polygon clip-path=\"url(#clip02)\" points=\"\n",
       "455.587,384.952 455.587,384.952 473.369,384.952 473.369,384.952 455.587,384.952 455.587,384.952 \n",
       "  \" fill=\"#0099ff\" fill-opacity=\"1\"/>\n",
       "<polyline clip-path=\"url(#clip02)\" style=\"stroke:#00002d; stroke-width:0.8; stroke-opacity:1; fill:none\" points=\"\n",
       "  455.587,384.952 455.587,384.952 473.369,384.952 455.587,384.952 \n",
       "  \"/>\n",
       "<polygon clip-path=\"url(#clip02)\" points=\"\n",
       "473.369,384.952 473.369,384.952 491.151,384.952 491.151,384.952 473.369,384.952 473.369,384.952 \n",
       "  \" fill=\"#0099ff\" fill-opacity=\"1\"/>\n",
       "<polyline clip-path=\"url(#clip02)\" style=\"stroke:#00002d; stroke-width:0.8; stroke-opacity:1; fill:none\" points=\"\n",
       "  473.369,384.952 473.369,384.952 491.151,384.952 473.369,384.952 \n",
       "  \"/>\n",
       "<polygon clip-path=\"url(#clip02)\" points=\"\n",
       "491.151,384.952 491.151,384.952 508.932,384.952 508.932,384.952 491.151,384.952 491.151,384.952 \n",
       "  \" fill=\"#0099ff\" fill-opacity=\"1\"/>\n",
       "<polyline clip-path=\"url(#clip02)\" style=\"stroke:#00002d; stroke-width:0.8; stroke-opacity:1; fill:none\" points=\"\n",
       "  491.151,384.952 491.151,384.952 508.932,384.952 491.151,384.952 \n",
       "  \"/>\n",
       "<polygon clip-path=\"url(#clip02)\" points=\"\n",
       "508.932,384.952 508.932,384.952 526.714,384.952 526.714,384.952 508.932,384.952 508.932,384.952 \n",
       "  \" fill=\"#0099ff\" fill-opacity=\"1\"/>\n",
       "<polyline clip-path=\"url(#clip02)\" style=\"stroke:#00002d; stroke-width:0.8; stroke-opacity:1; fill:none\" points=\"\n",
       "  508.932,384.952 508.932,384.952 526.714,384.952 508.932,384.952 \n",
       "  \"/>\n",
       "<polygon clip-path=\"url(#clip02)\" points=\"\n",
       "526.714,384.952 526.714,384.952 544.496,384.952 544.496,384.952 526.714,384.952 526.714,384.952 \n",
       "  \" fill=\"#0099ff\" fill-opacity=\"1\"/>\n",
       "<polyline clip-path=\"url(#clip02)\" style=\"stroke:#00002d; stroke-width:0.8; stroke-opacity:1; fill:none\" points=\"\n",
       "  526.714,384.952 526.714,384.952 544.496,384.952 526.714,384.952 \n",
       "  \"/>\n",
       "<polygon clip-path=\"url(#clip02)\" points=\"\n",
       "544.496,384.952 544.496,384.952 562.278,384.952 562.278,384.952 544.496,384.952 544.496,384.952 \n",
       "  \" fill=\"#0099ff\" fill-opacity=\"1\"/>\n",
       "<polyline clip-path=\"url(#clip02)\" style=\"stroke:#00002d; stroke-width:0.8; stroke-opacity:1; fill:none\" points=\"\n",
       "  544.496,384.952 544.496,384.952 562.278,384.952 544.496,384.952 \n",
       "  \"/>\n",
       "<polygon clip-path=\"url(#clip02)\" points=\"\n",
       "562.278,171.817 562.278,384.952 580.059,384.952 580.059,171.817 562.278,171.817 562.278,171.817 \n",
       "  \" fill=\"#0099ff\" fill-opacity=\"1\"/>\n",
       "<polyline clip-path=\"url(#clip02)\" style=\"stroke:#00002d; stroke-width:0.8; stroke-opacity:1; fill:none\" points=\"\n",
       "  562.278,171.817 562.278,384.952 580.059,384.952 580.059,171.817 562.278,171.817 \n",
       "  \"/>\n",
       "</svg>\n"
      ]
     },
     "execution_count": 51,
     "metadata": {},
     "output_type": "execute_result"
    }
   ],
   "source": [
    "histogram(Satisfaction)"
   ]
  },
  {
   "cell_type": "code",
   "execution_count": 50,
   "metadata": {
    "collapsed": false
   },
   "outputs": [
    {
     "data": {
      "text/html": [
       "<?xml version=\"1.0\" encoding=\"utf-8\"?>\n",
       "<svg xmlns=\"http://www.w3.org/2000/svg\" xmlns:xlink=\"http://www.w3.org/1999/xlink\" width=\"600\" height=\"400\" viewBox=\"0 0 600 400\">\n",
       "<defs>\n",
       "  <clipPath id=\"clip00\">\n",
       "    <rect x=\"0\" y=\"0\" width=\"600\" height=\"400\"/>\n",
       "  </clipPath>\n",
       "</defs>\n",
       "<polygon clip-path=\"url(#clip00)\" points=\"\n",
       "0,400 600,400 600,0 0,0 \n",
       "  \" fill=\"#ffffff\" fill-opacity=\"1\"/>\n",
       "<defs>\n",
       "  <clipPath id=\"clip01\">\n",
       "    <rect x=\"120\" y=\"0\" width=\"421\" height=\"400\"/>\n",
       "  </clipPath>\n",
       "</defs>\n",
       "<polygon clip-path=\"url(#clip00)\" points=\"\n",
       "30.6037,384.952 596.063,384.952 596.063,3.93701 30.6037,3.93701 \n",
       "  \" fill=\"#ffffff\" fill-opacity=\"1\"/>\n",
       "<defs>\n",
       "  <clipPath id=\"clip02\">\n",
       "    <rect x=\"30\" y=\"3\" width=\"566\" height=\"382\"/>\n",
       "  </clipPath>\n",
       "</defs>\n",
       "<polyline clip-path=\"url(#clip02)\" style=\"stroke:#00002d; stroke-width:0.8; stroke-opacity:0.5; fill:none\" stroke-dasharray=\"1, 2\" points=\"\n",
       "  46.6072,379.237 46.6072,9.65223 \n",
       "  \"/>\n",
       "<polyline clip-path=\"url(#clip02)\" style=\"stroke:#00002d; stroke-width:0.8; stroke-opacity:0.5; fill:none\" stroke-dasharray=\"1, 2\" points=\"\n",
       "  313.333,379.237 313.333,9.65223 \n",
       "  \"/>\n",
       "<polyline clip-path=\"url(#clip02)\" style=\"stroke:#00002d; stroke-width:0.8; stroke-opacity:0.5; fill:none\" stroke-dasharray=\"1, 2\" points=\"\n",
       "  580.059,379.237 580.059,9.65223 \n",
       "  \"/>\n",
       "<polyline clip-path=\"url(#clip02)\" style=\"stroke:#00002d; stroke-width:0.8; stroke-opacity:0.5; fill:none\" stroke-dasharray=\"1, 2\" points=\"\n",
       "  39.0856,384.952 587.581,384.952 \n",
       "  \"/>\n",
       "<polyline clip-path=\"url(#clip02)\" style=\"stroke:#00002d; stroke-width:0.8; stroke-opacity:0.5; fill:none\" stroke-dasharray=\"1, 2\" points=\"\n",
       "  39.0856,308.749 587.581,308.749 \n",
       "  \"/>\n",
       "<polyline clip-path=\"url(#clip02)\" style=\"stroke:#00002d; stroke-width:0.8; stroke-opacity:0.5; fill:none\" stroke-dasharray=\"1, 2\" points=\"\n",
       "  39.0856,232.546 587.581,232.546 \n",
       "  \"/>\n",
       "<polyline clip-path=\"url(#clip02)\" style=\"stroke:#00002d; stroke-width:0.8; stroke-opacity:0.5; fill:none\" stroke-dasharray=\"1, 2\" points=\"\n",
       "  39.0856,156.343 587.581,156.343 \n",
       "  \"/>\n",
       "<polyline clip-path=\"url(#clip02)\" style=\"stroke:#00002d; stroke-width:0.8; stroke-opacity:0.5; fill:none\" stroke-dasharray=\"1, 2\" points=\"\n",
       "  39.0856,80.14 587.581,80.14 \n",
       "  \"/>\n",
       "<polyline clip-path=\"url(#clip02)\" style=\"stroke:#00002d; stroke-width:0.8; stroke-opacity:0.5; fill:none\" stroke-dasharray=\"1, 2\" points=\"\n",
       "  39.0856,3.93701 587.581,3.93701 \n",
       "  \"/>\n",
       "<polyline clip-path=\"url(#clip02)\" style=\"stroke:#00002d; stroke-width:0.8; stroke-opacity:1; fill:none\" points=\"\n",
       "  30.6037,384.952 596.063,384.952 \n",
       "  \"/>\n",
       "<polyline clip-path=\"url(#clip02)\" style=\"stroke:#00002d; stroke-width:0.8; stroke-opacity:1; fill:none\" points=\"\n",
       "  46.6072,384.952 46.6072,379.237 \n",
       "  \"/>\n",
       "<polyline clip-path=\"url(#clip02)\" style=\"stroke:#00002d; stroke-width:0.8; stroke-opacity:1; fill:none\" points=\"\n",
       "  313.333,384.952 313.333,379.237 \n",
       "  \"/>\n",
       "<polyline clip-path=\"url(#clip02)\" style=\"stroke:#00002d; stroke-width:0.8; stroke-opacity:1; fill:none\" points=\"\n",
       "  580.059,384.952 580.059,379.237 \n",
       "  \"/>\n",
       "<polyline clip-path=\"url(#clip02)\" style=\"stroke:#00002d; stroke-width:0.8; stroke-opacity:1; fill:none\" points=\"\n",
       "  30.6037,384.952 30.6037,3.93701 \n",
       "  \"/>\n",
       "<polyline clip-path=\"url(#clip02)\" style=\"stroke:#00002d; stroke-width:0.8; stroke-opacity:1; fill:none\" points=\"\n",
       "  30.6037,384.952 39.0856,384.952 \n",
       "  \"/>\n",
       "<polyline clip-path=\"url(#clip02)\" style=\"stroke:#00002d; stroke-width:0.8; stroke-opacity:1; fill:none\" points=\"\n",
       "  30.6037,308.749 39.0856,308.749 \n",
       "  \"/>\n",
       "<polyline clip-path=\"url(#clip02)\" style=\"stroke:#00002d; stroke-width:0.8; stroke-opacity:1; fill:none\" points=\"\n",
       "  30.6037,232.546 39.0856,232.546 \n",
       "  \"/>\n",
       "<polyline clip-path=\"url(#clip02)\" style=\"stroke:#00002d; stroke-width:0.8; stroke-opacity:1; fill:none\" points=\"\n",
       "  30.6037,156.343 39.0856,156.343 \n",
       "  \"/>\n",
       "<polyline clip-path=\"url(#clip02)\" style=\"stroke:#00002d; stroke-width:0.8; stroke-opacity:1; fill:none\" points=\"\n",
       "  30.6037,80.14 39.0856,80.14 \n",
       "  \"/>\n",
       "<polyline clip-path=\"url(#clip02)\" style=\"stroke:#00002d; stroke-width:0.8; stroke-opacity:1; fill:none\" points=\"\n",
       "  30.6037,3.93701 39.0856,3.93701 \n",
       "  \"/>\n",
       "<g clip-path=\"url(#clip00)\">\n",
       "<text style=\"fill:#00002d; fill-opacity:1; font-family:Arial,Helvetica Neue,Helvetica,sans-serif; font-size:12; text-anchor:middle;\" transform=\"rotate(0, 46.6072, 396.952)\" x=\"46.6072\" y=\"396.952\">1</text>\n",
       "</g>\n",
       "<g clip-path=\"url(#clip00)\">\n",
       "<text style=\"fill:#00002d; fill-opacity:1; font-family:Arial,Helvetica Neue,Helvetica,sans-serif; font-size:12; text-anchor:middle;\" transform=\"rotate(0, 313.333, 396.952)\" x=\"313.333\" y=\"396.952\">2</text>\n",
       "</g>\n",
       "<g clip-path=\"url(#clip00)\">\n",
       "<text style=\"fill:#00002d; fill-opacity:1; font-family:Arial,Helvetica Neue,Helvetica,sans-serif; font-size:12; text-anchor:middle;\" transform=\"rotate(0, 580.059, 396.952)\" x=\"580.059\" y=\"396.952\">3</text>\n",
       "</g>\n",
       "<g clip-path=\"url(#clip00)\">\n",
       "<text style=\"fill:#00002d; fill-opacity:1; font-family:Arial,Helvetica Neue,Helvetica,sans-serif; font-size:12; text-anchor:end;\" transform=\"rotate(0, 29.4037, 389.452)\" x=\"29.4037\" y=\"389.452\">0.0</text>\n",
       "</g>\n",
       "<g clip-path=\"url(#clip00)\">\n",
       "<text style=\"fill:#00002d; fill-opacity:1; font-family:Arial,Helvetica Neue,Helvetica,sans-serif; font-size:12; text-anchor:end;\" transform=\"rotate(0, 29.4037, 313.249)\" x=\"29.4037\" y=\"313.249\">0.2</text>\n",
       "</g>\n",
       "<g clip-path=\"url(#clip00)\">\n",
       "<text style=\"fill:#00002d; fill-opacity:1; font-family:Arial,Helvetica Neue,Helvetica,sans-serif; font-size:12; text-anchor:end;\" transform=\"rotate(0, 29.4037, 237.046)\" x=\"29.4037\" y=\"237.046\">0.4</text>\n",
       "</g>\n",
       "<g clip-path=\"url(#clip00)\">\n",
       "<text style=\"fill:#00002d; fill-opacity:1; font-family:Arial,Helvetica Neue,Helvetica,sans-serif; font-size:12; text-anchor:end;\" transform=\"rotate(0, 29.4037, 160.843)\" x=\"29.4037\" y=\"160.843\">0.6</text>\n",
       "</g>\n",
       "<g clip-path=\"url(#clip00)\">\n",
       "<text style=\"fill:#00002d; fill-opacity:1; font-family:Arial,Helvetica Neue,Helvetica,sans-serif; font-size:12; text-anchor:end;\" transform=\"rotate(0, 29.4037, 84.64)\" x=\"29.4037\" y=\"84.64\">0.8</text>\n",
       "</g>\n",
       "<g clip-path=\"url(#clip00)\">\n",
       "<text style=\"fill:#00002d; fill-opacity:1; font-family:Arial,Helvetica Neue,Helvetica,sans-serif; font-size:12; text-anchor:end;\" transform=\"rotate(0, 29.4037, 8.43701)\" x=\"29.4037\" y=\"8.43701\">1.0</text>\n",
       "</g>\n",
       "<polygon clip-path=\"url(#clip02)\" points=\"\n",
       "46.6072,3.93701 46.6072,384.952 64.389,384.952 64.389,3.93701 46.6072,3.93701 46.6072,3.93701 \n",
       "  \" fill=\"#0099ff\" fill-opacity=\"1\"/>\n",
       "<polyline clip-path=\"url(#clip02)\" style=\"stroke:#00002d; stroke-width:0.8; stroke-opacity:1; fill:none\" points=\"\n",
       "  46.6072,3.93701 46.6072,384.952 64.389,384.952 64.389,3.93701 46.6072,3.93701 \n",
       "  \"/>\n",
       "<polygon clip-path=\"url(#clip02)\" points=\"\n",
       "64.389,384.952 64.389,384.952 82.1707,384.952 82.1707,384.952 64.389,384.952 64.389,384.952 \n",
       "  \" fill=\"#0099ff\" fill-opacity=\"1\"/>\n",
       "<polyline clip-path=\"url(#clip02)\" style=\"stroke:#00002d; stroke-width:0.8; stroke-opacity:1; fill:none\" points=\"\n",
       "  64.389,384.952 64.389,384.952 82.1707,384.952 64.389,384.952 \n",
       "  \"/>\n",
       "<polygon clip-path=\"url(#clip02)\" points=\"\n",
       "82.1707,384.952 82.1707,384.952 99.9525,384.952 99.9525,384.952 82.1707,384.952 82.1707,384.952 \n",
       "  \" fill=\"#0099ff\" fill-opacity=\"1\"/>\n",
       "<polyline clip-path=\"url(#clip02)\" style=\"stroke:#00002d; stroke-width:0.8; stroke-opacity:1; fill:none\" points=\"\n",
       "  82.1707,384.952 82.1707,384.952 99.9525,384.952 82.1707,384.952 \n",
       "  \"/>\n",
       "<polygon clip-path=\"url(#clip02)\" points=\"\n",
       "99.9525,384.952 99.9525,384.952 117.734,384.952 117.734,384.952 99.9525,384.952 99.9525,384.952 \n",
       "  \" fill=\"#0099ff\" fill-opacity=\"1\"/>\n",
       "<polyline clip-path=\"url(#clip02)\" style=\"stroke:#00002d; stroke-width:0.8; stroke-opacity:1; fill:none\" points=\"\n",
       "  99.9525,384.952 99.9525,384.952 117.734,384.952 99.9525,384.952 \n",
       "  \"/>\n",
       "<polygon clip-path=\"url(#clip02)\" points=\"\n",
       "117.734,384.952 117.734,384.952 135.516,384.952 135.516,384.952 117.734,384.952 117.734,384.952 \n",
       "  \" fill=\"#0099ff\" fill-opacity=\"1\"/>\n",
       "<polyline clip-path=\"url(#clip02)\" style=\"stroke:#00002d; stroke-width:0.8; stroke-opacity:1; fill:none\" points=\"\n",
       "  117.734,384.952 117.734,384.952 135.516,384.952 117.734,384.952 \n",
       "  \"/>\n",
       "<polygon clip-path=\"url(#clip02)\" points=\"\n",
       "135.516,384.952 135.516,384.952 153.298,384.952 153.298,384.952 135.516,384.952 135.516,384.952 \n",
       "  \" fill=\"#0099ff\" fill-opacity=\"1\"/>\n",
       "<polyline clip-path=\"url(#clip02)\" style=\"stroke:#00002d; stroke-width:0.8; stroke-opacity:1; fill:none\" points=\"\n",
       "  135.516,384.952 135.516,384.952 153.298,384.952 135.516,384.952 \n",
       "  \"/>\n",
       "<polygon clip-path=\"url(#clip02)\" points=\"\n",
       "153.298,384.952 153.298,384.952 171.079,384.952 171.079,384.952 153.298,384.952 153.298,384.952 \n",
       "  \" fill=\"#0099ff\" fill-opacity=\"1\"/>\n",
       "<polyline clip-path=\"url(#clip02)\" style=\"stroke:#00002d; stroke-width:0.8; stroke-opacity:1; fill:none\" points=\"\n",
       "  153.298,384.952 153.298,384.952 171.079,384.952 153.298,384.952 \n",
       "  \"/>\n",
       "<polygon clip-path=\"url(#clip02)\" points=\"\n",
       "171.079,384.952 171.079,384.952 188.861,384.952 188.861,384.952 171.079,384.952 171.079,384.952 \n",
       "  \" fill=\"#0099ff\" fill-opacity=\"1\"/>\n",
       "<polyline clip-path=\"url(#clip02)\" style=\"stroke:#00002d; stroke-width:0.8; stroke-opacity:1; fill:none\" points=\"\n",
       "  171.079,384.952 171.079,384.952 188.861,384.952 171.079,384.952 \n",
       "  \"/>\n",
       "<polygon clip-path=\"url(#clip02)\" points=\"\n",
       "188.861,384.952 188.861,384.952 206.643,384.952 206.643,384.952 188.861,384.952 188.861,384.952 \n",
       "  \" fill=\"#0099ff\" fill-opacity=\"1\"/>\n",
       "<polyline clip-path=\"url(#clip02)\" style=\"stroke:#00002d; stroke-width:0.8; stroke-opacity:1; fill:none\" points=\"\n",
       "  188.861,384.952 188.861,384.952 206.643,384.952 188.861,384.952 \n",
       "  \"/>\n",
       "<polygon clip-path=\"url(#clip02)\" points=\"\n",
       "206.643,384.952 206.643,384.952 224.425,384.952 224.425,384.952 206.643,384.952 206.643,384.952 \n",
       "  \" fill=\"#0099ff\" fill-opacity=\"1\"/>\n",
       "<polyline clip-path=\"url(#clip02)\" style=\"stroke:#00002d; stroke-width:0.8; stroke-opacity:1; fill:none\" points=\"\n",
       "  206.643,384.952 206.643,384.952 224.425,384.952 206.643,384.952 \n",
       "  \"/>\n",
       "<polygon clip-path=\"url(#clip02)\" points=\"\n",
       "224.425,384.952 224.425,384.952 242.206,384.952 242.206,384.952 224.425,384.952 224.425,384.952 \n",
       "  \" fill=\"#0099ff\" fill-opacity=\"1\"/>\n",
       "<polyline clip-path=\"url(#clip02)\" style=\"stroke:#00002d; stroke-width:0.8; stroke-opacity:1; fill:none\" points=\"\n",
       "  224.425,384.952 224.425,384.952 242.206,384.952 224.425,384.952 \n",
       "  \"/>\n",
       "<polygon clip-path=\"url(#clip02)\" points=\"\n",
       "242.206,384.952 242.206,384.952 259.988,384.952 259.988,384.952 242.206,384.952 242.206,384.952 \n",
       "  \" fill=\"#0099ff\" fill-opacity=\"1\"/>\n",
       "<polyline clip-path=\"url(#clip02)\" style=\"stroke:#00002d; stroke-width:0.8; stroke-opacity:1; fill:none\" points=\"\n",
       "  242.206,384.952 242.206,384.952 259.988,384.952 242.206,384.952 \n",
       "  \"/>\n",
       "<polygon clip-path=\"url(#clip02)\" points=\"\n",
       "259.988,384.952 259.988,384.952 277.77,384.952 277.77,384.952 259.988,384.952 259.988,384.952 \n",
       "  \" fill=\"#0099ff\" fill-opacity=\"1\"/>\n",
       "<polyline clip-path=\"url(#clip02)\" style=\"stroke:#00002d; stroke-width:0.8; stroke-opacity:1; fill:none\" points=\"\n",
       "  259.988,384.952 259.988,384.952 277.77,384.952 259.988,384.952 \n",
       "  \"/>\n",
       "<polygon clip-path=\"url(#clip02)\" points=\"\n",
       "277.77,384.952 277.77,384.952 295.552,384.952 295.552,384.952 277.77,384.952 277.77,384.952 \n",
       "  \" fill=\"#0099ff\" fill-opacity=\"1\"/>\n",
       "<polyline clip-path=\"url(#clip02)\" style=\"stroke:#00002d; stroke-width:0.8; stroke-opacity:1; fill:none\" points=\"\n",
       "  277.77,384.952 277.77,384.952 295.552,384.952 277.77,384.952 \n",
       "  \"/>\n",
       "<polygon clip-path=\"url(#clip02)\" points=\"\n",
       "295.552,384.952 295.552,384.952 313.333,384.952 313.333,384.952 295.552,384.952 295.552,384.952 \n",
       "  \" fill=\"#0099ff\" fill-opacity=\"1\"/>\n",
       "<polyline clip-path=\"url(#clip02)\" style=\"stroke:#00002d; stroke-width:0.8; stroke-opacity:1; fill:none\" points=\"\n",
       "  295.552,384.952 295.552,384.952 313.333,384.952 295.552,384.952 \n",
       "  \"/>\n",
       "<polygon clip-path=\"url(#clip02)\" points=\"\n",
       "313.333,384.952 313.333,384.952 331.115,384.952 331.115,384.952 313.333,384.952 313.333,384.952 \n",
       "  \" fill=\"#0099ff\" fill-opacity=\"1\"/>\n",
       "<polyline clip-path=\"url(#clip02)\" style=\"stroke:#00002d; stroke-width:0.8; stroke-opacity:1; fill:none\" points=\"\n",
       "  313.333,384.952 313.333,384.952 331.115,384.952 313.333,384.952 \n",
       "  \"/>\n",
       "<polygon clip-path=\"url(#clip02)\" points=\"\n",
       "331.115,384.952 331.115,384.952 348.897,384.952 348.897,384.952 331.115,384.952 331.115,384.952 \n",
       "  \" fill=\"#0099ff\" fill-opacity=\"1\"/>\n",
       "<polyline clip-path=\"url(#clip02)\" style=\"stroke:#00002d; stroke-width:0.8; stroke-opacity:1; fill:none\" points=\"\n",
       "  331.115,384.952 331.115,384.952 348.897,384.952 331.115,384.952 \n",
       "  \"/>\n",
       "<polygon clip-path=\"url(#clip02)\" points=\"\n",
       "348.897,384.952 348.897,384.952 366.679,384.952 366.679,384.952 348.897,384.952 348.897,384.952 \n",
       "  \" fill=\"#0099ff\" fill-opacity=\"1\"/>\n",
       "<polyline clip-path=\"url(#clip02)\" style=\"stroke:#00002d; stroke-width:0.8; stroke-opacity:1; fill:none\" points=\"\n",
       "  348.897,384.952 348.897,384.952 366.679,384.952 348.897,384.952 \n",
       "  \"/>\n",
       "<polygon clip-path=\"url(#clip02)\" points=\"\n",
       "366.679,384.952 366.679,384.952 384.46,384.952 384.46,384.952 366.679,384.952 366.679,384.952 \n",
       "  \" fill=\"#0099ff\" fill-opacity=\"1\"/>\n",
       "<polyline clip-path=\"url(#clip02)\" style=\"stroke:#00002d; stroke-width:0.8; stroke-opacity:1; fill:none\" points=\"\n",
       "  366.679,384.952 366.679,384.952 384.46,384.952 366.679,384.952 \n",
       "  \"/>\n",
       "<polygon clip-path=\"url(#clip02)\" points=\"\n",
       "384.46,384.952 384.46,384.952 402.242,384.952 402.242,384.952 384.46,384.952 384.46,384.952 \n",
       "  \" fill=\"#0099ff\" fill-opacity=\"1\"/>\n",
       "<polyline clip-path=\"url(#clip02)\" style=\"stroke:#00002d; stroke-width:0.8; stroke-opacity:1; fill:none\" points=\"\n",
       "  384.46,384.952 384.46,384.952 402.242,384.952 384.46,384.952 \n",
       "  \"/>\n",
       "<polygon clip-path=\"url(#clip02)\" points=\"\n",
       "402.242,384.952 402.242,384.952 420.024,384.952 420.024,384.952 402.242,384.952 402.242,384.952 \n",
       "  \" fill=\"#0099ff\" fill-opacity=\"1\"/>\n",
       "<polyline clip-path=\"url(#clip02)\" style=\"stroke:#00002d; stroke-width:0.8; stroke-opacity:1; fill:none\" points=\"\n",
       "  402.242,384.952 402.242,384.952 420.024,384.952 402.242,384.952 \n",
       "  \"/>\n",
       "<polygon clip-path=\"url(#clip02)\" points=\"\n",
       "420.024,384.952 420.024,384.952 437.806,384.952 437.806,384.952 420.024,384.952 420.024,384.952 \n",
       "  \" fill=\"#0099ff\" fill-opacity=\"1\"/>\n",
       "<polyline clip-path=\"url(#clip02)\" style=\"stroke:#00002d; stroke-width:0.8; stroke-opacity:1; fill:none\" points=\"\n",
       "  420.024,384.952 420.024,384.952 437.806,384.952 420.024,384.952 \n",
       "  \"/>\n",
       "<polygon clip-path=\"url(#clip02)\" points=\"\n",
       "437.806,384.952 437.806,384.952 455.587,384.952 455.587,384.952 437.806,384.952 437.806,384.952 \n",
       "  \" fill=\"#0099ff\" fill-opacity=\"1\"/>\n",
       "<polyline clip-path=\"url(#clip02)\" style=\"stroke:#00002d; stroke-width:0.8; stroke-opacity:1; fill:none\" points=\"\n",
       "  437.806,384.952 437.806,384.952 455.587,384.952 437.806,384.952 \n",
       "  \"/>\n",
       "<polygon clip-path=\"url(#clip02)\" points=\"\n",
       "455.587,384.952 455.587,384.952 473.369,384.952 473.369,384.952 455.587,384.952 455.587,384.952 \n",
       "  \" fill=\"#0099ff\" fill-opacity=\"1\"/>\n",
       "<polyline clip-path=\"url(#clip02)\" style=\"stroke:#00002d; stroke-width:0.8; stroke-opacity:1; fill:none\" points=\"\n",
       "  455.587,384.952 455.587,384.952 473.369,384.952 455.587,384.952 \n",
       "  \"/>\n",
       "<polygon clip-path=\"url(#clip02)\" points=\"\n",
       "473.369,384.952 473.369,384.952 491.151,384.952 491.151,384.952 473.369,384.952 473.369,384.952 \n",
       "  \" fill=\"#0099ff\" fill-opacity=\"1\"/>\n",
       "<polyline clip-path=\"url(#clip02)\" style=\"stroke:#00002d; stroke-width:0.8; stroke-opacity:1; fill:none\" points=\"\n",
       "  473.369,384.952 473.369,384.952 491.151,384.952 473.369,384.952 \n",
       "  \"/>\n",
       "<polygon clip-path=\"url(#clip02)\" points=\"\n",
       "491.151,384.952 491.151,384.952 508.932,384.952 508.932,384.952 491.151,384.952 491.151,384.952 \n",
       "  \" fill=\"#0099ff\" fill-opacity=\"1\"/>\n",
       "<polyline clip-path=\"url(#clip02)\" style=\"stroke:#00002d; stroke-width:0.8; stroke-opacity:1; fill:none\" points=\"\n",
       "  491.151,384.952 491.151,384.952 508.932,384.952 491.151,384.952 \n",
       "  \"/>\n",
       "<polygon clip-path=\"url(#clip02)\" points=\"\n",
       "508.932,384.952 508.932,384.952 526.714,384.952 526.714,384.952 508.932,384.952 508.932,384.952 \n",
       "  \" fill=\"#0099ff\" fill-opacity=\"1\"/>\n",
       "<polyline clip-path=\"url(#clip02)\" style=\"stroke:#00002d; stroke-width:0.8; stroke-opacity:1; fill:none\" points=\"\n",
       "  508.932,384.952 508.932,384.952 526.714,384.952 508.932,384.952 \n",
       "  \"/>\n",
       "<polygon clip-path=\"url(#clip02)\" points=\"\n",
       "526.714,384.952 526.714,384.952 544.496,384.952 544.496,384.952 526.714,384.952 526.714,384.952 \n",
       "  \" fill=\"#0099ff\" fill-opacity=\"1\"/>\n",
       "<polyline clip-path=\"url(#clip02)\" style=\"stroke:#00002d; stroke-width:0.8; stroke-opacity:1; fill:none\" points=\"\n",
       "  526.714,384.952 526.714,384.952 544.496,384.952 526.714,384.952 \n",
       "  \"/>\n",
       "<polygon clip-path=\"url(#clip02)\" points=\"\n",
       "544.496,384.952 544.496,384.952 562.278,384.952 562.278,384.952 544.496,384.952 544.496,384.952 \n",
       "  \" fill=\"#0099ff\" fill-opacity=\"1\"/>\n",
       "<polyline clip-path=\"url(#clip02)\" style=\"stroke:#00002d; stroke-width:0.8; stroke-opacity:1; fill:none\" points=\"\n",
       "  544.496,384.952 544.496,384.952 562.278,384.952 544.496,384.952 \n",
       "  \"/>\n",
       "<polygon clip-path=\"url(#clip02)\" points=\"\n",
       "562.278,3.93701 562.278,384.952 580.059,384.952 580.059,3.93701 562.278,3.93701 562.278,3.93701 \n",
       "  \" fill=\"#0099ff\" fill-opacity=\"1\"/>\n",
       "<polyline clip-path=\"url(#clip02)\" style=\"stroke:#00002d; stroke-width:0.8; stroke-opacity:1; fill:none\" points=\"\n",
       "  562.278,3.93701 562.278,384.952 580.059,384.952 580.059,3.93701 562.278,3.93701 \n",
       "  \"/>\n",
       "</svg>\n"
      ]
     },
     "execution_count": 50,
     "metadata": {},
     "output_type": "execute_result"
    }
   ],
   "source": [
    "histogram(Satisfaction[71 .<= people[:Age] .<= 80])"
   ]
  },
  {
   "cell_type": "code",
   "execution_count": 53,
   "metadata": {
    "collapsed": false
   },
   "outputs": [
    {
     "data": {
      "text/plain": [
       "1000-element Array{Int64,1}:\n",
       " 3\n",
       " 1\n",
       " 3\n",
       " 2\n",
       " 2\n",
       " 4\n",
       " 3\n",
       " 3\n",
       " 3\n",
       " 4\n",
       " 1\n",
       " 1\n",
       " 1\n",
       " ⋮\n",
       " 5\n",
       " 2\n",
       " 4\n",
       " 2\n",
       " 2\n",
       " 2\n",
       " 2\n",
       " 2\n",
       " 3\n",
       " 2\n",
       " 3\n",
       " 4"
      ]
     },
     "execution_count": 53,
     "metadata": {},
     "output_type": "execute_result"
    }
   ],
   "source": [
    "people[:Satisfaction] = Satisfaction"
   ]
  },
  {
   "cell_type": "code",
   "execution_count": 56,
   "metadata": {
    "collapsed": false
   },
   "outputs": [
    {
     "data": {
      "text/html": [
       "<table class=\"data-frame\"><thead><tr><th></th><th>ID</th><th>Satisfaction</th></tr></thead><tbody><tr><th>1</th><td>1</td><td>3</td></tr><tr><th>2</th><td>2</td><td>1</td></tr><tr><th>3</th><td>3</td><td>3</td></tr><tr><th>4</th><td>4</td><td>2</td></tr><tr><th>5</th><td>5</td><td>2</td></tr><tr><th>6</th><td>6</td><td>4</td></tr><tr><th>7</th><td>7</td><td>3</td></tr><tr><th>8</th><td>8</td><td>3</td></tr><tr><th>9</th><td>9</td><td>3</td></tr><tr><th>10</th><td>10</td><td>4</td></tr><tr><th>11</th><td>11</td><td>1</td></tr><tr><th>12</th><td>12</td><td>1</td></tr><tr><th>13</th><td>13</td><td>1</td></tr><tr><th>14</th><td>14</td><td>1</td></tr><tr><th>15</th><td>15</td><td>2</td></tr><tr><th>16</th><td>16</td><td>1</td></tr><tr><th>17</th><td>17</td><td>2</td></tr><tr><th>18</th><td>18</td><td>3</td></tr><tr><th>19</th><td>19</td><td>3</td></tr><tr><th>20</th><td>20</td><td>4</td></tr><tr><th>21</th><td>21</td><td>3</td></tr><tr><th>22</th><td>22</td><td>2</td></tr><tr><th>23</th><td>23</td><td>1</td></tr><tr><th>24</th><td>24</td><td>1</td></tr><tr><th>25</th><td>25</td><td>2</td></tr><tr><th>26</th><td>26</td><td>3</td></tr><tr><th>27</th><td>27</td><td>2</td></tr><tr><th>28</th><td>28</td><td>3</td></tr><tr><th>29</th><td>29</td><td>4</td></tr><tr><th>30</th><td>30</td><td>4</td></tr><tr><th>&vellip;</th><td>&vellip;</td><td>&vellip;</td></tr></tbody></table>"
      ],
      "text/plain": [
       "1000×2 DataFrames.DataFrame\n",
       "│ Row  │ ID   │ Satisfaction │\n",
       "├──────┼──────┼──────────────┤\n",
       "│ 1    │ 1    │ 3            │\n",
       "│ 2    │ 2    │ 1            │\n",
       "│ 3    │ 3    │ 3            │\n",
       "│ 4    │ 4    │ 2            │\n",
       "│ 5    │ 5    │ 2            │\n",
       "│ 6    │ 6    │ 4            │\n",
       "│ 7    │ 7    │ 3            │\n",
       "│ 8    │ 8    │ 3            │\n",
       "│ 9    │ 9    │ 3            │\n",
       "│ 10   │ 10   │ 4            │\n",
       "│ 11   │ 11   │ 1            │\n",
       "⋮\n",
       "│ 989  │ 989  │ 5            │\n",
       "│ 990  │ 990  │ 2            │\n",
       "│ 991  │ 991  │ 4            │\n",
       "│ 992  │ 992  │ 2            │\n",
       "│ 993  │ 993  │ 2            │\n",
       "│ 994  │ 994  │ 2            │\n",
       "│ 995  │ 995  │ 2            │\n",
       "│ 996  │ 996  │ 2            │\n",
       "│ 997  │ 997  │ 3            │\n",
       "│ 998  │ 998  │ 2            │\n",
       "│ 999  │ 999  │ 3            │\n",
       "│ 1000 │ 1000 │ 4            │"
      ]
     },
     "execution_count": 56,
     "metadata": {},
     "output_type": "execute_result"
    }
   ],
   "source": [
    "people[[:ID, :Satisfaction]]"
   ]
  },
  {
   "cell_type": "code",
   "execution_count": 57,
   "metadata": {
    "collapsed": true
   },
   "outputs": [],
   "source": [
    "writetable(\"people_satisfaction.csv\", people[[:ID, :Satisfaction]])"
   ]
  },
  {
   "cell_type": "code",
   "execution_count": 3,
   "metadata": {
    "collapsed": false
   },
   "outputs": [
    {
     "data": {
      "text/html": [
       "<table class=\"data-frame\"><thead><tr><th></th><th>ID</th><th>Satisfaction</th></tr></thead><tbody><tr><th>1</th><td>1</td><td>3</td></tr><tr><th>2</th><td>2</td><td>1</td></tr><tr><th>3</th><td>3</td><td>3</td></tr><tr><th>4</th><td>4</td><td>2</td></tr><tr><th>5</th><td>5</td><td>2</td></tr><tr><th>6</th><td>6</td><td>4</td></tr><tr><th>7</th><td>7</td><td>3</td></tr><tr><th>8</th><td>8</td><td>3</td></tr><tr><th>9</th><td>9</td><td>3</td></tr><tr><th>10</th><td>10</td><td>4</td></tr><tr><th>11</th><td>11</td><td>1</td></tr><tr><th>12</th><td>12</td><td>1</td></tr><tr><th>13</th><td>13</td><td>1</td></tr><tr><th>14</th><td>14</td><td>1</td></tr><tr><th>15</th><td>15</td><td>2</td></tr><tr><th>16</th><td>16</td><td>1</td></tr><tr><th>17</th><td>17</td><td>2</td></tr><tr><th>18</th><td>18</td><td>3</td></tr><tr><th>19</th><td>19</td><td>3</td></tr><tr><th>20</th><td>20</td><td>4</td></tr><tr><th>21</th><td>21</td><td>3</td></tr><tr><th>22</th><td>22</td><td>2</td></tr><tr><th>23</th><td>23</td><td>1</td></tr><tr><th>24</th><td>24</td><td>1</td></tr><tr><th>25</th><td>25</td><td>2</td></tr><tr><th>26</th><td>26</td><td>3</td></tr><tr><th>27</th><td>27</td><td>2</td></tr><tr><th>28</th><td>28</td><td>3</td></tr><tr><th>29</th><td>29</td><td>4</td></tr><tr><th>30</th><td>30</td><td>4</td></tr><tr><th>&vellip;</th><td>&vellip;</td><td>&vellip;</td></tr></tbody></table>"
      ],
      "text/plain": [
       "1000×2 DataFrames.DataFrame\n",
       "│ Row  │ ID   │ Satisfaction │\n",
       "├──────┼──────┼──────────────┤\n",
       "│ 1    │ 1    │ 3            │\n",
       "│ 2    │ 2    │ 1            │\n",
       "│ 3    │ 3    │ 3            │\n",
       "│ 4    │ 4    │ 2            │\n",
       "│ 5    │ 5    │ 2            │\n",
       "│ 6    │ 6    │ 4            │\n",
       "│ 7    │ 7    │ 3            │\n",
       "│ 8    │ 8    │ 3            │\n",
       "│ 9    │ 9    │ 3            │\n",
       "│ 10   │ 10   │ 4            │\n",
       "│ 11   │ 11   │ 1            │\n",
       "⋮\n",
       "│ 989  │ 989  │ 5            │\n",
       "│ 990  │ 990  │ 2            │\n",
       "│ 991  │ 991  │ 4            │\n",
       "│ 992  │ 992  │ 2            │\n",
       "│ 993  │ 993  │ 2            │\n",
       "│ 994  │ 994  │ 2            │\n",
       "│ 995  │ 995  │ 2            │\n",
       "│ 996  │ 996  │ 2            │\n",
       "│ 997  │ 997  │ 3            │\n",
       "│ 998  │ 998  │ 2            │\n",
       "│ 999  │ 999  │ 3            │\n",
       "│ 1000 │ 1000 │ 4            │"
      ]
     },
     "execution_count": 3,
     "metadata": {},
     "output_type": "execute_result"
    }
   ],
   "source": [
    "df = readtable(\"people_satisfaction.csv\")"
   ]
  },
  {
   "cell_type": "code",
   "execution_count": 5,
   "metadata": {
    "collapsed": false
   },
   "outputs": [],
   "source": [
    "for i in 1:size(df, 1)\n",
    "    if rand() < 0.1\n",
    "        df[:Satisfaction][i] = NA\n",
    "    end\n",
    "end"
   ]
  },
  {
   "cell_type": "code",
   "execution_count": 7,
   "metadata": {
    "collapsed": false
   },
   "outputs": [
    {
     "name": "stdout",
     "output_type": "stream",
     "text": [
      "ID\n",
      "Min      1.0\n",
      "1st Qu.  250.75\n",
      "Median   500.5\n",
      "Mean     500.5\n",
      "3rd Qu.  750.25\n",
      "Max      1000.0\n",
      "NAs      0\n",
      "NA%      0.0%\n",
      "\n",
      "Satisfaction\n",
      "Min      1.0\n",
      "1st Qu.  2.0\n",
      "Median   3.0\n",
      "Mean     2.8106904231625833\n",
      "3rd Qu.  4.0\n",
      "Max      5.0\n",
      "NAs      102\n",
      "NA%      10.2%\n",
      "\n"
     ]
    }
   ],
   "source": [
    "describe(df)"
   ]
  },
  {
   "cell_type": "code",
   "execution_count": 10,
   "metadata": {
    "collapsed": false
   },
   "outputs": [],
   "source": [
    "writetable(\"people_satisfaction.csv\", sort(df, rev=true))"
   ]
  },
  {
   "cell_type": "code",
   "execution_count": 11,
   "metadata": {
    "collapsed": false
   },
   "outputs": [
    {
     "data": {
      "text/html": [
       "<table class=\"data-frame\"><thead><tr><th></th><th>ID</th><th>Satisfaction</th></tr></thead><tbody><tr><th>1</th><td>1</td><td>3</td></tr><tr><th>2</th><td>2</td><td>NA</td></tr><tr><th>3</th><td>3</td><td>3</td></tr><tr><th>4</th><td>4</td><td>2</td></tr><tr><th>5</th><td>5</td><td>2</td></tr><tr><th>6</th><td>6</td><td>4</td></tr><tr><th>7</th><td>7</td><td>3</td></tr><tr><th>8</th><td>8</td><td>3</td></tr><tr><th>9</th><td>9</td><td>3</td></tr><tr><th>10</th><td>10</td><td>4</td></tr><tr><th>11</th><td>11</td><td>NA</td></tr><tr><th>12</th><td>12</td><td>NA</td></tr><tr><th>13</th><td>13</td><td>1</td></tr><tr><th>14</th><td>14</td><td>1</td></tr><tr><th>15</th><td>15</td><td>2</td></tr><tr><th>16</th><td>16</td><td>1</td></tr><tr><th>17</th><td>17</td><td>2</td></tr><tr><th>18</th><td>18</td><td>3</td></tr><tr><th>19</th><td>19</td><td>3</td></tr><tr><th>20</th><td>20</td><td>4</td></tr><tr><th>21</th><td>21</td><td>3</td></tr><tr><th>22</th><td>22</td><td>2</td></tr><tr><th>23</th><td>23</td><td>1</td></tr><tr><th>24</th><td>24</td><td>NA</td></tr><tr><th>25</th><td>25</td><td>2</td></tr><tr><th>26</th><td>26</td><td>3</td></tr><tr><th>27</th><td>27</td><td>2</td></tr><tr><th>28</th><td>28</td><td>3</td></tr><tr><th>29</th><td>29</td><td>4</td></tr><tr><th>30</th><td>30</td><td>4</td></tr><tr><th>&vellip;</th><td>&vellip;</td><td>&vellip;</td></tr></tbody></table>"
      ],
      "text/plain": [
       "1000×2 DataFrames.DataFrame\n",
       "│ Row  │ ID   │ Satisfaction │\n",
       "├──────┼──────┼──────────────┤\n",
       "│ 1    │ 1    │ 3            │\n",
       "│ 2    │ 2    │ NA           │\n",
       "│ 3    │ 3    │ 3            │\n",
       "│ 4    │ 4    │ 2            │\n",
       "│ 5    │ 5    │ 2            │\n",
       "│ 6    │ 6    │ 4            │\n",
       "│ 7    │ 7    │ 3            │\n",
       "│ 8    │ 8    │ 3            │\n",
       "│ 9    │ 9    │ 3            │\n",
       "│ 10   │ 10   │ 4            │\n",
       "│ 11   │ 11   │ NA           │\n",
       "⋮\n",
       "│ 989  │ 989  │ 5            │\n",
       "│ 990  │ 990  │ 2            │\n",
       "│ 991  │ 991  │ 4            │\n",
       "│ 992  │ 992  │ 2            │\n",
       "│ 993  │ 993  │ 2            │\n",
       "│ 994  │ 994  │ 2            │\n",
       "│ 995  │ 995  │ 2            │\n",
       "│ 996  │ 996  │ 2            │\n",
       "│ 997  │ 997  │ 3            │\n",
       "│ 998  │ 998  │ 2            │\n",
       "│ 999  │ 999  │ 3            │\n",
       "│ 1000 │ 1000 │ 4            │"
      ]
     },
     "execution_count": 11,
     "metadata": {},
     "output_type": "execute_result"
    }
   ],
   "source": [
    "df"
   ]
  },
  {
   "cell_type": "code",
   "execution_count": null,
   "metadata": {
    "collapsed": true
   },
   "outputs": [],
   "source": []
  }
 ],
 "metadata": {
  "kernelspec": {
   "display_name": "Julia 0.5.0",
   "language": "julia",
   "name": "julia-0.5"
  },
  "language_info": {
   "file_extension": ".jl",
   "mimetype": "application/julia",
   "name": "julia",
   "version": "0.5.0"
  }
 },
 "nbformat": 4,
 "nbformat_minor": 2
}
