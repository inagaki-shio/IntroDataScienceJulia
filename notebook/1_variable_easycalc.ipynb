{
 "cells": [
  {
   "cell_type": "markdown",
   "metadata": {},
   "source": [
    "# Introduction to Data Science with Julia\n",
    "\n",
    "<img src=\"http://julialang.org/images/logo_hires.png\" alt=\"Julia Logo\" width=\"300\"></img>\n",
    "\n",
    "## 目次\n",
    "- [Hello-World!](#Hello-World!)\n",
    "- [コメント](#コメント)\n",
    "- [Help](#Help)\n",
    "- [簡単な数値計算](#簡単な数値計算)\n",
    "- [変数](#変数)\n",
    "- [比較演算子](#比較演算子)\n",
    "- [論理演算](#論理演算)\n",
    "- [文字列](#文字列)\n",
    "- [練習問題](#練習問題)"
   ]
  },
  {
   "cell_type": "markdown",
   "metadata": {},
   "source": [
    "# Hello World!\n",
    "\n",
    "まずはプログラミング言語を学ぶ時の定番の Hello World! 出力するコードを書いてみましょう。\n",
    "\n",
    "Juliaで文字を表示するには print または println 関数を使います。\n",
    "print と println の違いは最後に改行コードが入るか否かの違いです。\n",
    "```julia\n",
    "    print(\"hoge\\n\"), println(\"hoge\")\n",
    "```\n",
    "は同じ意味です。\n",
    "\n",
    "\n",
    "実際に、次の空欄に\n",
    "```julia\n",
    "    print(\"Hello World!\")\n",
    "```\n",
    "と入力し、Shift-Enter または Ctrl-Enter で実行してみましょう。"
   ]
  },
  {
   "cell_type": "code",
   "execution_count": null,
   "metadata": {
    "collapsed": true
   },
   "outputs": [],
   "source": []
  },
  {
   "cell_type": "markdown",
   "metadata": {},
   "source": [
    "[目次に戻る](#目次)"
   ]
  },
  {
   "cell_type": "markdown",
   "metadata": {},
   "source": [
    "# コメント\n",
    "\n",
    "プログラミングが上手くなるためにはひたすらコードを書いて慣れるしかありません。しかし、コードを書き連ねていると後で見なおした時に一体何の計算をしていたのかわからなくなってしまいことが多々起きます。\n",
    "未来の自分が見ても理解できるように、プログラミングをするときにはどんな計算をしているのかというコメントを入れることを意識しましょう。\n",
    "\n",
    "Julia ではコメントにしたい部分は # のあとに書きます。# の後に書いたものは例えコンピュータが実行できる文法だったとしても評価されません。"
   ]
  },
  {
   "cell_type": "code",
   "execution_count": null,
   "metadata": {
    "collapsed": false
   },
   "outputs": [],
   "source": [
    "# Hello worldを出力するプログラム。\n",
    "print(\"Hello World!\")\n",
    "# print(\"Kyushu University\")"
   ]
  },
  {
   "cell_type": "markdown",
   "metadata": {},
   "source": [
    "複数行に渡る長いコメントを書く場合は #= =# で囲みます。"
   ]
  },
  {
   "cell_type": "code",
   "execution_count": null,
   "metadata": {
    "collapsed": true
   },
   "outputs": [],
   "source": [
    "#=\n",
    "ここに書いたことは評価されません。\n",
    "プログラムを書き直すときにコードの不必要な部分を消してしまう人がいますが、後々になって消さなければよかったと思うことはよくあることです。\n",
    "そのため、一度は不必要だと思っても消さずに、このようにコメントとして残しておくことをおすすめします。\n",
    "=#"
   ]
  },
  {
   "cell_type": "markdown",
   "metadata": {},
   "source": [
    "[目次に戻る](#目次)"
   ]
  },
  {
   "cell_type": "markdown",
   "metadata": {},
   "source": [
    "# Help\n",
    "\n",
    "プログラミンの上達のためには、自ら手を動かしてコードを書くことも重要ですが、プログラミングが上手い人のコードを真似ることも重要です。ですが、他人のコードを参考にしていると必ずあなたの知らない関数と出会うことでしょう。\n",
    "\n",
    "Juliaでは、そのような未知の関数の動作を知りたい場合は\n",
    "```julia\n",
    "    ?関数名\n",
    "```\n",
    "とすることで使い方を調べることが出来ます。ただし、全ての関数に Help があるわけではないので、そのようなときはネットで調べるか、公式ドキュメントを当たってください。"
   ]
  },
  {
   "cell_type": "code",
   "execution_count": null,
   "metadata": {
    "collapsed": false
   },
   "outputs": [],
   "source": [
    "?fft"
   ]
  },
  {
   "cell_type": "code",
   "execution_count": null,
   "metadata": {
    "collapsed": true
   },
   "outputs": [],
   "source": []
  },
  {
   "cell_type": "markdown",
   "metadata": {},
   "source": [
    "[目次に戻る](#目次)"
   ]
  },
  {
   "cell_type": "markdown",
   "metadata": {},
   "source": [
    "## 簡単な数値計算\n",
    "\n",
    "千里の道も一歩から。まずは簡単な四則演算からプログラミングの初歩を学びましょう。<br>\n",
    "次の空欄に 1 + 1 や 2 * 8 など簡単な計算式を入力し、Shift - Enter で実行してみましょう。<br>\n",
    "\n",
    "他のプログラミング言語同様、Julia での四則演算は+, -, *, / を使います。"
   ]
  },
  {
   "cell_type": "code",
   "execution_count": null,
   "metadata": {
    "collapsed": false
   },
   "outputs": [],
   "source": [
    "1 + 3"
   ]
  },
  {
   "cell_type": "markdown",
   "metadata": {},
   "source": [
    "プログラミング言語によっては\n",
    "```julia\n",
    "    整数 / 整数 = 整数\n",
    "```\n",
    "となりますが、Juliaでは小数になります。"
   ]
  },
  {
   "cell_type": "code",
   "execution_count": null,
   "metadata": {
    "collapsed": false
   },
   "outputs": [],
   "source": [
    "3 / 2 # C言語で同様のことをすると 1 になります。"
   ]
  },
  {
   "cell_type": "markdown",
   "metadata": {},
   "source": [
    "商を求めるには div 関数を、余りを求めるには mod, rem, % のいずれかを使います。\n",
    "\n",
    "正の整数同士の剰余算では mod, rem も同じ値を返しますが、負の整数と正の整数では mod と rem で違う値を返します。気になる人は ?mod, ?rem でどのように違うのか調べてみましょう。"
   ]
  },
  {
   "cell_type": "code",
   "execution_count": null,
   "metadata": {
    "collapsed": false
   },
   "outputs": [],
   "source": [
    "div(5, 2)"
   ]
  },
  {
   "cell_type": "code",
   "execution_count": null,
   "metadata": {
    "collapsed": false
   },
   "outputs": [],
   "source": [
    "mod(11, 3)"
   ]
  },
  {
   "cell_type": "code",
   "execution_count": null,
   "metadata": {
    "collapsed": false
   },
   "outputs": [],
   "source": [
    "10 % 3"
   ]
  },
  {
   "cell_type": "markdown",
   "metadata": {},
   "source": [
    "divrem 関数を使うと商と余りを一度に計算することが出来ます。"
   ]
  },
  {
   "cell_type": "code",
   "execution_count": null,
   "metadata": {
    "collapsed": false
   },
   "outputs": [],
   "source": [
    "divrem(5,2)"
   ]
  },
  {
   "cell_type": "code",
   "execution_count": null,
   "metadata": {
    "collapsed": true
   },
   "outputs": [],
   "source": []
  },
  {
   "cell_type": "markdown",
   "metadata": {},
   "source": [
    "[目次に戻る](#目次)"
   ]
  },
  {
   "cell_type": "markdown",
   "metadata": {},
   "source": [
    "他の一般的なプログラミング言語と違い Julia では分数も扱うことが出来ます。分数同士の四則演算では結果も分数になりますが、\n",
    "分数 * 小数 などとすると結果は小数になります。<br><br>\n",
    "$\\displaystyle \\frac{a}{b}$を表現するためには\n",
    "```julia\n",
    "    a // b\n",
    "```\n",
    "と打ちます。"
   ]
  },
  {
   "cell_type": "code",
   "execution_count": null,
   "metadata": {
    "collapsed": false
   },
   "outputs": [],
   "source": [
    "3//2"
   ]
  },
  {
   "cell_type": "code",
   "execution_count": null,
   "metadata": {
    "collapsed": false
   },
   "outputs": [],
   "source": [
    "2//6 # 自動的に約分される"
   ]
  },
  {
   "cell_type": "code",
   "execution_count": null,
   "metadata": {
    "collapsed": false
   },
   "outputs": [],
   "source": [
    "2//3 + 3//4"
   ]
  },
  {
   "cell_type": "code",
   "execution_count": null,
   "metadata": {
    "collapsed": false
   },
   "outputs": [],
   "source": [
    "2//3 * 6"
   ]
  },
  {
   "cell_type": "code",
   "execution_count": null,
   "metadata": {
    "collapsed": false
   },
   "outputs": [],
   "source": [
    "2//3 * 1.5"
   ]
  },
  {
   "cell_type": "markdown",
   "metadata": {},
   "source": [
    "その他よく使うものとして、べき乗は ^ を使います。"
   ]
  },
  {
   "cell_type": "code",
   "execution_count": null,
   "metadata": {
    "collapsed": false
   },
   "outputs": [],
   "source": [
    "2^6 # 2の6乗"
   ]
  },
  {
   "cell_type": "code",
   "execution_count": null,
   "metadata": {
    "collapsed": true
   },
   "outputs": [],
   "source": []
  },
  {
   "cell_type": "markdown",
   "metadata": {},
   "source": [
    "[目次に戻る](#目次)"
   ]
  },
  {
   "cell_type": "markdown",
   "metadata": {},
   "source": [
    "## 変数\n",
    "\n",
    "電卓代わりに使うのならば上記のような使い方でも良いですが、プログラムでは一度計算した結果を再度使用することが多々有ります。そのたびに計算式を書いていては非効率的です。このようなときは変数を用いて計算結果を保存しましょう。変数 x に 10 を保存する場合は以下のようにします。\n",
    "```julia\n",
    "     x = 10\n",
    "```\n",
    "数学では = は等号ですが、プログラミングの世界では代入を表します。つまり、x = 10 と書いたら、 x という名前がついた箱に 10 という数字を格納することを意味します。\n",
    "\n",
    "C言語などのコンパイラ型言語では\n",
    "```C\n",
    "int x = 10\n",
    "```\n",
    "と変数の型を宣言する必要がありますが、Juliaではそのような型宣言は必要ありません。\n",
    "\n",
    "変数名にはローマ字以外にもアンダーバー\" _ \" などの記号も使えますが、以下のものは使えません。\n",
    "- ピリオド . コンマ , を入れた変数名\n",
    "- for, if などのすでに特殊な意味を持つ文字\n",
    "- 数字から始まるもの\n",
    "\n",
    "**Good names**\n",
    "- hoge\n",
    "- Hoge # Juliaでは大文字と小文字は区別されます\n",
    "- piyo_foo\n",
    "- _tux\n",
    "- 九州 # Juliaでは漢字も変数名として使えます。\n",
    "\n",
    "**Bad names**\n",
    "- hoge.piyo\n",
    "- 123foo\n",
    "- if\n",
    "\n",
    "変数名には文法上許す限りどんなものでも使えますが、Julia 推奨の変数名の付け方もあります。これを知っておくとヘルプを見なくてもどのようなものか何となくわかるようになります。興味のある人は[公式マニュアル](http://docs.julialang.org/en/latest/manual/variables.html#Stylistic-Conventions-1)を見てみましょう。"
   ]
  },
  {
   "cell_type": "code",
   "execution_count": null,
   "metadata": {
    "collapsed": false
   },
   "outputs": [],
   "source": [
    "x = 10"
   ]
  },
  {
   "cell_type": "code",
   "execution_count": null,
   "metadata": {
    "collapsed": false
   },
   "outputs": [],
   "source": [
    "x # x の中身を確認して実際に 10 が入っていることを確認してみましょう。"
   ]
  },
  {
   "cell_type": "markdown",
   "metadata": {},
   "source": [
    "変数を利用すると下記のようにコードの再利用性が上がります。"
   ]
  },
  {
   "cell_type": "code",
   "execution_count": null,
   "metadata": {
    "collapsed": false
   },
   "outputs": [],
   "source": [
    "a = 10 # a, b, c の値を変えて実行してみましょう。\n",
    "b = 3\n",
    "c = 90\n",
    "(a * b * c) / (a * b + b * c + c * a)"
   ]
  },
  {
   "cell_type": "code",
   "execution_count": null,
   "metadata": {
    "collapsed": false
   },
   "outputs": [],
   "source": [
    "π # π には始めから円周率の値が入っている"
   ]
  },
  {
   "cell_type": "code",
   "execution_count": null,
   "metadata": {
    "collapsed": false
   },
   "outputs": [],
   "source": [
    "田中 = 10\n",
    "太郎 = 3\n",
    "田中 * 太郎"
   ]
  },
  {
   "cell_type": "code",
   "execution_count": null,
   "metadata": {
    "collapsed": true
   },
   "outputs": [],
   "source": []
  },
  {
   "cell_type": "markdown",
   "metadata": {},
   "source": [
    "[目次に戻る](#目次)"
   ]
  },
  {
   "cell_type": "markdown",
   "metadata": {},
   "source": [
    "### 変数の更新\n",
    "\n",
    "先程は変数 x に 10 という値を代入しましたが、x = 100 とすると変数の値を100に更新することが出来ます。"
   ]
  },
  {
   "cell_type": "code",
   "execution_count": null,
   "metadata": {
    "collapsed": false
   },
   "outputs": [],
   "source": [
    "x = 10"
   ]
  },
  {
   "cell_type": "code",
   "execution_count": null,
   "metadata": {
    "collapsed": false
   },
   "outputs": [],
   "source": [
    "x = 100"
   ]
  },
  {
   "cell_type": "code",
   "execution_count": null,
   "metadata": {
    "collapsed": false
   },
   "outputs": [],
   "source": [
    "x # 値が 100 に更新された"
   ]
  },
  {
   "cell_type": "markdown",
   "metadata": {},
   "source": [
    "現在の変数 x の値を、2倍したものに更新するにはどのようにしたらよいでしょうか？<br>\n",
    "わざわざ変数の値を確認して\n",
    "```julia\n",
    "    x = 2 * 100\n",
    "```\n",
    "としていては面倒この上ありません。\n",
    "\n",
    "このような場合には\n",
    "```julia\n",
    "    x = 2 * x\n",
    "```\n",
    "とすることによって変数の値を更新することが出来ます。"
   ]
  },
  {
   "cell_type": "code",
   "execution_count": null,
   "metadata": {
    "collapsed": false
   },
   "outputs": [],
   "source": [
    "x"
   ]
  },
  {
   "cell_type": "code",
   "execution_count": null,
   "metadata": {
    "collapsed": false
   },
   "outputs": [],
   "source": [
    "x = 2 * x"
   ]
  },
  {
   "cell_type": "code",
   "execution_count": null,
   "metadata": {
    "collapsed": false
   },
   "outputs": [],
   "source": [
    "x"
   ]
  },
  {
   "cell_type": "markdown",
   "metadata": {},
   "source": [
    "掛け算だけでなく、その他の演算に対しても同様の文法で値を更新することが出来ます。"
   ]
  },
  {
   "cell_type": "code",
   "execution_count": null,
   "metadata": {
    "collapsed": false
   },
   "outputs": [],
   "source": [
    "x = x + 2"
   ]
  },
  {
   "cell_type": "code",
   "execution_count": null,
   "metadata": {
    "collapsed": false
   },
   "outputs": [],
   "source": [
    "x = x / 2"
   ]
  },
  {
   "cell_type": "markdown",
   "metadata": {},
   "source": [
    "上の計算例では\n",
    "```julia\n",
    "    x = 2 * x\n",
    "```\n",
    "と書きましたが、全く同じ意味で\n",
    "```julia\n",
    "    x *= 2\n",
    "```\n",
    "と書くことも出来ます。このような書き方は慣れるまでに時間がかかるかもしれませんが、プログラミングではこのように書くほうがより一般的なので早く慣れましょう。\n",
    "\n",
    "| x = x + a | x += a |\n",
    "|-----------|--------|\n",
    "| x = x - a | x -= a |\n",
    "| x = x * a | x *=a  |\n",
    "| x = x/a   | x /= a |"
   ]
  },
  {
   "cell_type": "code",
   "execution_count": null,
   "metadata": {
    "collapsed": false
   },
   "outputs": [],
   "source": [
    "x = 10\n",
    "a = 2\n",
    "x += a"
   ]
  },
  {
   "cell_type": "code",
   "execution_count": null,
   "metadata": {
    "collapsed": true
   },
   "outputs": [],
   "source": []
  },
  {
   "cell_type": "markdown",
   "metadata": {},
   "source": [
    "[目次に戻る](#目次)"
   ]
  },
  {
   "cell_type": "markdown",
   "metadata": {},
   "source": [
    "# 比較演算子\n",
    "比較演算子は2つの値を比較するときに使う演算子です。名前のまんまですね。比較演算子には以下のようなものが有ります。\n",
    "\n",
    "| Operator | Name                     |\n",
    "|----------|--------------------------|\n",
    "| ==       | equality                 |\n",
    "| !=, ≠    | inequality               |\n",
    "| <        | less than                |\n",
    "| <=, ≤    | less than or equal to    |\n",
    "| >        | greater than             |\n",
    "| >=, ≥    | greater than or equal to |\n",
    "\n",
    "実際に使ってみてどのような結果が返ってくるのか試してみましょう。"
   ]
  },
  {
   "cell_type": "code",
   "execution_count": null,
   "metadata": {
    "collapsed": false
   },
   "outputs": [],
   "source": [
    "1 < 3"
   ]
  },
  {
   "cell_type": "code",
   "execution_count": null,
   "metadata": {
    "collapsed": false
   },
   "outputs": [],
   "source": [
    "10 < 5"
   ]
  },
  {
   "cell_type": "code",
   "execution_count": null,
   "metadata": {
    "collapsed": false
   },
   "outputs": [],
   "source": [
    "2.5 <= 2.5"
   ]
  },
  {
   "cell_type": "code",
   "execution_count": null,
   "metadata": {
    "collapsed": false
   },
   "outputs": [],
   "source": [
    "x, y = 10, 10.0\n",
    "x == y"
   ]
  },
  {
   "cell_type": "code",
   "execution_count": null,
   "metadata": {
    "collapsed": true
   },
   "outputs": [],
   "source": []
  },
  {
   "cell_type": "markdown",
   "metadata": {},
   "source": [
    "[目次に戻る](#目次)"
   ]
  },
  {
   "cell_type": "markdown",
   "metadata": {},
   "source": [
    "# 論理演算\n",
    "\n",
    "| P | Q | P∧Q | P∨Q | ¬P∧Q | P∨¬Q | ¬(P∧Q) | ¬P∨¬Q | ¬(P∨Q) | ¬P∧¬Q | P∧¬Q |\n",
    "|---|---|-----|-----|------|------|--------|-------|--------|-------|------|\n",
    "| T | T | T   | T   | F    | T    | F      | F     | F      | F     | F    |\n",
    "| T | F | F   | T   | F    | T    | T      | T     | F      | F     | T    |\n",
    "| F | T | F   | T   | T    | F    | T      | T     | F      | F     | F    |\n",
    "| F | F | F   | F   | F    | T    | T      | T     | T      | T     | F    |\n",
    "\n",
    "Juliaにおいて「かつ (and)」は \" && \", 「または (or)」は \" || \", 否定は真偽の前に \" ! \" をつけます。実際にいろいろ試してみて上の真偽表と同じになるか確認してみましょう。"
   ]
  },
  {
   "cell_type": "code",
   "execution_count": null,
   "metadata": {
    "collapsed": false
   },
   "outputs": [],
   "source": [
    "true"
   ]
  },
  {
   "cell_type": "code",
   "execution_count": null,
   "metadata": {
    "collapsed": false
   },
   "outputs": [],
   "source": [
    "!true"
   ]
  },
  {
   "cell_type": "code",
   "execution_count": null,
   "metadata": {
    "collapsed": false
   },
   "outputs": [],
   "source": [
    "true && true"
   ]
  },
  {
   "cell_type": "code",
   "execution_count": null,
   "metadata": {
    "collapsed": false
   },
   "outputs": [],
   "source": [
    "true && false"
   ]
  },
  {
   "cell_type": "code",
   "execution_count": null,
   "metadata": {
    "collapsed": false
   },
   "outputs": [],
   "source": [
    "true || false"
   ]
  },
  {
   "cell_type": "code",
   "execution_count": null,
   "metadata": {
    "collapsed": false
   },
   "outputs": [],
   "source": [
    "1 < 3 && 3 < 5"
   ]
  },
  {
   "cell_type": "markdown",
   "metadata": {},
   "source": [
    "Julia 以外のプログラミング言語では $a < x < b$ を表現する場合、\n",
    "```C\n",
    "    a < x && x < b\n",
    "```\n",
    "のように2つの条件式を && でつなぐ必要が有りますが、Juliaでは $a < x < b$ のまま使えるため、より数学的に表現することが出来ます。"
   ]
  },
  {
   "cell_type": "code",
   "execution_count": null,
   "metadata": {
    "collapsed": false
   },
   "outputs": [],
   "source": [
    "x = 3\n",
    "1 < x < 5 "
   ]
  },
  {
   "cell_type": "code",
   "execution_count": null,
   "metadata": {
    "collapsed": true
   },
   "outputs": [],
   "source": []
  },
  {
   "cell_type": "markdown",
   "metadata": {},
   "source": [
    "[目次に戻る](#目次)"
   ]
  },
  {
   "cell_type": "markdown",
   "metadata": {},
   "source": [
    "## 文字列\n",
    "\n",
    "今までは変数に数字を代入してきましたが、変数に代入できるものは数字に限りません。変数には後述する配列や関数などあらゆる物を代入することが出来ます。\n",
    "\n",
    "数字以外の例としてここでは変数に文字列を代入してみましょう。Julia では \" \" で囲った部分が文字列になります。"
   ]
  },
  {
   "cell_type": "code",
   "execution_count": null,
   "metadata": {
    "collapsed": false
   },
   "outputs": [],
   "source": [
    "str = \"Hello!\""
   ]
  },
  {
   "cell_type": "code",
   "execution_count": null,
   "metadata": {
    "collapsed": false
   },
   "outputs": [],
   "source": [
    "str"
   ]
  },
  {
   "cell_type": "code",
   "execution_count": null,
   "metadata": {
    "collapsed": true
   },
   "outputs": [],
   "source": []
  },
  {
   "cell_type": "markdown",
   "metadata": {
    "collapsed": true
   },
   "source": [
    "```julia\n",
    "    文字列1 * 文字列2\n",
    "```\n",
    "とすると文字列1, 2が連結されます。"
   ]
  },
  {
   "cell_type": "code",
   "execution_count": null,
   "metadata": {
    "collapsed": false
   },
   "outputs": [],
   "source": [
    "str1 = \"Hello \"\n",
    "str2 = \"World!\"\n",
    "str1 * str2"
   ]
  },
  {
   "cell_type": "code",
   "execution_count": null,
   "metadata": {
    "collapsed": true
   },
   "outputs": [],
   "source": []
  },
  {
   "cell_type": "markdown",
   "metadata": {},
   "source": [
    "べき乗にすると繰り返しになります"
   ]
  },
  {
   "cell_type": "code",
   "execution_count": null,
   "metadata": {
    "collapsed": false
   },
   "outputs": [],
   "source": [
    "\"トゥー\"^8 * \" どこまで行くの 僕達今夜\""
   ]
  },
  {
   "cell_type": "code",
   "execution_count": null,
   "metadata": {
    "collapsed": true
   },
   "outputs": [],
   "source": []
  },
  {
   "cell_type": "markdown",
   "metadata": {},
   "source": [
    "文字列の中に変数の値を入れたい場合は、$変数名 とします。"
   ]
  },
  {
   "cell_type": "code",
   "execution_count": null,
   "metadata": {
    "collapsed": false
   },
   "outputs": [],
   "source": [
    "today = Dates.today()\n",
    "\"今日は $today です\""
   ]
  },
  {
   "cell_type": "code",
   "execution_count": null,
   "metadata": {
    "collapsed": true
   },
   "outputs": [],
   "source": []
  },
  {
   "cell_type": "markdown",
   "metadata": {},
   "source": [
    "[目次に戻る](#目次)"
   ]
  },
  {
   "cell_type": "markdown",
   "metadata": {},
   "source": [
    "## 練習問題\n",
    "### 1.1\n",
    "下記のコードの出力結果はどれか?\n",
    "```julia\n",
    "x = 5\n",
    "print(\"x\")\n",
    "```\n",
    "- x\n",
    "- 5\n",
    "- \"x\"\n",
    "- \"5\""
   ]
  },
  {
   "cell_type": "code",
   "execution_count": null,
   "metadata": {
    "collapsed": false
   },
   "outputs": [],
   "source": []
  },
  {
   "cell_type": "markdown",
   "metadata": {
    "collapsed": false
   },
   "source": [
    "### 1.2\n",
    "下記のコードの出力結果はどれか?\n",
    "```julia\n",
    "x = 5\n",
    "print(\"$x\")\n",
    "```\n",
    "- x\n",
    "- 5\n",
    "- \"\\$x\"\n",
    "- \"\\$5\""
   ]
  },
  {
   "cell_type": "code",
   "execution_count": null,
   "metadata": {
    "collapsed": false
   },
   "outputs": [],
   "source": []
  },
  {
   "cell_type": "markdown",
   "metadata": {},
   "source": [
    "### 2.\n",
    "a, bの値はいくつか?\n",
    "```julia\n",
    "a = 3\n",
    "b = 7\n",
    "b = a\n",
    "println(a, \", \", b)\n",
    "```\n",
    "- (a, b) = (3, 7)\n",
    "- (a, b) = (7, 3)\n",
    "- (a, b) = (3, 3)\n",
    "- (a, b) = (7, 7)"
   ]
  },
  {
   "cell_type": "code",
   "execution_count": null,
   "metadata": {
    "collapsed": false
   },
   "outputs": [],
   "source": []
  },
  {
   "cell_type": "markdown",
   "metadata": {},
   "source": [
    "### 3.\n",
    "c の値はいくつになるか?\n",
    "```julia\n",
    "a, b, c = 18, 9, 2\n",
    "c += a\n",
    "c *= b\n",
    "```"
   ]
  },
  {
   "cell_type": "code",
   "execution_count": null,
   "metadata": {
    "collapsed": false
   },
   "outputs": [],
   "source": []
  },
  {
   "cell_type": "markdown",
   "metadata": {},
   "source": [
    "### 4.\n",
    "rem, mod の答えが一致する組み合わせはどれか?\n",
    "- rem(201, 5), mod(-201, 5)\n",
    "- rem(201, 5), mod(201, 5)\n",
    "- rem(-19, 10), mod(-19, 10)\n",
    "- rem(19, -10), mod(19, -10)"
   ]
  },
  {
   "cell_type": "code",
   "execution_count": null,
   "metadata": {
    "collapsed": false
   },
   "outputs": [],
   "source": []
  },
  {
   "cell_type": "markdown",
   "metadata": {},
   "source": [
    "### 5.\n",
    "```julia\n",
    "a = -1\n",
    "b = 10\n",
    "```\n",
    "の時、remを使って mod(a,b) と同じ結果を得るためにはどうしたら良いか？"
   ]
  },
  {
   "cell_type": "code",
   "execution_count": null,
   "metadata": {
    "collapsed": false
   },
   "outputs": [],
   "source": []
  },
  {
   "cell_type": "markdown",
   "metadata": {},
   "source": [
    "[目次に戻る](#目次)"
   ]
  }
 ],
 "metadata": {
  "kernelspec": {
   "display_name": "Julia 0.5.0",
   "language": "julia",
   "name": "julia-0.5"
  },
  "language_info": {
   "file_extension": ".jl",
   "mimetype": "application/julia",
   "name": "julia",
   "version": "0.5.1"
  }
 },
 "nbformat": 4,
 "nbformat_minor": 2
}
