{
 "cells": [
  {
   "cell_type": "markdown",
   "metadata": {},
   "source": [
    "# Introduction to Data Science with Julia\n",
    "\n",
    "<img src=\"http://julialang.org/images/logo_hires.png\" alt=\"Julia Logo\" width=\"300\"></img>\n",
    "\n",
    "# 目次\n",
    "- [配列操作](#配列操作)\n",
    " - [要素を抜き出す](#要素を抜き出す)\n",
    " - [値の更新](#値の更新)\n",
    " - [配列演算](#配列演算)\n",
    " - [要素の比較](#要素の比較)\n",
    " - [配列を扱う上での注意](#配列を扱う上での注意)\n",
    "- [練習問題](#練習問題)"
   ]
  },
  {
   "cell_type": "markdown",
   "metadata": {},
   "source": [
    "# 配列操作\n",
    "\n",
    "今回は配列操作について学びます。\n",
    "データ分析をする際には配列単位で操作をすることが多くなるのでしっかりと身につけてください。\n",
    "\n",
    "\n",
    "まず初めに復習として、配列は [ ] で配列の要素にしたいものを囲んで作るのでした。"
   ]
  },
  {
   "cell_type": "code",
   "execution_count": null,
   "metadata": {
    "collapsed": false
   },
   "outputs": [],
   "source": [
    "x = [1, 2, 3, 4, 5]"
   ]
  },
  {
   "cell_type": "markdown",
   "metadata": {
    "collapsed": true
   },
   "source": [
    "今度は、2次元配列 (行列) を作ってみます。2次元配列を作るには各行の要素を**スペース区切り**で書き、行の終わりをセミコロン ; で区切ります。"
   ]
  },
  {
   "cell_type": "code",
   "execution_count": null,
   "metadata": {
    "collapsed": false
   },
   "outputs": [],
   "source": [
    "[1 2 3; 4 5 6 ; 7 8 9]"
   ]
  },
  {
   "cell_type": "markdown",
   "metadata": {
    "collapsed": true
   },
   "source": [
    "各行の区切りは改行でも大丈夫です。改行を使って書くとより行列に近い形に書けるので見やすくなります。"
   ]
  },
  {
   "cell_type": "code",
   "execution_count": null,
   "metadata": {
    "collapsed": false
   },
   "outputs": [],
   "source": [
    "[1 2 3\n",
    "4 5 6\n",
    "7 8 9]"
   ]
  },
  {
   "cell_type": "markdown",
   "metadata": {},
   "source": [
    "要素を 0 に初期化した $M \\times N$ 行列を作るときは zeros を使うと便利です。"
   ]
  },
  {
   "cell_type": "code",
   "execution_count": null,
   "metadata": {
    "collapsed": false
   },
   "outputs": [],
   "source": [
    "M = 5\n",
    "N = 3\n",
    "zeros(M, N) # zeros(Int, M, N) とすると Int 型になる"
   ]
  },
  {
   "cell_type": "markdown",
   "metadata": {},
   "source": [
    "全要素を 1 に初期化する場合は ones を使います。"
   ]
  },
  {
   "cell_type": "code",
   "execution_count": null,
   "metadata": {
    "collapsed": false
   },
   "outputs": [],
   "source": [
    "ones(M, N) # ones(Int, M, N) とすると Int 型になる"
   ]
  },
  {
   "cell_type": "markdown",
   "metadata": {},
   "source": [
    "任意の数字や文字列で初期化した配列を作るには fill を使います。"
   ]
  },
  {
   "cell_type": "code",
   "execution_count": null,
   "metadata": {
    "collapsed": false
   },
   "outputs": [],
   "source": [
    "fill(3, 5, 2)"
   ]
  },
  {
   "cell_type": "code",
   "execution_count": null,
   "metadata": {
    "collapsed": false
   },
   "outputs": [],
   "source": [
    "fill(\"hoge\", 5, 2)"
   ]
  },
  {
   "cell_type": "code",
   "execution_count": null,
   "metadata": {
    "collapsed": true
   },
   "outputs": [],
   "source": []
  },
  {
   "cell_type": "markdown",
   "metadata": {},
   "source": [
    "複数の配列を [ ] で囲むことで配列を結合することが出来ます。"
   ]
  },
  {
   "cell_type": "code",
   "execution_count": null,
   "metadata": {
    "collapsed": false
   },
   "outputs": [],
   "source": [
    "x = [1, 2, 3]\n",
    "y = [4, 5, 6]\n",
    "[x y] # 縦ベクトル２つを結合。hcat 関数を使っても同様のことが出来る"
   ]
  },
  {
   "cell_type": "code",
   "execution_count": null,
   "metadata": {
    "collapsed": false
   },
   "outputs": [],
   "source": [
    "x = [1 2 3]\n",
    "y = [4 5 6]\n",
    "[x y] # 横ベクトル２つを結合"
   ]
  },
  {
   "cell_type": "code",
   "execution_count": null,
   "metadata": {
    "collapsed": false
   },
   "outputs": [],
   "source": [
    "x = [1,2,3]\n",
    "y = [4,5,6]\n",
    "[x; y] # vcat 関数を使っても同様のことが出来る"
   ]
  },
  {
   "cell_type": "code",
   "execution_count": null,
   "metadata": {
    "collapsed": true
   },
   "outputs": [],
   "source": []
  },
  {
   "cell_type": "markdown",
   "metadata": {},
   "source": [
    "push! を使うと一次元配列の末尾に要素を追加することが出来ます。"
   ]
  },
  {
   "cell_type": "code",
   "execution_count": null,
   "metadata": {
    "collapsed": false
   },
   "outputs": [],
   "source": [
    "x = [1,2,3]\n",
    "@show x\n",
    "push!(x, 10) # push!(x, 10, 11) などとすれば複数の要素を一度についかできる\n",
    "@show x"
   ]
  },
  {
   "cell_type": "markdown",
   "metadata": {},
   "source": [
    "push! とは逆に末尾の要素を取り出すには pop! を使います"
   ]
  },
  {
   "cell_type": "code",
   "execution_count": null,
   "metadata": {
    "collapsed": false
   },
   "outputs": [],
   "source": [
    "@show x\n",
    "pop!(x)\n",
    "@show x"
   ]
  },
  {
   "cell_type": "markdown",
   "metadata": {},
   "source": [
    "unshift! を使うと先頭に要素を追加することが出来ます"
   ]
  },
  {
   "cell_type": "code",
   "execution_count": null,
   "metadata": {
    "collapsed": false
   },
   "outputs": [],
   "source": [
    "unshift!(x, 5) # 複数の要素を一度に追加も出来る"
   ]
  },
  {
   "cell_type": "markdown",
   "metadata": {},
   "source": [
    "shift! を使うと先頭に要素を取り出すことが出来ます"
   ]
  },
  {
   "cell_type": "code",
   "execution_count": null,
   "metadata": {
    "collapsed": false
   },
   "outputs": [],
   "source": [
    "@show x\n",
    "shift!(x)\n",
    "@show x"
   ]
  },
  {
   "cell_type": "code",
   "execution_count": null,
   "metadata": {
    "collapsed": true
   },
   "outputs": [],
   "source": []
  },
  {
   "cell_type": "markdown",
   "metadata": {
    "collapsed": true
   },
   "source": [
    "2次元配列の $(i,j)$ 成分へのアクセスは $A[i,j]$ のように指定します。"
   ]
  },
  {
   "cell_type": "code",
   "execution_count": null,
   "metadata": {
    "collapsed": false
   },
   "outputs": [],
   "source": [
    "A = [1 2 3\n",
    "    4 5 6\n",
    "    7 8 9]\n",
    "A[1, 3]"
   ]
  },
  {
   "cell_type": "markdown",
   "metadata": {
    "collapsed": true
   },
   "source": [
    "3次元以上は \n",
    "```julia\n",
    "    Array{Any}(3,3,3) # 3 x 3 x 3 配列\n",
    "```\n",
    "と雛形を作ってから、後で値を代入する必要が有ります。ただし、3次元以上の配列はあまり使うことはないでしょう。"
   ]
  },
  {
   "cell_type": "code",
   "execution_count": null,
   "metadata": {
    "collapsed": false
   },
   "outputs": [],
   "source": [
    "X = Array{Int}(3,3,3) # 初期値はコンピュータが勝手に決める"
   ]
  },
  {
   "cell_type": "code",
   "execution_count": null,
   "metadata": {
    "collapsed": true
   },
   "outputs": [],
   "source": []
  },
  {
   "cell_type": "markdown",
   "metadata": {},
   "source": [
    "[目次に戻る](#目次)"
   ]
  },
  {
   "cell_type": "markdown",
   "metadata": {
    "collapsed": true
   },
   "source": [
    "## 要素を抜き出す\n",
    "\n",
    "配列の要素をある区間抜き出すには range を使います。range とは for 文のところでも使っていた 1:10 などです。\n",
    "\n",
    "range の書き方は\n",
    "```julia\n",
    "    start:step:stop\n",
    "```\n",
    "の様に書きます。step を省略すると 1 刻みになります。\n",
    "\n",
    "\n",
    "この range を使って\n",
    "```julia\n",
    "    x = [1, 2, 3, 4, 5]\n",
    "```\n",
    "から奇数番目の要素だけを抜き出す場合には以下のようにします。"
   ]
  },
  {
   "cell_type": "code",
   "execution_count": null,
   "metadata": {
    "collapsed": false
   },
   "outputs": [],
   "source": [
    "x = [1, 2, 3, 4, 5]\n",
    "x[1:2:5] # 1 〜 5 までの数を2刻み"
   ]
  },
  {
   "cell_type": "markdown",
   "metadata": {},
   "source": [
    "添字に : を使うと全要素という意味になります。"
   ]
  },
  {
   "cell_type": "code",
   "execution_count": null,
   "metadata": {
    "collapsed": false
   },
   "outputs": [],
   "source": [
    "x[:]"
   ]
  },
  {
   "cell_type": "markdown",
   "metadata": {
    "collapsed": true
   },
   "source": [
    "end を使うと要素の最後までを表すことが出来ます。"
   ]
  },
  {
   "cell_type": "code",
   "execution_count": null,
   "metadata": {
    "collapsed": false
   },
   "outputs": [],
   "source": [
    "x[1:2:end]"
   ]
  },
  {
   "cell_type": "markdown",
   "metadata": {},
   "source": [
    "末端 -1 の要素までなどとする場合は end -1 とすれば大丈夫です。"
   ]
  },
  {
   "cell_type": "code",
   "execution_count": null,
   "metadata": {
    "collapsed": false
   },
   "outputs": [],
   "source": [
    "x[1:2:end-1]"
   ]
  },
  {
   "cell_type": "code",
   "execution_count": null,
   "metadata": {
    "collapsed": true
   },
   "outputs": [],
   "source": []
  },
  {
   "cell_type": "markdown",
   "metadata": {},
   "source": [
    "この書き方は行列に関しても同じです。\n",
    "\n",
    "3 x 3 行列から1列目を抜き出す"
   ]
  },
  {
   "cell_type": "code",
   "execution_count": null,
   "metadata": {
    "collapsed": false
   },
   "outputs": [],
   "source": [
    "A = [1 2 3\n",
    "    4 5 6\n",
    "    7 8 9]\n",
    "A[:, 1]"
   ]
  },
  {
   "cell_type": "markdown",
   "metadata": {},
   "source": [
    "3 x 3 行列から1行目を抜き出す"
   ]
  },
  {
   "cell_type": "code",
   "execution_count": null,
   "metadata": {
    "collapsed": false
   },
   "outputs": [],
   "source": [
    "A[1,:]"
   ]
  },
  {
   "cell_type": "markdown",
   "metadata": {},
   "source": [
    "3 x 3 行列から 2 x 2 行列を抜き出す"
   ]
  },
  {
   "cell_type": "code",
   "execution_count": null,
   "metadata": {
    "collapsed": false
   },
   "outputs": [],
   "source": [
    "A[1:2, 1:2]"
   ]
  },
  {
   "cell_type": "code",
   "execution_count": null,
   "metadata": {
    "collapsed": true
   },
   "outputs": [],
   "source": []
  },
  {
   "cell_type": "markdown",
   "metadata": {},
   "source": [
    "要素の指定には true, false も使うことが出来ます。抜き出す必要のあるところを true 、抜き出す必要のないところを false にした配列を添え字として使うと、true に対応した要素だけを抜き出すことが出来ます。"
   ]
  },
  {
   "cell_type": "code",
   "execution_count": null,
   "metadata": {
    "collapsed": false
   },
   "outputs": [],
   "source": [
    "x = collect(1:5) # collect は range を配列に変換する\n",
    "truth = [true, false, true, true, false]\n",
    "x[truth]"
   ]
  },
  {
   "cell_type": "markdown",
   "metadata": {},
   "source": [
    "多次元配列に関しても同様にできます。"
   ]
  },
  {
   "cell_type": "code",
   "execution_count": null,
   "metadata": {
    "collapsed": false
   },
   "outputs": [],
   "source": [
    "x = [1 2\n",
    "    3 4]\n",
    "truth = [true false\n",
    "        false true]\n",
    "x[truth]"
   ]
  },
  {
   "cell_type": "code",
   "execution_count": null,
   "metadata": {
    "collapsed": true
   },
   "outputs": [],
   "source": []
  },
  {
   "cell_type": "markdown",
   "metadata": {},
   "source": [
    "[目次に戻る](#目次)"
   ]
  },
  {
   "cell_type": "markdown",
   "metadata": {},
   "source": [
    "## 値の更新\n",
    "\n",
    "上記の要素を抜き出し方を覚えると、配列の要素を一度に更新することが出来ます。例として配列の奇数番目の要素を全て 100 にするには以下のようにします。"
   ]
  },
  {
   "cell_type": "code",
   "execution_count": null,
   "metadata": {
    "collapsed": false
   },
   "outputs": [],
   "source": [
    "x = collect(1:5)\n",
    "x[1:2:end] = 100\n",
    "x"
   ]
  },
  {
   "cell_type": "markdown",
   "metadata": {},
   "source": [
    "奇数番目の数だけ 10 倍にするには次のようになります。"
   ]
  },
  {
   "cell_type": "code",
   "execution_count": null,
   "metadata": {
    "collapsed": false
   },
   "outputs": [],
   "source": [
    "x = collect(1:5)\n",
    "x[1:2:end] *= 10\n",
    "x"
   ]
  },
  {
   "cell_type": "markdown",
   "metadata": {},
   "source": [
    "要素を抜き出して出来た配列と同じサイズの配列を代入すると対応する要素を更新することが出来ます。"
   ]
  },
  {
   "cell_type": "code",
   "execution_count": null,
   "metadata": {
    "collapsed": false
   },
   "outputs": [],
   "source": [
    "x = collect(1:5)\n",
    "x[1:2:end] = [100, 200, 300]\n",
    "x"
   ]
  },
  {
   "cell_type": "code",
   "execution_count": null,
   "metadata": {
    "collapsed": true
   },
   "outputs": [],
   "source": []
  },
  {
   "cell_type": "markdown",
   "metadata": {},
   "source": [
    "[目次に戻る](#目次)"
   ]
  },
  {
   "cell_type": "markdown",
   "metadata": {},
   "source": [
    "## 配列演算\n",
    "\n",
    "配列演算ではある2つの配列の対応する要素ごとに計算が行われます。配列演算をするにはいままで使ってきた演算子にドットをつけるだけです。"
   ]
  },
  {
   "cell_type": "code",
   "execution_count": null,
   "metadata": {
    "collapsed": false
   },
   "outputs": [],
   "source": [
    "x = [1, 2, 3];\n",
    "y = [4, 5, 6];"
   ]
  },
  {
   "cell_type": "markdown",
   "metadata": {},
   "source": [
    "$\\begin{bmatrix}a_1 \\\\a_2 \\end{bmatrix} .+ \\begin{bmatrix}b_1 \\\\b_2 \\end{bmatrix} = \\begin{bmatrix}a_1 + b_1 \\\\a_2 + b_2 \\end{bmatrix}$"
   ]
  },
  {
   "cell_type": "code",
   "execution_count": null,
   "metadata": {
    "collapsed": false
   },
   "outputs": [],
   "source": [
    "x .+ y # 加算と減算ではドットはつけてもつけなくてもどちらでも構いません。"
   ]
  },
  {
   "cell_type": "markdown",
   "metadata": {},
   "source": [
    "$\\begin{bmatrix}a_1 \\\\a_2 \\end{bmatrix} .- \\begin{bmatrix}b_1 \\\\b_2 \\end{bmatrix} = \\begin{bmatrix}a_1 - b_1 \\\\a_2 - b_2 \\end{bmatrix}$"
   ]
  },
  {
   "cell_type": "code",
   "execution_count": null,
   "metadata": {
    "collapsed": false
   },
   "outputs": [],
   "source": [
    "x .- y"
   ]
  },
  {
   "cell_type": "markdown",
   "metadata": {},
   "source": [
    "$\\begin{bmatrix}a_1 \\\\a_2 \\end{bmatrix} .* \\begin{bmatrix}b_1 \\\\b_2 \\end{bmatrix} = \\begin{bmatrix}a_1 * b_1 \\\\a_2 * b_2 \\end{bmatrix}$"
   ]
  },
  {
   "cell_type": "code",
   "execution_count": null,
   "metadata": {
    "collapsed": false
   },
   "outputs": [],
   "source": [
    "x .* y"
   ]
  },
  {
   "cell_type": "markdown",
   "metadata": {},
   "source": [
    "$\\begin{bmatrix}a_1 \\\\a_2 \\end{bmatrix} ./ \\begin{bmatrix}b_1 \\\\b_2 \\end{bmatrix} = \\begin{bmatrix}a_1 / b_1 \\\\a_2 / b_2 \\end{bmatrix}$"
   ]
  },
  {
   "cell_type": "code",
   "execution_count": null,
   "metadata": {
    "collapsed": false
   },
   "outputs": [],
   "source": [
    "x ./ y"
   ]
  },
  {
   "cell_type": "markdown",
   "metadata": {},
   "source": [
    "$\\begin{bmatrix}a_1 \\\\a_2 \\end{bmatrix}. \\text{^} n = \\begin{bmatrix}a_1^n \\\\a_2^n \\end{bmatrix}$"
   ]
  },
  {
   "cell_type": "code",
   "execution_count": null,
   "metadata": {
    "collapsed": false
   },
   "outputs": [],
   "source": [
    "x.^2 # x の各要素を2乗"
   ]
  },
  {
   "cell_type": "markdown",
   "metadata": {},
   "source": [
    "大きさが違いものどうしでは配列演算は出来ません。"
   ]
  },
  {
   "cell_type": "code",
   "execution_count": null,
   "metadata": {
    "collapsed": false
   },
   "outputs": [],
   "source": [
    "[1, 2, 3] + [4, 5, 6, 7]"
   ]
  },
  {
   "cell_type": "markdown",
   "metadata": {},
   "source": [
    "しかし、定数を加減乗除することは出来ます。"
   ]
  },
  {
   "cell_type": "code",
   "execution_count": null,
   "metadata": {
    "collapsed": false
   },
   "outputs": [],
   "source": [
    "x = [1, 2, 3]\n",
    "x + 1"
   ]
  },
  {
   "cell_type": "code",
   "execution_count": null,
   "metadata": {
    "collapsed": false
   },
   "outputs": [],
   "source": [
    "x - 1"
   ]
  },
  {
   "cell_type": "code",
   "execution_count": null,
   "metadata": {
    "collapsed": false
   },
   "outputs": [],
   "source": [
    "x * 10"
   ]
  },
  {
   "cell_type": "code",
   "execution_count": null,
   "metadata": {
    "collapsed": false
   },
   "outputs": [],
   "source": [
    "x / 10"
   ]
  },
  {
   "cell_type": "markdown",
   "metadata": {},
   "source": [
    "定数 / 配列 のときはドットをつけないとエラーが出ます。ドットをつけ忘れないように気をつけましょう。"
   ]
  },
  {
   "cell_type": "code",
   "execution_count": null,
   "metadata": {
    "collapsed": false
   },
   "outputs": [],
   "source": [
    "10 / x # エラーが出る"
   ]
  },
  {
   "cell_type": "code",
   "execution_count": null,
   "metadata": {
    "collapsed": false
   },
   "outputs": [],
   "source": [
    "10 ./ x"
   ]
  },
  {
   "cell_type": "code",
   "execution_count": null,
   "metadata": {
    "collapsed": true
   },
   "outputs": [],
   "source": []
  },
  {
   "cell_type": "markdown",
   "metadata": {},
   "source": [
    "このドット \" . \" を使った演算は四則演算だけに限りません。関数に関しても\n",
    "````julia\n",
    "    関数名.(collection) # collection: 配列や Tuple など\n",
    "```\n",
    "と関数とカッコの間にドットを入れることで collection の各要素に関数を作用させる意味になります。得られる結果としては map 関数を使った時と同じです。"
   ]
  },
  {
   "cell_type": "code",
   "execution_count": null,
   "metadata": {
    "collapsed": false
   },
   "outputs": [],
   "source": [
    "x = linspace(0, 2π, 100) # linspace(a,b,n):  a:(b-a)/n:b となる range。n を指定しない場合は 50 分割になる。\n",
    "y = sin.(x)"
   ]
  },
  {
   "cell_type": "code",
   "execution_count": null,
   "metadata": {
    "collapsed": false
   },
   "outputs": [],
   "source": [
    "map(sin, x) # map(func, collection): collection の各要素に func を作用させる"
   ]
  },
  {
   "cell_type": "code",
   "execution_count": null,
   "metadata": {
    "collapsed": true
   },
   "outputs": [],
   "source": []
  },
  {
   "cell_type": "markdown",
   "metadata": {},
   "source": [
    "[目次に戻る](#目次)"
   ]
  },
  {
   "cell_type": "markdown",
   "metadata": {},
   "source": [
    "## 要素の比較\n",
    "\n",
    "配列の要素同士を比較する場合もドットを使って .< などとします。返り値として true, false が入った配列が返ってきます。"
   ]
  },
  {
   "cell_type": "code",
   "execution_count": null,
   "metadata": {
    "collapsed": false
   },
   "outputs": [],
   "source": [
    "x = [1, 2, 3]\n",
    "x .<= 2"
   ]
  },
  {
   "cell_type": "code",
   "execution_count": null,
   "metadata": {
    "collapsed": false
   },
   "outputs": [],
   "source": [
    "x = [1, 2, 3]\n",
    "y = [1, 100, 3]\n",
    "x .== y"
   ]
  },
  {
   "cell_type": "code",
   "execution_count": null,
   "metadata": {
    "collapsed": false
   },
   "outputs": [],
   "source": [
    "x .< y"
   ]
  },
  {
   "cell_type": "markdown",
   "metadata": {},
   "source": [
    "返り値のtrue, false が入った配列を元の配列の添字として使うことで、ある条件を満たす要素を抜き出すことが出来ます。"
   ]
  },
  {
   "cell_type": "code",
   "execution_count": null,
   "metadata": {
    "collapsed": false
   },
   "outputs": [],
   "source": [
    "# 1 〜 10 が入った配列から 5 未満の数を抜き出す。\n",
    "x = collect(1:10)\n",
    "x[x .< 5]"
   ]
  },
  {
   "cell_type": "code",
   "execution_count": null,
   "metadata": {
    "collapsed": true
   },
   "outputs": [],
   "source": []
  },
  {
   "cell_type": "markdown",
   "metadata": {},
   "source": [
    "```julia\n",
    "    x = [67,57,69,64,54,13,78,26,29,37]\n",
    "```\n",
    "という配列の中から奇数を抜き出すには\n",
    "```julia\n",
    "    x[x .% 2 .!= 0]\n",
    "```\n",
    "と書くことも出来ますが、引数が奇数か否かを判定する関数 isodd を使うことで次のようにも書けます。"
   ]
  },
  {
   "cell_type": "code",
   "execution_count": null,
   "metadata": {
    "collapsed": false
   },
   "outputs": [],
   "source": [
    "x = [67,57,69,64,54,13,78,26,29,37]\n",
    "x[isodd.(x)]"
   ]
  },
  {
   "cell_type": "code",
   "execution_count": null,
   "metadata": {
    "collapsed": true
   },
   "outputs": [],
   "source": []
  },
  {
   "cell_type": "markdown",
   "metadata": {},
   "source": [
    "次のように1列目に学生の名前、2, 3列目に試験の点数が入った配列を考えます。\n",
    "```julia\n",
    "score = [\n",
    "    \"九州太郎\" 60 88\n",
    "    \"九州花子\" 70 43\n",
    "    \"博多勉\" 90 37\n",
    "]\n",
    "```\n",
    "この配列から 九州花子 の行を抜き出すには以下のようになります。\n",
    "\n",
    "score[:,1] .== \"九州花子\" で抜き出す行を指定し、: で列全体を抜き出しています。"
   ]
  },
  {
   "cell_type": "code",
   "execution_count": null,
   "metadata": {
    "collapsed": false
   },
   "outputs": [],
   "source": [
    "score = [\n",
    "    \"九州太郎\" 60 88\n",
    "    \"九州花子\" 70 43\n",
    "    \"博多勉\" 90 37\n",
    "]\n",
    "score[score[:,1] .== \"九州花子\", :]"
   ]
  },
  {
   "cell_type": "code",
   "execution_count": null,
   "metadata": {
    "collapsed": true
   },
   "outputs": [],
   "source": []
  },
  {
   "cell_type": "markdown",
   "metadata": {},
   "source": [
    "[目次に戻る](#目次)"
   ]
  },
  {
   "cell_type": "markdown",
   "metadata": {},
   "source": [
    "## 配列を扱う上での注意\n",
    "\n",
    "配列をコピーする際には次のように注意が必要です。"
   ]
  },
  {
   "cell_type": "code",
   "execution_count": null,
   "metadata": {
    "collapsed": false
   },
   "outputs": [],
   "source": [
    "x = [1, 2, 3]\n",
    "y = x\n",
    "x[1] = 10\n",
    "@show x, y"
   ]
  },
  {
   "cell_type": "markdown",
   "metadata": {},
   "source": [
    "上の例では\n",
    "1. 変数 x に配列 [1, 2, 3] を代入する\n",
    "1. y という変数に x を代入\n",
    "1. 配列 x の第1要素を更新\n",
    "\n",
    "という流れになっていますが、x の値だけを更新したはずなのに、何故か y の値までの変わってしまっています。\n",
    "\n",
    "y に影響を与えないようにするには、y へ x をコピーするときに\n",
    "```julia\n",
    "    y = x[:]\n",
    "```\n",
    "とするか、または\n",
    "```julia\n",
    "    y = copy(x)\n",
    "    \n",
    "    or\n",
    "    \n",
    "    y = deepcopy(x)\n",
    "```\n",
    "とします。"
   ]
  },
  {
   "cell_type": "code",
   "execution_count": null,
   "metadata": {
    "collapsed": false
   },
   "outputs": [],
   "source": [
    "x = [1, 2, 3]\n",
    "y = copy(x)\n",
    "x[1] = 10\n",
    "@show x, y"
   ]
  },
  {
   "cell_type": "markdown",
   "metadata": {},
   "source": [
    "copy と deepcopy は引数の配列の中身が数値だけの時はどちらも動作としては変わりませんが、配列の中に配列を含んでいるような場合では動作が異なります。"
   ]
  },
  {
   "cell_type": "code",
   "execution_count": null,
   "metadata": {
    "collapsed": false
   },
   "outputs": [],
   "source": [
    "x = [[1, 2, 3], 4, 5]\n",
    "y = copy(x)\n",
    "y[1][1] = 100\n",
    "@show x, y"
   ]
  },
  {
   "cell_type": "code",
   "execution_count": null,
   "metadata": {
    "collapsed": false
   },
   "outputs": [],
   "source": [
    "x = [[1, 2, 3], 4, 5]\n",
    "y = deepcopy(x)\n",
    "y[1][1] = 100\n",
    "@show x, y"
   ]
  },
  {
   "cell_type": "code",
   "execution_count": null,
   "metadata": {
    "collapsed": true
   },
   "outputs": [],
   "source": []
  },
  {
   "cell_type": "markdown",
   "metadata": {},
   "source": [
    "[目次に戻る](#目次)"
   ]
  },
  {
   "cell_type": "markdown",
   "metadata": {},
   "source": [
    "# 練習問題"
   ]
  },
  {
   "cell_type": "markdown",
   "metadata": {},
   "source": [
    "## 1.\n",
    "\n",
    "ビンゴカードを作成せよ。ここで各列の数字は以下の規則に従う<br>\n",
    "1列目: 1〜15<br>\n",
    "2列目: 16〜30<br>\n",
    "3列目: 31〜45<br>\n",
    "4列目: 46〜60<br>\n",
    "5列目: 61〜75\n",
    "\n",
    "中央は 0 をする。\n",
    "\n",
    "ヒント: shuffle 関数\n",
    "\n",
    "\n",
    "出力例\n",
    "```\n",
    "  7  20  34  59  64 \n",
    "  4  23  43  60  74 \n",
    "  2  25   0  46  62 \n",
    "  1  22  39  49  70 \n",
    " 13  30  31  50  75 \n",
    "```"
   ]
  },
  {
   "cell_type": "code",
   "execution_count": null,
   "metadata": {
    "collapsed": false
   },
   "outputs": [],
   "source": []
  },
  {
   "cell_type": "markdown",
   "metadata": {
    "collapsed": true
   },
   "source": [
    "## 2.\n",
    "\n",
    "配列\n",
    "```julia\n",
    "    x = collect(1:100)\n",
    "```\n",
    "から3の倍数番目の要素を抜き出せ。"
   ]
  },
  {
   "cell_type": "code",
   "execution_count": null,
   "metadata": {
    "collapsed": false
   },
   "outputs": [],
   "source": []
  },
  {
   "cell_type": "markdown",
   "metadata": {},
   "source": [
    "## 3.\n",
    "\n",
    "配列\n",
    "```julia\n",
    "    x = collect(Float64, 1:100)\n",
    "```\n",
    "の奇数番目の項を 100 倍に、偶数番目の項を 1/100 倍に更新せよ。"
   ]
  },
  {
   "cell_type": "code",
   "execution_count": null,
   "metadata": {
    "collapsed": false
   },
   "outputs": [],
   "source": []
  },
  {
   "cell_type": "markdown",
   "metadata": {},
   "source": [
    "## 4.\n",
    "\n",
    "配列\n",
    "```julia\n",
    "    srand(1) # 乱数のシード\n",
    "    x = rand(10)\n",
    "```\n",
    "から値が 0.5 未満の項を抜き出せ。"
   ]
  },
  {
   "cell_type": "code",
   "execution_count": null,
   "metadata": {
    "collapsed": false
   },
   "outputs": [],
   "source": []
  },
  {
   "cell_type": "markdown",
   "metadata": {},
   "source": [
    "[目次に戻る](#目次)"
   ]
  }
 ],
 "metadata": {
  "kernelspec": {
   "display_name": "Julia 0.5.0",
   "language": "julia",
   "name": "julia-0.5"
  },
  "language_info": {
   "file_extension": ".jl",
   "mimetype": "application/julia",
   "name": "julia",
   "version": "0.5.1"
  }
 },
 "nbformat": 4,
 "nbformat_minor": 2
}
