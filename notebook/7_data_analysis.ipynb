{
 "cells": [
  {
   "cell_type": "markdown",
   "metadata": {},
   "source": [
    "# Introduction to Data Science with Julia\n",
    "\n",
    "<img src=\"http://julialang.org/images/logo_hires.png\" alt=\"Julia Logo\" width=\"300\"></img>\n",
    "\n",
    "# 目次\n",
    "- [続データ分析](#続データ分析)\n",
    "- [Kaggle](#Kaggle)\n",
    "- [練習問題](#練習問題)"
   ]
  },
  {
   "cell_type": "markdown",
   "metadata": {},
   "source": [
    "# 続データ分析\n",
    "\n",
    "ここでは DataFrames を使ってデータ分析するときに便利な関数を紹介します。"
   ]
  },
  {
   "cell_type": "code",
   "execution_count": null,
   "metadata": {
    "collapsed": false
   },
   "outputs": [],
   "source": [
    "import RDatasets, DataFrames\n",
    "anscombe = RDatasets.dataset(\"datasets\",\"anscombe\")"
   ]
  },
  {
   "cell_type": "markdown",
   "metadata": {},
   "source": [
    "各列の平均などは describe を使うと便利でした。"
   ]
  },
  {
   "cell_type": "code",
   "execution_count": null,
   "metadata": {
    "collapsed": false
   },
   "outputs": [],
   "source": [
    "DataFrames.describe(anscombe)"
   ]
  },
  {
   "cell_type": "markdown",
   "metadata": {},
   "source": [
    "各列ごとに関数を作用させる場合は colwise を使います\n",
    "\n",
    "基本文法\n",
    "```julia\n",
    "    DataFrames.colwise(function, DataFrame)\n",
    "```"
   ]
  },
  {
   "cell_type": "code",
   "execution_count": null,
   "metadata": {
    "collapsed": false
   },
   "outputs": [],
   "source": [
    "DataFrames.colwise(mean, anscombe) # 各列の平均"
   ]
  },
  {
   "cell_type": "markdown",
   "metadata": {},
   "source": [
    " 特定の列に対してだけ関数を作用させたい場合は、anscombe[[:X1, :Y1]] のように作用させる列を明示的に指定します。"
   ]
  },
  {
   "cell_type": "code",
   "execution_count": null,
   "metadata": {
    "collapsed": false
   },
   "outputs": [],
   "source": [
    "DataFrames.colwise(mean, anscombe[[:X1, :Y1]])"
   ]
  },
  {
   "cell_type": "code",
   "execution_count": null,
   "metadata": {
    "collapsed": true
   },
   "outputs": [],
   "source": []
  },
  {
   "cell_type": "markdown",
   "metadata": {},
   "source": [
    "eachrow, eachcol は、for 文を使って各行・列を抜き出すときに便利です。\n",
    "\n",
    "同様のことは行番号や列番号を指定しても出来ますが、よくあるバグとして df[i,:] と書くべきところを df[:,i] と書いてしまうといったこともあるので eachrow, eachcol を使ったほうが良いと思います。"
   ]
  },
  {
   "cell_type": "code",
   "execution_count": null,
   "metadata": {
    "collapsed": false
   },
   "outputs": [],
   "source": [
    "for row in DataFrames.eachrow(anscombe)\n",
    "    println(row)\n",
    "end"
   ]
  },
  {
   "cell_type": "code",
   "execution_count": null,
   "metadata": {
    "collapsed": false
   },
   "outputs": [],
   "source": [
    "for col in DataFrames.eachcol(anscombe)\n",
    "    println(col)\n",
    "end"
   ]
  },
  {
   "cell_type": "code",
   "execution_count": null,
   "metadata": {
    "collapsed": true
   },
   "outputs": [],
   "source": []
  },
  {
   "cell_type": "markdown",
   "metadata": {},
   "source": [
    "eachrow を使って試験 1, 2 両方の点数が 60 点以上の学生の ID を抜き出すには次のようになります。"
   ]
  },
  {
   "cell_type": "code",
   "execution_count": null,
   "metadata": {
    "collapsed": false
   },
   "outputs": [],
   "source": [
    "scores = DataFrames.readtable(\"../data/scores.csv\")\n",
    "DataFrames.head(scores)\n",
    "ID  = Int[]\n",
    "for student in DataFrames.eachrow(scores)\n",
    "    if student[:exam1] >= 60 && student[:exam2] >= 60\n",
    "        push!(ID, student[:ID])\n",
    "    end\n",
    "end\n",
    "@show ID;"
   ]
  },
  {
   "cell_type": "code",
   "execution_count": null,
   "metadata": {
    "collapsed": true
   },
   "outputs": [],
   "source": []
  },
  {
   "cell_type": "markdown",
   "metadata": {},
   "source": [
    "[目次に戻る](#目次)"
   ]
  },
  {
   "cell_type": "markdown",
   "metadata": {},
   "source": [
    "# Kaggle\n",
    "\n",
    "以上まででデータ分析に必要な基礎は身についたでしょう。これからはより実践的なデータに触れていきましょう。\n",
    "\n",
    "とはいえ、統計局が出しているデータなどを用いて分析せよと言われても何をどうしたら良いのかわからないと思うので、[Kaggle](https://www.kaggle.com/) のチュートリアルをやってみましょう。\n",
    "Kaggle とはデータサイエンティスト達が集うコンペティションサイトです。問題によっては懸賞金が掛かっており、中には総額数億円掛かっている問題もあります。\n",
    "\n",
    "今回はそんな Kaggel の中にチュートリアルとしてある [Titanic: Machine Learning from Disaster](https://www.kaggle.com/c/titanic) をやってみましょう。Kaggle を利用するには利用登録する必要が有ります。ですが JuliaBox 同様 Sign Up で Google のアカウントを選べばすぐに終わります。\n",
    "\n",
    "副題に Machine Learning と入っていますが、機械学習を使わなくても参加できるので心配しないでください。"
   ]
  },
  {
   "cell_type": "markdown",
   "metadata": {
    "collapsed": true
   },
   "source": [
    "[目次に戻る](#目次)"
   ]
  }
 ],
 "metadata": {
  "kernelspec": {
   "display_name": "Julia 0.5.0",
   "language": "julia",
   "name": "julia-0.5"
  },
  "language_info": {
   "file_extension": ".jl",
   "mimetype": "application/julia",
   "name": "julia",
   "version": "0.5.1"
  }
 },
 "nbformat": 4,
 "nbformat_minor": 2
}
