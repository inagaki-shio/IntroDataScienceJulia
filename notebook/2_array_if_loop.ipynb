{
 "cells": [
  {
   "cell_type": "markdown",
   "metadata": {},
   "source": [
    "# Introduction to Data Science with Julia\n",
    "\n",
    "<img src=\"http://julialang.org/images/logo_hires.png\" alt=\"Julia Logo\" width=\"300\"></img>\n",
    "\n",
    "## 目次\n",
    "- [配列](#配列)\n",
    "- [辞書](#辞書)\n",
    "- [Tuple](#Tuple)\n",
    "- [if 文](#if-文)\n",
    "- [ループ文](#ループ文)\n",
    "- [練習問題](#練習問題)"
   ]
  },
  {
   "cell_type": "markdown",
   "metadata": {},
   "source": [
    "# 配列\n",
    "\n",
    "前回は値を保存しておくために変数を使うことを学びました。今回は複数の値を保存することのできる配列について学びましょう。\n",
    "\n",
    "と、その前にまずは前回の復習として、5人の学生の試験の点数の平均を求めるプログラムを書いてみてください。\n",
    "各学生の点数は\n",
    "\n",
    "九州太郎: 73<br>\n",
    "九州花子: 86<br>\n",
    "中州河旗: 30<br>\n",
    "福岡健  : 48<br>\n",
    "博多勉  : 53<br>\n",
    "\n",
    "とします。"
   ]
  },
  {
   "cell_type": "code",
   "execution_count": null,
   "metadata": {
    "collapsed": true
   },
   "outputs": [],
   "source": []
  },
  {
   "cell_type": "markdown",
   "metadata": {
    "collapsed": true
   },
   "source": [
    "<br><br><br><br><br><br><br><br><br><br><br><br><br><br><br><br><br><br><br><br><br><br><br><br><br><br><br><br><br><br><br><br><br><br>"
   ]
  },
  {
   "cell_type": "markdown",
   "metadata": {},
   "source": [
    "出来たでしょうか？ あなたが書いたコードは 1, 2のどちらのタイプになったでしょうか？それとも全く別の方法？\n",
    "\n",
    "(1)\n",
    "```julia\n",
    "    (73 + 86 + 30 + 48 + 53) / 5\n",
    "```\n",
    "\n",
    "\n",
    "(2)\n",
    "```julia\n",
    "taro = 73\n",
    "hanako = 86\n",
    "kawabata = 30\n",
    "ken = 48\n",
    "tsutomu = 53\n",
    "(taro + hanako + kawabata + ken + tsutomu) / 5\n",
    "```\n",
    "\n",
    "(1)は前回言ったように再利用性が低いコードになっています。今は平均しか求めなかったのでこのようなコードでも良いですが、他に分散や標準偏差も一緒に求めよと言われた場合、学生の点数が変わるごとに計算式自体に修正を加えなければならないため大変です。\n",
    "\n",
    "(2)は変数に値を保存することによって再利用性が(1)に比べて上がっています。平均を求めるだけの場合ならば(1)よりタイピングする量が多くなり一見すると非効率的です。しかし、分散、標準偏差に関しても一度このように変数を使って計算式を書いておけば、学生の点数だけを修正するだけで計算式自体に手を加えず再利用することが出来ます。また修正箇所が少なくなることでバグが発生しづらくなります。\n",
    "\n",
    "さて、今は5人と少数だったので良いですが、これが30人、100人となったら変数名を考えるだけで大変です。このように多数の要素を一つにまとめて保存したい場合には配列を使うと便利です。配列を使うと一つの変数名で複数の要素を保存することが出来ます。\n",
    "\n",
    "Julia で配列を作るには [ ] で格納したい要素を囲みます。各要素はコンマ\" , \" または空白スペース \" \" で区切ります。<br>\n",
    "コンマで区切ると数学で言う縦ベクトルが、スペースで区切ると横ベクトルが出来ます。\n"
   ]
  },
  {
   "cell_type": "code",
   "execution_count": null,
   "metadata": {
    "collapsed": false
   },
   "outputs": [],
   "source": [
    "score_col = [73, 86, 30, 48, 53]"
   ]
  },
  {
   "cell_type": "code",
   "execution_count": null,
   "metadata": {
    "collapsed": false
   },
   "outputs": [],
   "source": [
    "score_row = [73 86 30 48 53]"
   ]
  },
  {
   "cell_type": "markdown",
   "metadata": {},
   "source": [
    "変数に値を代入した時は代入した数だけが出力されましたが、配列を作った時には数だけでなく\n",
    "```\n",
    "5-element Array{Int64,1}\n",
    "```\n",
    "とも出力されました。これは今作った配列の型を表示しています。それぞれの意味を分解すると\n",
    "\n",
    "- 5-element: 配列の要素数は5つ\n",
    "- Array: 変数の型は配列型\n",
    "- Int64: 配列の各要素は倍精度整数型\n",
    "- 1: 1次元配列\n",
    "\n",
    "という意味になります。プログラミング言語での1次元や2次元というのは線形代数の次元とは違い、1次元方向に広がっているか、2次元的に広がっているかという意味になります。そのため行列は要素がいかなるものであっても2次元配列です。\n",
    "\n",
    "\n",
    "横ベクトルの配列の型についても同様に意味を分解すると\n",
    "```julia\n",
    "    1×5 Array{Int64,2}\n",
    "```\n",
    "\n",
    "- 1×5: サイズが 1×5 の行列\n",
    "- Array: 変数の型は配列型\n",
    "- Int64: 配列の各要素は倍精度整数型\n",
    "- 2: 2次元配列\n",
    "\n",
    "という意味になります。横ベクトルは横に1次元的に広がっているのに2次元配列というのは奇妙な感じがしますが、Juliaでは横ベクトルは薄い行列と認識されます。これは言語上の仕様なので受け入れてください。<br><br>\n",
    "\n",
    "配列の $i$ 番目の要素を抜き出すためには\n",
    "```\n",
    "    配列名[i]\n",
    "```\n",
    "とします。C言語やPythonなどの多くのプログラミング言語では配列の添字が 0 から始まりますが、MATLAB や Julia では通常の数学同様 1 から始まります。"
   ]
  },
  {
   "cell_type": "code",
   "execution_count": null,
   "metadata": {
    "collapsed": false
   },
   "outputs": [],
   "source": [
    "score_col[2] # 2番目の要素"
   ]
  },
  {
   "cell_type": "code",
   "execution_count": null,
   "metadata": {
    "collapsed": false
   },
   "outputs": [],
   "source": [
    "score_col[10] # 存在しないものを指定するとエラーが出ます"
   ]
  },
  {
   "cell_type": "markdown",
   "metadata": {},
   "source": [
    "配列の要素の値の更新は普通の変数同様に行うことが出来ます。"
   ]
  },
  {
   "cell_type": "code",
   "execution_count": null,
   "metadata": {
    "collapsed": false
   },
   "outputs": [],
   "source": [
    "score_col[2] = 14"
   ]
  },
  {
   "cell_type": "code",
   "execution_count": null,
   "metadata": {
    "collapsed": false
   },
   "outputs": [],
   "source": [
    "score_col # 第2要素が14になった"
   ]
  },
  {
   "cell_type": "markdown",
   "metadata": {},
   "source": [
    "しかし、整数型の配列に文字列を代入することは出来ません。"
   ]
  },
  {
   "cell_type": "code",
   "execution_count": null,
   "metadata": {
    "collapsed": false
   },
   "outputs": [],
   "source": [
    "score_col[2] = \"foo\" # エラーが出る"
   ]
  },
  {
   "cell_type": "markdown",
   "metadata": {},
   "source": [
    "また、整数型の配列には 1.0 や 2170.0 などの整数に変換できる小数は代入することは出来ますが、 1.5 などの小数は代入することは出来ません。"
   ]
  },
  {
   "cell_type": "code",
   "execution_count": null,
   "metadata": {
    "collapsed": false
   },
   "outputs": [],
   "source": [
    "score_col[1] = 190.0"
   ]
  },
  {
   "cell_type": "code",
   "execution_count": null,
   "metadata": {
    "collapsed": false
   },
   "outputs": [],
   "source": [
    "score_col # 自動的に整数型に変換される。"
   ]
  },
  {
   "cell_type": "code",
   "execution_count": null,
   "metadata": {
    "collapsed": false
   },
   "outputs": [],
   "source": [
    "score_col[1] = 1.5 # 整数に変換できないためエラーが出る"
   ]
  },
  {
   "cell_type": "code",
   "execution_count": null,
   "metadata": {
    "collapsed": false
   },
   "outputs": [],
   "source": [
    "score_col # 第1要素に変化なし"
   ]
  },
  {
   "cell_type": "markdown",
   "metadata": {},
   "source": [
    "整数だけでなく小数も代入できる配列を作るためには始めから\n",
    "```julia\n",
    "[10.0, 12, 4, 2]\n",
    "```\n",
    "などと小数を混ぜて配列を作るか、または、下記のように明示的に小数型であることを宣言して配列を作ります。\n",
    "```julia\n",
    "Float64[10, 12, 4, 2] # Float64: 倍精度浮動小数点\n",
    "```"
   ]
  },
  {
   "cell_type": "code",
   "execution_count": null,
   "metadata": {
    "collapsed": false
   },
   "outputs": [],
   "source": [
    "Float64[10, 12, 4, 2]"
   ]
  },
  {
   "cell_type": "markdown",
   "metadata": {},
   "source": [
    "C言語やJavaなどのプログラミング言語では配列の要素に違う型の値を同時に入れることは出来ませんが、Julia では違う型の値も同時に格納することが出来ます。この時配列は Any 型になります。"
   ]
  },
  {
   "cell_type": "code",
   "execution_count": null,
   "metadata": {
    "collapsed": false
   },
   "outputs": [],
   "source": [
    "num_str = [1, 2.5, \"hoge\"] # 整数、浮動小数点、文字列が混在"
   ]
  },
  {
   "cell_type": "markdown",
   "metadata": {},
   "source": [
    "Any型の配列では各要素を自由に更新することが出来ます。"
   ]
  },
  {
   "cell_type": "code",
   "execution_count": null,
   "metadata": {
    "collapsed": false
   },
   "outputs": [],
   "source": [
    "num_str[1]"
   ]
  },
  {
   "cell_type": "code",
   "execution_count": null,
   "metadata": {
    "collapsed": false
   },
   "outputs": [],
   "source": [
    "num_str[1] = \"piyopiyo\""
   ]
  },
  {
   "cell_type": "code",
   "execution_count": null,
   "metadata": {
    "collapsed": false
   },
   "outputs": [],
   "source": [
    "num_str # 第1要素が 1 から \"piyopiyo\" に変わる"
   ]
  },
  {
   "cell_type": "markdown",
   "metadata": {},
   "source": [
    "小数の時同様\n",
    "```julia\n",
    "Any[12, 3, 4, 2]\n",
    "```\n",
    "とすると要素がいかなるものであろうとも Any 型の配列が出来ます。\n",
    "しかし、Any 型はその柔軟性故にバグが起こる可能性が高くなるのでなるべく使わないようにしましょう。\n",
    "\n",
    "\n",
    "プログラミングにおいてエラーは忌み嫌うものではなく、むしろ自分を成長させてくれるものです。エラーが出るとすぐに自分の間違いに気づくことが出来ますが、エラーが出ないとバグを見落としてしまう可能性が高くなります。"
   ]
  },
  {
   "cell_type": "code",
   "execution_count": null,
   "metadata": {
    "collapsed": false
   },
   "outputs": [],
   "source": [
    "Any[12, 3, 4, 2]"
   ]
  },
  {
   "cell_type": "code",
   "execution_count": null,
   "metadata": {
    "collapsed": true
   },
   "outputs": [],
   "source": []
  },
  {
   "cell_type": "markdown",
   "metadata": {},
   "source": [
    "[目次に戻る](#目次)"
   ]
  },
  {
   "cell_type": "markdown",
   "metadata": {},
   "source": [
    "# 辞書\n",
    "\n",
    "配列では各要素を指定するのに配列の何番目にあるかで指定しました。配列は学生の成績の平均などを求めたい場合など個人を特定する必要のないデータを保存するには良いですが、各個人の成績を知りたい場合、添字番号と学生を対応付けなければならないので不便です。\n",
    "\n",
    "添字番号ではなく、名前や学籍番号で指定できたほうが便利なのはいうまでもないでしょう。このようなことをしたい場合には辞書(連想配列)を使います。辞書を使うと\n",
    "```julia\n",
    "    scores[\"九州太郎\"]\n",
    "```\n",
    "といった方法で値を指定することが出来ます。\n",
    "\n",
    "辞書の基本構文\n",
    "```Julia\n",
    "    Dict(a=>b, ...)\n",
    "```\n",
    "ここで、a は key、b は value と呼ばれる。"
   ]
  },
  {
   "cell_type": "code",
   "execution_count": null,
   "metadata": {
    "collapsed": false
   },
   "outputs": [],
   "source": [
    "scores = Dict(\"九州太郎\" => 73, \"九州花子\" => 86)"
   ]
  },
  {
   "cell_type": "code",
   "execution_count": null,
   "metadata": {
    "collapsed": false
   },
   "outputs": [],
   "source": [
    "scores[\"九州太郎\"]"
   ]
  },
  {
   "cell_type": "code",
   "execution_count": null,
   "metadata": {
    "collapsed": false
   },
   "outputs": [],
   "source": [
    "scores[\"九州花子\"]"
   ]
  },
  {
   "cell_type": "markdown",
   "metadata": {},
   "source": [
    "辞書の全ての key を調べるには keys 関数を使います"
   ]
  },
  {
   "cell_type": "code",
   "execution_count": null,
   "metadata": {
    "collapsed": false
   },
   "outputs": [],
   "source": [
    "keys(scores)"
   ]
  },
  {
   "cell_type": "markdown",
   "metadata": {},
   "source": [
    "辞書の全ての value を調べるには values 関数を使います"
   ]
  },
  {
   "cell_type": "code",
   "execution_count": null,
   "metadata": {
    "collapsed": false
   },
   "outputs": [],
   "source": [
    "values(scores)"
   ]
  },
  {
   "cell_type": "code",
   "execution_count": null,
   "metadata": {
    "collapsed": false
   },
   "outputs": [],
   "source": []
  },
  {
   "cell_type": "markdown",
   "metadata": {},
   "source": [
    "次のように名前と点数が別の配列に入っていて、この2つを辞書に統合したい場合には zip 関数を使うと便利です。\n",
    "\n",
    "※ 辞書型では要素の順番に意味はないので作った後の中身は元の配列の中身とは異なります。"
   ]
  },
  {
   "cell_type": "code",
   "execution_count": null,
   "metadata": {
    "collapsed": false
   },
   "outputs": [],
   "source": [
    "名前 = [\"九州太郎\", \"九州花子\", \"中州河旗\", \"福岡健\", \"博多勉\"]\n",
    "点数 = [73, 86, 30, 48, 53]\n",
    "scores2 = Dict(zip(名前, 点数))"
   ]
  },
  {
   "cell_type": "code",
   "execution_count": null,
   "metadata": {
    "collapsed": false
   },
   "outputs": [],
   "source": [
    "scores2[\"博多勉\"]"
   ]
  },
  {
   "cell_type": "code",
   "execution_count": null,
   "metadata": {
    "collapsed": false
   },
   "outputs": [],
   "source": [
    "keys(scores2) # 上の 名前 配列とは順番が違う"
   ]
  },
  {
   "cell_type": "code",
   "execution_count": null,
   "metadata": {
    "collapsed": true
   },
   "outputs": [],
   "source": []
  },
  {
   "cell_type": "markdown",
   "metadata": {},
   "source": [
    "[目次に戻る](#目次)"
   ]
  },
  {
   "cell_type": "markdown",
   "metadata": {},
   "source": [
    "# Tuple\n",
    "\n",
    "配列や辞書ではあとで値を更新することが出来ましたが、時としては定数のように値を更新したくない場合もあります。そのような時には Tuple を使いましょう。\n",
    "\n",
    "配列を作るときは要素を [  ] で囲みましたが、Tuple では ( ) で囲みます。\n",
    "\n",
    "※ 本当は ( ) がなくても、コンマ区切りにするだけでも良いのですが、後からみて Tuple だということがわかりやすいので ( ) で囲むことをおすすめします。"
   ]
  },
  {
   "cell_type": "code",
   "execution_count": null,
   "metadata": {
    "collapsed": false
   },
   "outputs": [],
   "source": [
    "A = (10, \"Hoge\", [1, 2, 3])"
   ]
  },
  {
   "cell_type": "code",
   "execution_count": null,
   "metadata": {
    "collapsed": false
   },
   "outputs": [],
   "source": [
    "A[1] # 要素へのアクセス方法は配列と同じ"
   ]
  },
  {
   "cell_type": "code",
   "execution_count": null,
   "metadata": {
    "collapsed": false
   },
   "outputs": [],
   "source": [
    "A[2]"
   ]
  },
  {
   "cell_type": "code",
   "execution_count": null,
   "metadata": {
    "collapsed": false
   },
   "outputs": [],
   "source": [
    "A[3]"
   ]
  },
  {
   "cell_type": "code",
   "execution_count": null,
   "metadata": {
    "collapsed": false
   },
   "outputs": [],
   "source": [
    "A[3][2]"
   ]
  },
  {
   "cell_type": "code",
   "execution_count": null,
   "metadata": {
    "collapsed": false
   },
   "outputs": [],
   "source": [
    "A[1] = 100 # 値を更新することが出来ない"
   ]
  },
  {
   "cell_type": "code",
   "execution_count": null,
   "metadata": {
    "collapsed": true
   },
   "outputs": [],
   "source": []
  },
  {
   "cell_type": "markdown",
   "metadata": {},
   "source": [
    "[目次に戻る](#目次)"
   ]
  },
  {
   "cell_type": "markdown",
   "metadata": {},
   "source": [
    "# if 文\n",
    "\n",
    "次に条件分岐を学びましょう。条件分岐とは下記のフローチャートのように条件により処理を変えるような操作のことを言います。\n",
    "<img src=https://upload.wikimedia.org/wikipedia/commons/4/4d/IF-THEN-ELSE-END_flowchart.svg>\n",
    "[Conditional (computer programming) - Wikipedia]\n",
    "\n",
    "Julia での if 文の基本構文は次のようになります。\n",
    "```julia\n",
    "    if 条件式1\n",
    "        処理1\n",
    "    elseif 条件式2\n",
    "        処理2\n",
    "    elseif 条件式3\n",
    "    .\n",
    "    .\n",
    "    .\n",
    "    else\n",
    "        処理n\n",
    "    end\n",
    "```\n",
    "\n",
    "例として n が\n",
    "- 正の数の時: nは正の数です\n",
    "- 負の数の時: nは負の数です\n",
    "- 0の時: nは0ですと<br>\n",
    "と出力するプログラムを書いてみます。"
   ]
  },
  {
   "cell_type": "code",
   "execution_count": null,
   "metadata": {
    "collapsed": false
   },
   "outputs": [],
   "source": [
    "n = 10 # n の値を変えて実行してみましょう\n",
    "if n > 0\n",
    "    print(\"$n は正の数です\")\n",
    "elseif n < 0\n",
    "    print(\"$n は負の数です\")\n",
    "else\n",
    "    print(\"$n は0です\")\n",
    "end"
   ]
  },
  {
   "cell_type": "code",
   "execution_count": null,
   "metadata": {
    "collapsed": true
   },
   "outputs": [],
   "source": []
  },
  {
   "cell_type": "markdown",
   "metadata": {
    "collapsed": true
   },
   "source": [
    "if文の中にさらにif文を入れることも出来ます"
   ]
  },
  {
   "cell_type": "code",
   "execution_count": null,
   "metadata": {
    "collapsed": false
   },
   "outputs": [],
   "source": [
    "n = 10\n",
    "if n > 0\n",
    "    println(\"$n は正の数です\")\n",
    "    \n",
    "    if n % 2 == 0\n",
    "        println(\"$n は偶数です\")\n",
    "    end\n",
    "    \n",
    "elseif n < 0\n",
    "    println(\"$n は負の数です\")\n",
    "else\n",
    "    println(\"$n は0です\")\n",
    "end"
   ]
  },
  {
   "cell_type": "code",
   "execution_count": null,
   "metadata": {
    "collapsed": true
   },
   "outputs": [],
   "source": []
  },
  {
   "cell_type": "markdown",
   "metadata": {},
   "source": [
    "[目次に戻る](#目次)"
   ]
  },
  {
   "cell_type": "markdown",
   "metadata": {},
   "source": [
    "# ループ文\n",
    "\n",
    "ループ分を使うとある処理を繰り返し行うことが出来ます。ループ分には for文 と while文の2つがあります。\n",
    "\n",
    "## for文\n",
    "\n",
    "for文を使うとある処理を指定した回数繰り返すことが出来ます。\n",
    "\n",
    "for文の基本構文\n",
    "```julia\n",
    "    for dummy_var in list\n",
    "        body\n",
    "    end\n",
    "```"
   ]
  },
  {
   "cell_type": "code",
   "execution_count": null,
   "metadata": {
    "collapsed": false
   },
   "outputs": [],
   "source": [
    "for i in 1:10\n",
    "    println(\"Hello World!\")\n",
    "end"
   ]
  },
  {
   "cell_type": "code",
   "execution_count": null,
   "metadata": {
    "collapsed": false
   },
   "outputs": [],
   "source": [
    "for i in 1:10\n",
    "    println(i)\n",
    "end"
   ]
  },
  {
   "cell_type": "code",
   "execution_count": null,
   "metadata": {
    "collapsed": false
   },
   "outputs": [],
   "source": [
    "for i in 1:2:10 # 1 〜 10 までの数を2刻み\n",
    "    println(i)\n",
    "end"
   ]
  },
  {
   "cell_type": "markdown",
   "metadata": {},
   "source": [
    "if 文同様、for 文の中に for 文を入れることも出来ます。"
   ]
  },
  {
   "cell_type": "code",
   "execution_count": null,
   "metadata": {
    "collapsed": false
   },
   "outputs": [],
   "source": [
    "for i in 1:3\n",
    "    for j in i:3\n",
    "        println((i,j))\n",
    "    end\n",
    "end"
   ]
  },
  {
   "cell_type": "code",
   "execution_count": null,
   "metadata": {
    "collapsed": true
   },
   "outputs": [],
   "source": []
  },
  {
   "cell_type": "markdown",
   "metadata": {},
   "source": [
    "他のプログラミング言語では普通出来ませんが、Julia では多重の for 文では次の例のように for ... end を省略する書き方が出来ます。\n",
    "```julia\n",
    "for i in ..., j in ...\n",
    "    body\n",
    "end\n",
    "```\n",
    "\n",
    "\n",
    "\n",
    "ただし、このような書き方ができるのは\n",
    "```julia\n",
    "    for ...\n",
    "        for ...\n",
    "             body\n",
    "```\n",
    "のように for が連続する場合だけで\n",
    "```julia\n",
    "    for ...\n",
    "        body\n",
    "        for ...\n",
    "            body\n",
    "```\n",
    "のように for と for の間に処理が入る場合には使えません。"
   ]
  },
  {
   "cell_type": "code",
   "execution_count": null,
   "metadata": {
    "collapsed": false
   },
   "outputs": [],
   "source": [
    "for i in 1:3, j in i:3\n",
    "    println((i,j))\n",
    "end"
   ]
  },
  {
   "cell_type": "code",
   "execution_count": null,
   "metadata": {
    "collapsed": true
   },
   "outputs": [],
   "source": []
  },
  {
   "cell_type": "markdown",
   "metadata": {
    "collapsed": true
   },
   "source": [
    "list の部分には配列を使うことも出来ます。"
   ]
  },
  {
   "cell_type": "code",
   "execution_count": null,
   "metadata": {
    "collapsed": false
   },
   "outputs": [],
   "source": [
    "items = [\"Kyushu\", \"University\", \"School of Interdisciplinary Science and Innovation\"]\n",
    "for item in items\n",
    "    println(item)\n",
    "end"
   ]
  },
  {
   "cell_type": "code",
   "execution_count": null,
   "metadata": {
    "collapsed": true
   },
   "outputs": [],
   "source": []
  },
  {
   "cell_type": "markdown",
   "metadata": {},
   "source": [
    "[目次に戻る](#目次)"
   ]
  },
  {
   "cell_type": "markdown",
   "metadata": {
    "collapsed": true
   },
   "source": [
    "## while文\n",
    "\n",
    "for 文は指定した回数繰り返すような構文でした。while 文ではループ回数に上限はなく、ある条件が満たされるまでループが回り続けます。\n",
    "\n",
    "While文の基本構文\n",
    "```julia\n",
    "     while 条件式\n",
    "         処理\n",
    "     end\n",
    "```"
   ]
  },
  {
   "cell_type": "code",
   "execution_count": null,
   "metadata": {
    "collapsed": false
   },
   "outputs": [],
   "source": [
    "i = 0\n",
    "while i < 10\n",
    "    println(i)\n",
    "    i += 1\n",
    "end"
   ]
  },
  {
   "cell_type": "markdown",
   "metadata": {},
   "source": [
    "while 文では常に条件が true になると無限ループを起こし、その後の処理が実行されなくなってしまうので注意してください。<br>\n",
    "無限ループに陥ってしまったら上の ■ をクリックし、処理を中断させてください。\n",
    "\n",
    "\n",
    "無限ループに陥る例\n",
    "```julia\n",
    "i = 0\n",
    "while true\n",
    "    i += 1\n",
    "end\n",
    "```"
   ]
  },
  {
   "cell_type": "code",
   "execution_count": null,
   "metadata": {
    "collapsed": true
   },
   "outputs": [],
   "source": []
  },
  {
   "cell_type": "markdown",
   "metadata": {},
   "source": [
    "[目次に戻る](#目次)"
   ]
  },
  {
   "cell_type": "markdown",
   "metadata": {},
   "source": [
    "# 練習問題"
   ]
  },
  {
   "cell_type": "markdown",
   "metadata": {},
   "source": [
    "## 1.\n",
    "要素が[1, 2, 3, ..., 1000]となるような配列を作成せよ\n",
    "\n",
    "ヒント: collect関数 または 内包表記(comprehension)"
   ]
  },
  {
   "cell_type": "code",
   "execution_count": null,
   "metadata": {
    "collapsed": false
   },
   "outputs": [],
   "source": []
  },
  {
   "cell_type": "markdown",
   "metadata": {},
   "source": [
    "## 2.\n",
    "スイス、エジプト、ホンジュラスの公用語を調べ、国名を key, 公用語を value とする辞書を作成せよ\n",
    "\n",
    "ヒント: 公用語が複数ある場合は value を 配列または Tuple にする"
   ]
  },
  {
   "cell_type": "code",
   "execution_count": null,
   "metadata": {
    "collapsed": false
   },
   "outputs": [],
   "source": []
  },
  {
   "cell_type": "markdown",
   "metadata": {},
   "source": [
    "## 3.\n",
    "身長・体重よりBMIを計算し、計算結果より 痩せすぎ、標準、肥満を if 文とprint 関数を使って出力せよ\n",
    "\n",
    "BMIの計算方法:<br>\n",
    "$$ \\text{BMI} = \\frac{\\text{体重(kg)}}{\\text{身長(m)}^2}$$\n",
    "\n",
    "BMIによる肥満判定\n",
    "<style type=\"text/css\">\n",
    ".tg  {border-collapse:collapse;border-spacing:0;}\n",
    ".tg td{font-family:Arial, sans-serif;font-size:14px;padding:10px 5px;border-style:solid;border-width:1px;overflow:hidden;word-break:normal;}\n",
    ".tg th{font-family:Arial, sans-serif;font-size:14px;font-weight:normal;padding:10px 5px;border-style:solid;border-width:1px;overflow:hidden;word-break:normal;}\n",
    ".tg .tg-yw4l{vertical-align:top}\n",
    "</style>\n",
    "<table class=\"tg\">\n",
    "  <tr>\n",
    "    <th class=\"tg-031e\">BMI</th>\n",
    "    <th class=\"tg-031e\">判定</th>\n",
    "  </tr>\n",
    "  <tr>\n",
    "    <td class=\"tg-031e\">〜18.5</td>\n",
    "    <td class=\"tg-031e\">痩せている</td>\n",
    "  </tr>\n",
    "  <tr>\n",
    "    <td class=\"tg-031e\">18.5～25</td>\n",
    "    <td class=\"tg-031e\">標準</td>\n",
    "  </tr>\n",
    "  <tr>\n",
    "    <td class=\"tg-yw4l\">25～</td>\n",
    "    <td class=\"tg-yw4l\">肥満</td>\n",
    "  </tr>\n",
    "</table>"
   ]
  },
  {
   "cell_type": "code",
   "execution_count": null,
   "metadata": {
    "collapsed": false
   },
   "outputs": [],
   "source": []
  },
  {
   "cell_type": "markdown",
   "metadata": {},
   "source": [
    "## 4.\n",
    "for文を使って1からnまでの整数を足し上げるプログラムを作成せよ。"
   ]
  },
  {
   "cell_type": "code",
   "execution_count": null,
   "metadata": {
    "collapsed": false
   },
   "outputs": [],
   "source": []
  },
  {
   "cell_type": "markdown",
   "metadata": {},
   "source": [
    "## 5.\n",
    "(1)要素が[1, 2, 3, ..., 1000]となるような配列を作成せよ (問題 1 と同じ)<br>\n",
    "(2) (1)で作成した配列の各要素をfor文を使って2倍せよ"
   ]
  },
  {
   "cell_type": "code",
   "execution_count": null,
   "metadata": {
    "collapsed": false
   },
   "outputs": [],
   "source": []
  },
  {
   "cell_type": "markdown",
   "metadata": {},
   "source": [
    "## 6.\n",
    "for文を使って配列\n",
    "```julia\n",
    "    x = [3,4,4,4,2,1,4,5,2,3]\n",
    "```\n",
    "の要素を全て足し上げるプログラムを作成せよ。また、求めた結果を sum(x) と比較せよ\n",
    "\n",
    "ヒント: 配列の要素数は length 関数で知ることができる。"
   ]
  },
  {
   "cell_type": "code",
   "execution_count": null,
   "metadata": {
    "collapsed": false
   },
   "outputs": [],
   "source": []
  },
  {
   "cell_type": "markdown",
   "metadata": {},
   "source": [
    "## 7.\n",
    "\n",
    "for文を使って九九表を作成せよ\n",
    "\n",
    "出力例\n",
    "```\n",
    "1   2   3   4   5   6   7   8   9 \n",
    "2   4   6   8  10  12  14  16  18 \n",
    "3   6   9  12  15  18  21  24  27 \n",
    "4   8  12  16  20  24  28  32  36 \n",
    "5  10  15  20  25  30  35  40  45 \n",
    "6  12  18  24  30  36  42  48  54 \n",
    "7  14  21  28  35  42  49  56  63 \n",
    "8  16  24  32  40  48  56  64  72 \n",
    "9  18  27  36  45  54  63  72  81 \n",
    "```"
   ]
  },
  {
   "cell_type": "code",
   "execution_count": null,
   "metadata": {
    "collapsed": false
   },
   "outputs": [],
   "source": []
  },
  {
   "cell_type": "markdown",
   "metadata": {},
   "source": [
    "## 8.\n",
    "\n",
    "フィボナッチ数列の第 $n$ 項目を求めるプログラムを作成せよ\n",
    "\n",
    "フィボナッチ数列\n",
    "$F_0 = 0$, $F_1 = 1$, $F_{n+2} = F_{n+1} + F_{n}$"
   ]
  },
  {
   "cell_type": "code",
   "execution_count": null,
   "metadata": {
    "collapsed": false
   },
   "outputs": [],
   "source": []
  },
  {
   "cell_type": "markdown",
   "metadata": {},
   "source": [
    "## 9.\n",
    "\n",
    "友人から1000円借りていたとする。10日で1割の金利がついた場合、何日後に借金は100万円を超えるか求めよ\n",
    "\n",
    "[トイチ - Wikipedia](https://ja.wikipedia.org/wiki/%E3%83%88%E3%82%A4%E3%83%81)"
   ]
  },
  {
   "cell_type": "code",
   "execution_count": null,
   "metadata": {
    "collapsed": false
   },
   "outputs": [],
   "source": []
  },
  {
   "cell_type": "markdown",
   "metadata": {},
   "source": [
    "[目次に戻る](#目次)"
   ]
  }
 ],
 "metadata": {
  "kernelspec": {
   "display_name": "Julia 0.5.0",
   "language": "julia",
   "name": "julia-0.5"
  },
  "language_info": {
   "file_extension": ".jl",
   "mimetype": "application/julia",
   "name": "julia",
   "version": "0.5.1"
  }
 },
 "nbformat": 4,
 "nbformat_minor": 2
}
