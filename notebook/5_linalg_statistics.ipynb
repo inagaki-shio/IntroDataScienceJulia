{
 "cells": [
  {
   "cell_type": "markdown",
   "metadata": {},
   "source": [
    "# Introduction to Data Science with Julia\n",
    "\n",
    "<img src=\"http://julialang.org/images/logo_hires.png\" alt=\"Julia Logo\" width=\"300\"></img>\n",
    "\n",
    "# 目次\n",
    "\n",
    "- [線形代数](#線形代数)\n",
    "- [統計量の計算](#統計量の計算)\n",
    "- [回帰直線](#回帰直線)\n",
    "- [アンスコムの例](#アンスコムの例)\n",
    "- [データ分析入門](#データ分析入門)\n",
    "- [練習問題](#練習問題)"
   ]
  },
  {
   "cell_type": "markdown",
   "metadata": {},
   "source": [
    "# 線形代数\n",
    "\n",
    "Julia では線形代数の計算が標準機能として備わっています。\n",
    "\n",
    "行列 $A$ と行列 $B$ の掛け算は\n",
    "```julia\n",
    "A * B\n",
    "```\n",
    "と書くだけです。"
   ]
  },
  {
   "cell_type": "code",
   "execution_count": null,
   "metadata": {
    "collapsed": false
   },
   "outputs": [],
   "source": [
    "A = reshape(1:9, 3, 3)\n",
    "B = rand(1:10, 3, 3)\n",
    "@show A\n",
    "@show B\n",
    "@show A * B"
   ]
  },
  {
   "cell_type": "markdown",
   "metadata": {},
   "source": [
    "逆行列や行列式、固有値、固有ベクトルなども簡単に計算することが出来ます。"
   ]
  },
  {
   "cell_type": "code",
   "execution_count": null,
   "metadata": {
    "collapsed": false
   },
   "outputs": [],
   "source": [
    "@show C = rand(3, 3)\n",
    "inv(C) # 逆行列"
   ]
  },
  {
   "cell_type": "code",
   "execution_count": null,
   "metadata": {
    "collapsed": false
   },
   "outputs": [],
   "source": [
    "det(C) # 行列式"
   ]
  },
  {
   "cell_type": "code",
   "execution_count": null,
   "metadata": {
    "collapsed": false
   },
   "outputs": [],
   "source": [
    "eigvals(C) # 固有値"
   ]
  },
  {
   "cell_type": "code",
   "execution_count": null,
   "metadata": {
    "collapsed": false
   },
   "outputs": [],
   "source": [
    "eigvecs(C) # 固有ベクトル"
   ]
  },
  {
   "cell_type": "code",
   "execution_count": null,
   "metadata": {
    "collapsed": false
   },
   "outputs": [],
   "source": [
    "trace(C) # トレース"
   ]
  },
  {
   "cell_type": "code",
   "execution_count": null,
   "metadata": {
    "collapsed": false
   },
   "outputs": [],
   "source": [
    "rank(C) # ランク"
   ]
  },
  {
   "cell_type": "code",
   "execution_count": null,
   "metadata": {
    "collapsed": false
   },
   "outputs": [],
   "source": [
    "x = [1, 2, 3]\n",
    "y = [4, 5, 6]\n",
    "dot(x,y) # 内積"
   ]
  },
  {
   "cell_type": "code",
   "execution_count": null,
   "metadata": {
    "collapsed": true
   },
   "outputs": [],
   "source": []
  },
  {
   "cell_type": "markdown",
   "metadata": {},
   "source": [
    "線形方程式 $Ax = y$ を解く場合には\n",
    "```julia\n",
    "A \\ y # ￥ はバックスラッシュ\n",
    "```\n",
    "とします。行列 $A$ の逆行列は inv(A) として求められるので\n",
    "```julia\n",
    "inv(A) * y\n",
    "```\n",
    "としても同様の結果が得られますが、A \\ y の方がより計算精度が上がります。"
   ]
  },
  {
   "cell_type": "code",
   "execution_count": null,
   "metadata": {
    "collapsed": false
   },
   "outputs": [],
   "source": [
    "A = rand(3,3)\n",
    "y = rand(3)\n",
    "A \\ y"
   ]
  },
  {
   "cell_type": "code",
   "execution_count": null,
   "metadata": {
    "collapsed": true
   },
   "outputs": [],
   "source": []
  },
  {
   "cell_type": "markdown",
   "metadata": {},
   "source": [
    "その他の行列計算に関しては[公式ドキュメント](http://docs.julialang.org/en/stable/manual/linear-algebra/)を読んでください。"
   ]
  },
  {
   "cell_type": "markdown",
   "metadata": {
    "collapsed": true
   },
   "source": [
    "[目次に戻る](#目次)"
   ]
  },
  {
   "cell_type": "markdown",
   "metadata": {},
   "source": [
    "# 統計量の計算\n",
    "\n",
    "## 量的データ (numerical data)\n",
    "\n",
    "Julia では平均や分散などを計算する関数が標準で備わっています。"
   ]
  },
  {
   "cell_type": "code",
   "execution_count": null,
   "metadata": {
    "collapsed": false
   },
   "outputs": [],
   "source": [
    "# 平均 (mean)\n",
    "@show x = rand(5)\n",
    "mean(x)"
   ]
  },
  {
   "cell_type": "code",
   "execution_count": null,
   "metadata": {
    "collapsed": false
   },
   "outputs": [],
   "source": [
    "# 分散 (variance)\n",
    "@show x = rand(5)\n",
    "var(x) # 補正をなくす場合は、 var(x, corrected=false) とする"
   ]
  },
  {
   "cell_type": "code",
   "execution_count": null,
   "metadata": {
    "collapsed": false
   },
   "outputs": [],
   "source": [
    "# 標準偏差 (standard deviation)\n",
    "@show x = rand(5)\n",
    "std(x) # 補正をなくす場合は、 std(x, corrected=false) とする"
   ]
  },
  {
   "cell_type": "code",
   "execution_count": null,
   "metadata": {
    "collapsed": true
   },
   "outputs": [],
   "source": []
  },
  {
   "cell_type": "code",
   "execution_count": null,
   "metadata": {
    "collapsed": false
   },
   "outputs": [],
   "source": [
    "# 中央値 (median)\n",
    "x = 1:5\n",
    "median(x)"
   ]
  },
  {
   "cell_type": "code",
   "execution_count": null,
   "metadata": {
    "collapsed": false
   },
   "outputs": [],
   "source": [
    "# 第1四分位点（lower quartile）\n",
    "quantile(x, 1/4) "
   ]
  },
  {
   "cell_type": "code",
   "execution_count": null,
   "metadata": {
    "collapsed": false
   },
   "outputs": [],
   "source": [
    "# 第1四分位点, 中央値, 第3四分位点（upper quartile）\n",
    "quantile(x, [1/4, 1/2, 3/4]) "
   ]
  },
  {
   "cell_type": "code",
   "execution_count": null,
   "metadata": {
    "collapsed": false
   },
   "outputs": [],
   "source": [
    "# 最大値\n",
    "maximum(x)"
   ]
  },
  {
   "cell_type": "code",
   "execution_count": null,
   "metadata": {
    "collapsed": false
   },
   "outputs": [],
   "source": [
    "# 最小値\n",
    "minimum(x)"
   ]
  },
  {
   "cell_type": "code",
   "execution_count": null,
   "metadata": {
    "collapsed": false
   },
   "outputs": [],
   "source": [
    "# 最小値と最大値を同時に計算\n",
    "extrema(x)"
   ]
  },
  {
   "cell_type": "code",
   "execution_count": null,
   "metadata": {
    "collapsed": false
   },
   "outputs": [],
   "source": [
    "# 相関係数\n",
    "x = 1.0:1.0:12.0\n",
    "y = x .+ randn(length(x))\n",
    "cor(x,y)"
   ]
  },
  {
   "cell_type": "code",
   "execution_count": null,
   "metadata": {
    "collapsed": true
   },
   "outputs": [],
   "source": []
  },
  {
   "cell_type": "markdown",
   "metadata": {},
   "source": [
    "mean や var などで 2次元配列を引数に取ると要素全体の平均などになりますが、第2引数に 1 と指定すると列ごとの平均、 2 を指定すると行ごとの平均になります。"
   ]
  },
  {
   "cell_type": "code",
   "execution_count": null,
   "metadata": {
    "collapsed": false
   },
   "outputs": [],
   "source": [
    "x = [1 2 3\n",
    "    4 5 6 \n",
    "    7 8 9]\n",
    "@show mean(x)\n",
    "@show mean(x, 1) # 列ごとの平均\n",
    "@show mean(x, 2) # 行ごとの平均"
   ]
  },
  {
   "cell_type": "code",
   "execution_count": null,
   "metadata": {
    "collapsed": true
   },
   "outputs": [],
   "source": []
  },
  {
   "cell_type": "markdown",
   "metadata": {
    "collapsed": true
   },
   "source": [
    "[目次に戻る](#目次)"
   ]
  },
  {
   "cell_type": "markdown",
   "metadata": {},
   "source": [
    "[StatsBase](http://statsbasejl.readthedocs.io/en/latest/index.html) パッケージを使うと統計量の計算がさらにやりやすくなります。"
   ]
  },
  {
   "cell_type": "code",
   "execution_count": null,
   "metadata": {
    "collapsed": true
   },
   "outputs": [],
   "source": [
    "using StatsBase"
   ]
  },
  {
   "cell_type": "markdown",
   "metadata": {},
   "source": [
    "summarystats を使うと、平均と五数要約（[five-number summary](https://en.wikipedia.org/wiki/Five-number_summary)）を一度に計算できます。"
   ]
  },
  {
   "cell_type": "code",
   "execution_count": null,
   "metadata": {
    "collapsed": false
   },
   "outputs": [],
   "source": [
    "@show x = rand(10)\n",
    "result = StatsBase.summarystats(x)"
   ]
  },
  {
   "cell_type": "code",
   "execution_count": null,
   "metadata": {
    "collapsed": false
   },
   "outputs": [],
   "source": [
    "typeof(result)"
   ]
  },
  {
   "cell_type": "code",
   "execution_count": null,
   "metadata": {
    "collapsed": false
   },
   "outputs": [],
   "source": [
    "fieldnames(result) # 各データへアクセスするための名前"
   ]
  },
  {
   "cell_type": "code",
   "execution_count": null,
   "metadata": {
    "collapsed": false
   },
   "outputs": [],
   "source": [
    "result.mean"
   ]
  },
  {
   "cell_type": "code",
   "execution_count": null,
   "metadata": {
    "collapsed": false
   },
   "outputs": [],
   "source": [
    "result.q25"
   ]
  },
  {
   "cell_type": "markdown",
   "metadata": {},
   "source": [
    " 四分位範囲 (Interquartile Range, IQR) を計算するには iqr を使います。"
   ]
  },
  {
   "cell_type": "code",
   "execution_count": null,
   "metadata": {
    "collapsed": false
   },
   "outputs": [],
   "source": [
    "StatsBase.iqr(x)"
   ]
  },
  {
   "cell_type": "markdown",
   "metadata": {},
   "source": [
    "[Z-score](https://en.wikipedia.org/wiki/Standard_score) の計算も出来ます。"
   ]
  },
  {
   "cell_type": "code",
   "execution_count": null,
   "metadata": {
    "collapsed": false
   },
   "outputs": [],
   "source": [
    "StatsBase.zscore(x)"
   ]
  },
  {
   "cell_type": "code",
   "execution_count": null,
   "metadata": {
    "collapsed": true
   },
   "outputs": [],
   "source": []
  },
  {
   "cell_type": "markdown",
   "metadata": {
    "collapsed": true
   },
   "source": [
    "[目次に戻る](#目次)"
   ]
  },
  {
   "cell_type": "markdown",
   "metadata": {},
   "source": [
    "## 質的データ (categorical data)\n",
    "\n",
    "質的データを調べるときには countmap や proportionmap を使うと便利です。\n",
    "共通要素が何個（何割）あるのかがわかります。\n",
    "\n",
    "返り値は各要素を key とする辞書です。"
   ]
  },
  {
   "cell_type": "code",
   "execution_count": null,
   "metadata": {
    "collapsed": false
   },
   "outputs": [],
   "source": [
    "@show x = rand('a':'c', 10)\n",
    "StatsBase.countmap(x) # 共通要素の個数"
   ]
  },
  {
   "cell_type": "code",
   "execution_count": null,
   "metadata": {
    "collapsed": false
   },
   "outputs": [],
   "source": [
    "abc = StatsBase.proportionmap(x) # 共通要素の全体の割合"
   ]
  },
  {
   "cell_type": "code",
   "execution_count": null,
   "metadata": {
    "collapsed": false
   },
   "outputs": [],
   "source": [
    "abc['a']"
   ]
  },
  {
   "cell_type": "markdown",
   "metadata": {
    "collapsed": true
   },
   "source": [
    "[目次に戻る](#目次)"
   ]
  },
  {
   "cell_type": "markdown",
   "metadata": {},
   "source": [
    "## 度数分布\n",
    "\n",
    "まずは Plots を使ってヒストグラムを書いてみましょう。"
   ]
  },
  {
   "cell_type": "code",
   "execution_count": null,
   "metadata": {
    "collapsed": false
   },
   "outputs": [],
   "source": [
    "import Plots\n",
    "Plots.gr(leg=false)"
   ]
  },
  {
   "cell_type": "code",
   "execution_count": null,
   "metadata": {
    "collapsed": false
   },
   "outputs": [],
   "source": [
    "nd = randn(1000) # 正規分布に従う乱数 1000点\n",
    "Plots.histogram(nd)"
   ]
  },
  {
   "cell_type": "markdown",
   "metadata": {},
   "source": [
    "bin を変える場合は\n",
    "```julia\n",
    "nbins = 20\n",
    "```\n",
    "や\n",
    "```julia\n",
    "nbins = -5:0.5:5\n",
    "```\n",
    "などとします。分割数を指定する場合は前者で、分割幅を決めたい場合は後者を使うと便利です。"
   ]
  },
  {
   "cell_type": "code",
   "execution_count": null,
   "metadata": {
    "collapsed": false
   },
   "outputs": [],
   "source": [
    "Plots.histogram(nd, nbins = 20) # 20分割"
   ]
  },
  {
   "cell_type": "code",
   "execution_count": null,
   "metadata": {
    "collapsed": false
   },
   "outputs": [],
   "source": [
    "Plots.histogram(nd, nbins = -5.0:0.5:5.0) # bin幅を 0.5 にし、-5 〜 5 の範囲でプロット"
   ]
  },
  {
   "cell_type": "code",
   "execution_count": null,
   "metadata": {
    "collapsed": false
   },
   "outputs": [],
   "source": [
    "Plots.histogram(nd, nbins = -5.0:0.5:5.0, norm=true) # 正規化"
   ]
  },
  {
   "cell_type": "markdown",
   "metadata": {},
   "source": [
    "Plots を使ってヒストグラムを書けばどのような分布なのかということはわかりますが、各 bin の中に何サンプルあるのかという具体的な数値はわかりません。\n",
    "\n",
    "具体的な数値を知りたい場合は\n",
    "```julia\n",
    "    fit(Histogram, nd, nbins = 20)\n",
    "    or\n",
    "    fit(Histogram, nd, -5.0:0.5:5.0)\n",
    "```\n",
    "などとします。\n",
    "\n",
    "結果は\n",
    "```julia\n",
    "StatsBase.Histogram{Int64,1,Tuple{FloatRange{Float64}}}\n",
    "edges:\n",
    "  -3.5:0.5:3.0\n",
    "weights: [1,2,13,46,84,149,173,206,164,83,46,27,6]\n",
    "closed: right\n",
    "```\n",
    "のようになります。ここで edges は範囲と分割幅、weights が度数を表します。\n",
    "各値は 変数名.edges や 変数名.weights をすることで抜き出すことが出来ます。"
   ]
  },
  {
   "cell_type": "code",
   "execution_count": null,
   "metadata": {
    "collapsed": false
   },
   "outputs": [],
   "source": [
    "ndfreq1 = fit(Histogram, nd, nbins = 20) # 分割数を指定"
   ]
  },
  {
   "cell_type": "code",
   "execution_count": null,
   "metadata": {
    "collapsed": false
   },
   "outputs": [],
   "source": [
    "ndfreq2 = fit(Histogram, nd, -5.0:0.5:5.0) # 幅と範囲を指定"
   ]
  },
  {
   "cell_type": "code",
   "execution_count": null,
   "metadata": {
    "collapsed": false
   },
   "outputs": [],
   "source": [
    "ndfreq2.edges"
   ]
  },
  {
   "cell_type": "code",
   "execution_count": null,
   "metadata": {
    "collapsed": false
   },
   "outputs": [],
   "source": [
    "ndfreq2.weights"
   ]
  },
  {
   "cell_type": "markdown",
   "metadata": {},
   "source": [
    "求めた結果をヒストグラムと一緒に描写してみます。"
   ]
  },
  {
   "cell_type": "code",
   "execution_count": null,
   "metadata": {
    "collapsed": false
   },
   "outputs": [],
   "source": [
    "Plots.histogram(nd, nbins = -5.0:0.5:5.0)\n",
    "x = [(ndfreq2.edges[1][i] + ndfreq2.edges[1][i+1])/2 for i in 1:length(ndfreq2.edges[1])-1] # \n",
    "Plots.plot!(x, ndfreq2.weights, marker=:circle)"
   ]
  },
  {
   "cell_type": "code",
   "execution_count": null,
   "metadata": {
    "collapsed": true
   },
   "outputs": [],
   "source": []
  },
  {
   "cell_type": "markdown",
   "metadata": {},
   "source": [
    "最頻値 (mode) を求める場合は mode を使います。"
   ]
  },
  {
   "cell_type": "code",
   "execution_count": null,
   "metadata": {
    "collapsed": false
   },
   "outputs": [],
   "source": [
    "@show a = rand('A':'C', 10)\n",
    "StatsBase.mode(a)"
   ]
  },
  {
   "cell_type": "code",
   "execution_count": null,
   "metadata": {
    "collapsed": true
   },
   "outputs": [],
   "source": []
  },
  {
   "cell_type": "markdown",
   "metadata": {
    "collapsed": true
   },
   "source": [
    "[目次に戻る](#目次)"
   ]
  },
  {
   "cell_type": "markdown",
   "metadata": {},
   "source": [
    "# 回帰直線\n",
    "\n",
    "Julia で回帰直線の切片、傾きを求めるには linreg 関数を使います。"
   ]
  },
  {
   "cell_type": "code",
   "execution_count": null,
   "metadata": {
    "collapsed": false
   },
   "outputs": [],
   "source": [
    "?linreg"
   ]
  },
  {
   "cell_type": "code",
   "execution_count": null,
   "metadata": {
    "collapsed": false
   },
   "outputs": [],
   "source": [
    "# y = a + b * x\n",
    "x = 1.0:12.0\n",
    "y = [5.5, 6.3, 7.6, 8.8, 10.9, 11.79, 13.48, 15.02, 17.77, 20.81, 22.0, 22.99]\n",
    "a, b = linreg(x, y)"
   ]
  },
  {
   "cell_type": "markdown",
   "metadata": {},
   "source": [
    "求めた結果を使ってプロットしてみます。"
   ]
  },
  {
   "cell_type": "code",
   "execution_count": null,
   "metadata": {
    "collapsed": false
   },
   "outputs": [],
   "source": [
    "Plots.plot(x,y, linetype=:scatter)\n",
    "Plots.plot!(x, a + b*x)"
   ]
  },
  {
   "cell_type": "code",
   "execution_count": null,
   "metadata": {
    "collapsed": true
   },
   "outputs": [],
   "source": []
  },
  {
   "cell_type": "markdown",
   "metadata": {
    "collapsed": true
   },
   "source": [
    "[目次に戻る](#目次)"
   ]
  },
  {
   "cell_type": "markdown",
   "metadata": {},
   "source": [
    "# アンスコムの例\n",
    "\n",
    "データ分析において可視化することがいかに重要かということを知ることの出来る良い例と[アンスコムの例(Anscombe's quartet)](https://en.wikipedia.org/wiki/Anscombe%27s_quartet)というものがあります。\n",
    "\n",
    "アンスコムの例は4つのデータセットからなり、それぞれのデータセットの平均や分散、回帰直線などはほとんど同じなのに、散布図にすると似ても似つかない分布になるという面白い例です。\n",
    "\n",
    "アンスコムの例のデータセットは統計ソフト R のデータセットから読み込むことが出来ます。"
   ]
  },
  {
   "cell_type": "code",
   "execution_count": null,
   "metadata": {
    "collapsed": false
   },
   "outputs": [],
   "source": [
    "using RDatasets\n",
    "anscombe = RDatasets.dataset(\"datasets\",\"anscombe\")"
   ]
  },
  {
   "cell_type": "markdown",
   "metadata": {},
   "source": [
    "ここで、読み込んだデータは DataFrame という配列に似たものです。詳細は次回。\n",
    "まずは、4つのデータをプロットしてみます。\n",
    "\n",
    "DaatFrame 型は各列を\n",
    "```julia\n",
    "anscombe[:X1]\n",
    "```\n",
    "のように列名で抜き出すことが出来ます。"
   ]
  },
  {
   "cell_type": "code",
   "execution_count": null,
   "metadata": {
    "collapsed": false
   },
   "outputs": [],
   "source": [
    "Plots.scatter(anscombe[:X1], anscombe[:Y1], xlims=(0,20))"
   ]
  },
  {
   "cell_type": "code",
   "execution_count": null,
   "metadata": {
    "collapsed": false
   },
   "outputs": [],
   "source": [
    "Plots.scatter(anscombe[:X2], anscombe[:Y2], xlims=(0,20))"
   ]
  },
  {
   "cell_type": "code",
   "execution_count": null,
   "metadata": {
    "collapsed": false
   },
   "outputs": [],
   "source": [
    "Plots.scatter(anscombe[:X3], anscombe[:Y3], xlims=(0,20))"
   ]
  },
  {
   "cell_type": "code",
   "execution_count": null,
   "metadata": {
    "collapsed": false
   },
   "outputs": [],
   "source": [
    "Plots.scatter(anscombe[:X4], anscombe[:Y4], xlims=(0,20))"
   ]
  },
  {
   "cell_type": "markdown",
   "metadata": {
    "collapsed": true
   },
   "source": [
    "4つの散布図は似ても似つきません。しかし、統計量は非常に近い値を取ります。"
   ]
  },
  {
   "cell_type": "code",
   "execution_count": null,
   "metadata": {
    "collapsed": false,
    "scrolled": true
   },
   "outputs": [],
   "source": [
    "# Introducing Julia/DataFrames - Wikibooks, open books for an open world \n",
    "# https://en.wikibooks.org/wiki/Introducing_Julia/DataFrames#Plotting_Anscombe.27s_Quartet\n",
    "\n",
    "# print a header\n",
    "println(\"Column\\tMeanX\\tMedianX\\tStdDev X\\tMeanY\\t\\t\\tStdDev Y\\t\\tCorr\\t\")\n",
    "map((xcol,ycol) -> println(\n",
    "    xcol,                   \"\\t\",\n",
    "    mean(anscombe[xcol]),   \"\\t\", \n",
    "    median(anscombe[xcol]), \"\\t\", \n",
    "    std(anscombe[xcol]),    \"\\t\", \n",
    "    mean(anscombe[ycol]),   \"\\t\", \n",
    "    std(anscombe[ycol]),    \"\\t\", \n",
    "    cor(anscombe[xcol], anscombe[ycol])), \n",
    "    \n",
    "    [:X1, :X2, :X3, :X4], \n",
    "    [:Y1, :Y2, :Y3, :Y4]);"
   ]
  },
  {
   "cell_type": "code",
   "execution_count": null,
   "metadata": {
    "collapsed": true
   },
   "outputs": [],
   "source": []
  },
  {
   "cell_type": "markdown",
   "metadata": {
    "collapsed": true
   },
   "source": [
    "[目次に戻る](#目次)"
   ]
  },
  {
   "cell_type": "markdown",
   "metadata": {},
   "source": [
    "# 練習問題"
   ]
  },
  {
   "cell_type": "markdown",
   "metadata": {},
   "source": [
    "## 1.\n",
    "\n",
    "線形方程式<br>\n",
    "$\n",
    "\\begin{align}\n",
    "  \\left\\{\n",
    "    \\begin{array}{l}\n",
    "      x + 2y = -1 \\\\\n",
    "      3x + y = 2\n",
    "    \\end{array}\n",
    "  \\right.\n",
    "\\end{align}\n",
    "$\n",
    "を解け"
   ]
  },
  {
   "cell_type": "code",
   "execution_count": null,
   "metadata": {
    "collapsed": false
   },
   "outputs": [],
   "source": []
  },
  {
   "cell_type": "markdown",
   "metadata": {},
   "source": [
    "## 2.\n",
    "\n",
    "以下のコード\n",
    "```julia\n",
    "    srand(1)\n",
    "    scores = rand(0:100, 100, 3)\n",
    "```\n",
    "を実行し、配列 scores の\n",
    "1. 各列の合計を求めよ。\n",
    "1. 各列の平均を求めよ。\n",
    "1. 各列の分散を求めよ。"
   ]
  },
  {
   "cell_type": "code",
   "execution_count": null,
   "metadata": {
    "collapsed": false
   },
   "outputs": [],
   "source": []
  },
  {
   "cell_type": "markdown",
   "metadata": {},
   "source": [
    "## 3.\n",
    "\n",
    "次のコードを実行するとタイタニックの乗客乗員の情報を読み込むことが出来る。\n",
    "```julia\n",
    "using RDatasets\n",
    "titanic = RDatasets.dataset(\"COUNT\", \"titanic\")\n",
    "```\n",
    "|   | Survived | Age | Sex | Class |\n",
    "|---|----------|-----|-----|-------|\n",
    "| 1 | 1        | 1   | 1   | 1     |\n",
    "| 2 | 2        | 1   | 1   | 1     |\n",
    "| 3 | 3        | 1   | 1   | 1     |\n",
    "| 4 | 4        | 1   | 1   | 1     |\n",
    "| 5 | 5        | 1   | 1   | 1     |\n",
    "| 6 | 6        | 1   | 1   | 1     |\n",
    "\n",
    "\n",
    "ここで各列の数字の意味は以下のとおりである。<br>\n",
    "Survived<br>\n",
    "    1=survived; 0=died\n",
    "\n",
    "Age<br>\n",
    "    1=adult; 0=child\n",
    "\n",
    "Sex<br>\n",
    "    1=Male; 0=female\n",
    "\n",
    "Class<br>\n",
    "    ticket class 1= 1st class; 2= second class; 3= third class\n",
    "    \n",
    "1. 生存者と死者の数をそれぞれ調べよ。\n",
    "1. 男女別に生存者と死者の数をそれぞれ調べよ。\n",
    "1. 年齢別に生存者と死者の数をそれぞれ調べよ。\n",
    "1. チケットの階級別に生存者と死者の数をそれぞれ調べよ。\n",
    "1. 1〜4 の結果を図示せよ。"
   ]
  },
  {
   "cell_type": "code",
   "execution_count": null,
   "metadata": {
    "collapsed": false,
    "scrolled": false
   },
   "outputs": [],
   "source": [
    "using RDatasets\n",
    "titanic = RDatasets.dataset(\"COUNT\", \"titanic\")\n",
    "head(titanic)"
   ]
  },
  {
   "cell_type": "code",
   "execution_count": null,
   "metadata": {
    "collapsed": true
   },
   "outputs": [],
   "source": []
  },
  {
   "cell_type": "markdown",
   "metadata": {},
   "source": [
    "## 4.\n",
    "\n",
    "福岡市の月ごとの降水量を調べ棒グラフで図示せよ。"
   ]
  },
  {
   "cell_type": "code",
   "execution_count": null,
   "metadata": {
    "collapsed": false,
    "scrolled": false
   },
   "outputs": [],
   "source": []
  },
  {
   "cell_type": "markdown",
   "metadata": {
    "collapsed": true
   },
   "source": [
    "[目次に戻る](#目次)"
   ]
  }
 ],
 "metadata": {
  "kernelspec": {
   "display_name": "Julia 0.5.0",
   "language": "julia",
   "name": "julia-0.5"
  },
  "language_info": {
   "file_extension": ".jl",
   "mimetype": "application/julia",
   "name": "julia",
   "version": "0.5.1"
  }
 },
 "nbformat": 4,
 "nbformat_minor": 2
}
