{
 "cells": [
  {
   "cell_type": "markdown",
   "metadata": {},
   "source": [
    "# Introduction to Data Science with Julia\n",
    "\n",
    "<img src=\"http://julialang.org/images/logo_hires.png\" alt=\"Julia Logo\" width=\"300\"></img>\n",
    "\n",
    "## 目次\n",
    "- [ループ処理の中断](#ループ処理の中断)\n",
    "- [ループ処理の一部中断](#ループ処理の一部中断)\n",
    "- [変数のデータ型](#変数のデータ型)\n",
    "- [関数](#関数)\n",
    " - [関数 （発展編）](#関数-（発展編）)\n",
    "- [外部パッケージの利用](#外部パッケージの利用)\n",
    " - [プロット](#プロット)\n",
    "- [練習問題](#練習問題)"
   ]
  },
  {
   "cell_type": "markdown",
   "metadata": {},
   "source": [
    "# ループ処理の中断\n",
    "\n",
    "for 文や while 文を使っていると、ある条件になったら繰り返し処理を止めたい場合があります。\n",
    "\n",
    "たとえば、ある数 $n$ が素数かどうかを判定するプログラムを考えます。力任せにやるならば $n$ を $2 \\sim \\sqrt{n}$ までの整数で割って余りが $0$ になるものが一つでもあったら $n$ は素数でない、余りが $0$ にならなかったら $n$ は素数と判定することが出来ます。\n",
    "\n",
    "例として $n=30$ とすると、30 は 2 で割り切れるのでこれ以上の計算は不必要ですが、このプログラムを for 文で書くと $ \\lfloor \\sqrt{n} \\rfloor$ の数まで計算が続いてしまいます。"
   ]
  },
  {
   "cell_type": "code",
   "execution_count": null,
   "metadata": {
    "collapsed": false
   },
   "outputs": [],
   "source": [
    "# n = 30 の場合、無駄な計算が2度入る\n",
    "n = 30\n",
    "for i in 2:√n\n",
    "    if n % i == 0\n",
    "        println(n, \" は素数ではありません\")\n",
    "    end\n",
    "end"
   ]
  },
  {
   "cell_type": "markdown",
   "metadata": {},
   "source": [
    "このようなときには、break を使うと for文から抜け出すことが出来ます"
   ]
  },
  {
   "cell_type": "code",
   "execution_count": null,
   "metadata": {
    "collapsed": false
   },
   "outputs": [],
   "source": [
    "n = 30\n",
    "for i in 2:√n\n",
    "    if n % i == 0\n",
    "        println(n, \" は素数ではありません\")\n",
    "        break\n",
    "    end\n",
    "end"
   ]
  },
  {
   "cell_type": "markdown",
   "metadata": {
    "collapsed": true
   },
   "source": [
    "break は while文でも使用することが出来ます"
   ]
  },
  {
   "cell_type": "code",
   "execution_count": null,
   "metadata": {
    "collapsed": false
   },
   "outputs": [],
   "source": [
    "i = 0\n",
    "while true\n",
    "    if i > 5\n",
    "        break\n",
    "    end\n",
    "    println(i)\n",
    "    i += 1\n",
    "end"
   ]
  },
  {
   "cell_type": "code",
   "execution_count": null,
   "metadata": {
    "collapsed": true
   },
   "outputs": [],
   "source": []
  },
  {
   "cell_type": "markdown",
   "metadata": {},
   "source": [
    "[目次に戻る](#目次)"
   ]
  },
  {
   "cell_type": "markdown",
   "metadata": {
    "collapsed": true
   },
   "source": [
    "# ループ処理の一部中断\n",
    "\n",
    "break ではループを抜けることが出来ました。次はループを抜けはしないけれど、ループの先頭に戻る continue を紹介します。\n",
    "\n",
    "例として、$1 \\sim 10$ の数を表示するけど、8 だけは表示しない場合は次のように書けます。"
   ]
  },
  {
   "cell_type": "code",
   "execution_count": null,
   "metadata": {
    "collapsed": false
   },
   "outputs": [],
   "source": [
    "for i in 1:10\n",
    "    if i == 8\n",
    "        continue # i = 8 のときだけ for 文の先頭に戻る。そのため println は実行されない\n",
    "    end\n",
    "    \n",
    "    println(i)\n",
    "end"
   ]
  },
  {
   "cell_type": "code",
   "execution_count": null,
   "metadata": {
    "collapsed": true
   },
   "outputs": [],
   "source": []
  },
  {
   "cell_type": "markdown",
   "metadata": {},
   "source": [
    "[目次に戻る](#目次)"
   ]
  },
  {
   "cell_type": "markdown",
   "metadata": {},
   "source": [
    "# 変数のデータ型\n",
    "\n",
    "前回までの講義資料中にも整数型や配列型など「型」という言葉が度々出てきましたが、今回はその「型 (データ型) 」について詳しく勉強していきましょう。\n",
    "\n",
    "データ型とはデータの分類のことです。日常的によく使うものとして、整数型や浮動小数点型などの数値型や文字列型などあらゆるデータは一つの型に分類されます。\n",
    "\n",
    "## 静的型付き言語と動的型付き言語\n",
    "- 静的型付き言語:<br>\n",
    "C言語や Java などはプログラミング言語のなかでは静的型付き言語という言語に分類されます。静的型付け言語の特徴として、変数使用時にその変数がどのような種類のデータを保存する変数なのかを宣言(型宣言)する必要が有ります。\n",
    "```C\n",
    "int x // C言語での型宣言。x は整数型の変数であることを宣言\n",
    "```\n",
    "一度型宣言された変数は他の型のデータを保存することは出来ません。そのため上の例では x に浮動小数点や文字列を入れることは出来ません。\n",
    "\n",
    "\n",
    "- 動的型付き言語:<br>\n",
    "C言語や Java と違い、Julia や Python, R, MATLAB などでは変数の型宣言は必要ありません。変数 x に整数型のデータが代入されれば x のデータ型は整数型になりますし、変数 x に文字列が入れば文字列型になります。このように代入されたデータ型に応じて自動的に変数のデータ型が決まるような言語は動的型付き言語と呼ばれます。動的型付き言語は型宣言が必要ないので手軽に書けますが、一方で変数の型をコンピュータが判断しなくてはならないので実行スピードは静的型付き言語に比べると遅くなります。しかし、Julia は JIT compile  という方法を採用することによって動的型付き言語なのに C言語並みの速さが出ます。"
   ]
  },
  {
   "cell_type": "code",
   "execution_count": null,
   "metadata": {
    "collapsed": false
   },
   "outputs": [],
   "source": [
    "x = 10\n",
    "x = \"Hello!\" # 動的型付きなのでエラーは出ない"
   ]
  },
  {
   "cell_type": "code",
   "execution_count": null,
   "metadata": {
    "collapsed": true
   },
   "outputs": [],
   "source": []
  },
  {
   "cell_type": "markdown",
   "metadata": {},
   "source": [
    "[目次に戻る](#目次)"
   ]
  },
  {
   "cell_type": "markdown",
   "metadata": {},
   "source": [
    "## Julia でのデータ型\n",
    "Julia は動的型付き言語なのでデータ型を意識することなく書けますが意識しても書くことも出来ます。ここでは簡単な紹介程度にとどめますが、詳しく知りたい場合は[公式ドキュメント](http://docs.julialang.org/en/stable/manual/types/)を読みましょう。\n",
    "\n",
    "Julia では typeof 関数を使うことによって変数のデータ型を確認することが出来ます。"
   ]
  },
  {
   "cell_type": "code",
   "execution_count": null,
   "metadata": {
    "collapsed": false
   },
   "outputs": [],
   "source": [
    "x = 10\n",
    "typeof(x)"
   ]
  },
  {
   "cell_type": "code",
   "execution_count": null,
   "metadata": {
    "collapsed": false
   },
   "outputs": [],
   "source": [
    "x = 10.0\n",
    "typeof(x)"
   ]
  },
  {
   "cell_type": "code",
   "execution_count": null,
   "metadata": {
    "collapsed": true
   },
   "outputs": [],
   "source": []
  },
  {
   "cell_type": "markdown",
   "metadata": {},
   "source": [
    "データ型を自分で明示的に指定したい場合は次のようにします。"
   ]
  },
  {
   "cell_type": "code",
   "execution_count": null,
   "metadata": {
    "collapsed": false
   },
   "outputs": [],
   "source": [
    "x = Int32(10) # Int32: 単精度整数型\n",
    "typeof(x)"
   ]
  },
  {
   "cell_type": "code",
   "execution_count": null,
   "metadata": {
    "collapsed": false
   },
   "outputs": [],
   "source": [
    "x = Float32(10) # Float32: 単精度整数型\n",
    "typeof(x)"
   ]
  },
  {
   "cell_type": "markdown",
   "metadata": {},
   "source": [
    "整数は浮動小数点に変換できますが、逆は出来る場合と出来ない場合があります。10.0 など小数部が 0 の場合は整数に自動的に変換されますが、そうでない場合は自動的には変換されません。整数に変換したい場合は先に小数部を丸める必要があります。"
   ]
  },
  {
   "cell_type": "code",
   "execution_count": null,
   "metadata": {
    "collapsed": false
   },
   "outputs": [],
   "source": [
    "Int(10.0) # Int はアーキテクチャが32bit だったら Int32, 64 bit だったら Int64 になる。"
   ]
  },
  {
   "cell_type": "code",
   "execution_count": null,
   "metadata": {
    "collapsed": false
   },
   "outputs": [],
   "source": [
    "Int(10.5) # InexactError()。整数に変換することは出来ない"
   ]
  },
  {
   "cell_type": "code",
   "execution_count": null,
   "metadata": {
    "collapsed": false
   },
   "outputs": [],
   "source": [
    "Int(round(10.5)) # round(Int, 10.5) でも可"
   ]
  },
  {
   "cell_type": "code",
   "execution_count": null,
   "metadata": {
    "collapsed": false
   },
   "outputs": [],
   "source": [
    "Int(floor(10.5)) # floor(Int, 10.5) でも可"
   ]
  },
  {
   "cell_type": "code",
   "execution_count": null,
   "metadata": {
    "collapsed": false
   },
   "outputs": [],
   "source": [
    "Int(ceil(10.5)) # ceil(Int, 10.5) でも可"
   ]
  },
  {
   "cell_type": "code",
   "execution_count": null,
   "metadata": {
    "collapsed": false
   },
   "outputs": [],
   "source": [
    "Int(trunc(10.5)) # trunc(Int, 10.5) でも可"
   ]
  },
  {
   "cell_type": "markdown",
   "metadata": {
    "collapsed": true
   },
   "source": [
    "round, floor, ceil, trunc の違いは ?round などとして見るか、[公式ドキュメント](http://docs.julialang.org/en/release-0.4/manual/mathematical-operations/#rounding-functions)を参照してください。"
   ]
  },
  {
   "cell_type": "code",
   "execution_count": null,
   "metadata": {
    "collapsed": true
   },
   "outputs": [],
   "source": []
  },
  {
   "cell_type": "markdown",
   "metadata": {},
   "source": [
    "[目次に戻る](#目次)"
   ]
  },
  {
   "cell_type": "markdown",
   "metadata": {},
   "source": [
    "## 型を作る\n",
    "今までは整数型や文字列型など既存の型を使ってきましたが、型は自分で作ることも出来ます。\n",
    "\n",
    "型を作る時の基本構文\n",
    "```julia\n",
    "    type Mytype\n",
    "        body\n",
    "    end\n",
    "````\n",
    "Julia では型の変数名の頭文字は大文字にするのが慣例です。\n",
    "\n",
    "例として学生を表す Student 型を作ってみましょう。"
   ]
  },
  {
   "cell_type": "code",
   "execution_count": null,
   "metadata": {
    "collapsed": false
   },
   "outputs": [],
   "source": [
    "type Student\n",
    "    statistics::Int # 型を指定しないと Any 型になる\n",
    "    programming::Int\n",
    "end"
   ]
  },
  {
   "cell_type": "code",
   "execution_count": null,
   "metadata": {
    "collapsed": false
   },
   "outputs": [],
   "source": [
    "太郎 = Student(60, 74)"
   ]
  },
  {
   "cell_type": "code",
   "execution_count": null,
   "metadata": {
    "collapsed": false
   },
   "outputs": [],
   "source": [
    "typeof(太郎)"
   ]
  },
  {
   "cell_type": "code",
   "execution_count": null,
   "metadata": {
    "collapsed": false
   },
   "outputs": [],
   "source": [
    "太郎.statistics"
   ]
  },
  {
   "cell_type": "code",
   "execution_count": null,
   "metadata": {
    "collapsed": false
   },
   "outputs": [],
   "source": [
    "太郎.programming"
   ]
  },
  {
   "cell_type": "code",
   "execution_count": null,
   "metadata": {
    "collapsed": false
   },
   "outputs": [],
   "source": [
    "太郎.statistics = 100"
   ]
  },
  {
   "cell_type": "code",
   "execution_count": null,
   "metadata": {
    "collapsed": false
   },
   "outputs": [],
   "source": [
    "太郎 # 値が更新された"
   ]
  },
  {
   "cell_type": "code",
   "execution_count": null,
   "metadata": {
    "collapsed": false
   },
   "outputs": [],
   "source": [
    "太郎.statistics = 100.5 # statistics は Int 型と指定したため 浮動小数点を入れることは出来ない"
   ]
  },
  {
   "cell_type": "code",
   "execution_count": null,
   "metadata": {
    "collapsed": true
   },
   "outputs": [],
   "source": []
  },
  {
   "cell_type": "markdown",
   "metadata": {},
   "source": [
    "値を更新することができない型を作るには immutable を使います。"
   ]
  },
  {
   "cell_type": "code",
   "execution_count": null,
   "metadata": {
    "collapsed": true
   },
   "outputs": [],
   "source": [
    "immutable GoodStudent\n",
    "    statistics::Float64\n",
    "    programming::Int\n",
    "end"
   ]
  },
  {
   "cell_type": "code",
   "execution_count": null,
   "metadata": {
    "collapsed": false
   },
   "outputs": [],
   "source": [
    "勉 = GoodStudent(90.7, 98)"
   ]
  },
  {
   "cell_type": "code",
   "execution_count": null,
   "metadata": {
    "collapsed": false
   },
   "outputs": [],
   "source": [
    "勉.statistics = 99.9"
   ]
  },
  {
   "cell_type": "code",
   "execution_count": null,
   "metadata": {
    "collapsed": true
   },
   "outputs": [],
   "source": []
  },
  {
   "cell_type": "markdown",
   "metadata": {},
   "source": [
    "[目次に戻る](#目次)"
   ]
  },
  {
   "cell_type": "markdown",
   "metadata": {},
   "source": [
    "# 関数\n",
    "\n",
    "プログラムを書いていると計算式は同じだけど値だけが違うという計算が何度も出てきます。こういう時には関数を使って再利用性を上げましょう。\n",
    "\n",
    "※ プログラミングでの関数は数学での関数とは意味が少し異なります。引数を何も入れなくても値を返すこともありますし、引数をいれても何も値を返さないこともあります。\n",
    "\n",
    "Julia では関数の定義の仕方が以下の3通りあります。\n",
    "```julia\n",
    "    f(x) = ...\n",
    "        or\n",
    "        \n",
    "    function f(x)\n",
    "        body\n",
    "    end\n",
    "    \n",
    "        or\n",
    "    \n",
    "    x -> ...\n",
    "\n",
    "```\n",
    "\n",
    "一行で定義できるようなものは一番上の方法で、body が長くなりそうなら真ん中の方法で、わざわざ関数名をつけるほどでもないときは一番下の方法で定義することが多いです。"
   ]
  },
  {
   "cell_type": "code",
   "execution_count": null,
   "metadata": {
    "collapsed": false
   },
   "outputs": [],
   "source": [
    "# 一行書きで関数を定義\n",
    "# sin を2乗するような関数\n",
    "sin2(x) = sin(x)^2"
   ]
  },
  {
   "cell_type": "code",
   "execution_count": null,
   "metadata": {
    "collapsed": false
   },
   "outputs": [],
   "source": [
    "sin(1), sin(1)^2, sin2(1)"
   ]
  },
  {
   "cell_type": "code",
   "execution_count": null,
   "metadata": {
    "collapsed": false
   },
   "outputs": [],
   "source": [
    "function sinpow2(x)\n",
    "    return sin(x)^2 # return の有無は任意。end の直上にある値が返り値となる\n",
    "end"
   ]
  },
  {
   "cell_type": "code",
   "execution_count": null,
   "metadata": {
    "collapsed": false
   },
   "outputs": [],
   "source": [
    "sinpow2(1)"
   ]
  },
  {
   "cell_type": "code",
   "execution_count": null,
   "metadata": {
    "collapsed": false
   },
   "outputs": [],
   "source": [
    "# 無名関数\n",
    "# 一度きりしか使わないような場合には便利です。以下の例では使う意味は全くありませんが、map 関数と組み合わせてよく使います。\n",
    "(x -> sin(x)^2)(1)"
   ]
  },
  {
   "cell_type": "markdown",
   "metadata": {},
   "source": [
    "引数には数字だけでなく文字列や配列、関数など何でも入れることが出来ます。引数の数は複数個でも構いません。同様に返り値もなんでも大丈夫です。"
   ]
  },
  {
   "cell_type": "code",
   "execution_count": null,
   "metadata": {
    "collapsed": false,
    "scrolled": true
   },
   "outputs": [],
   "source": [
    "# 数字 a, b を引数にとり、a + b, a - b を返すような関数\n",
    "# 一行書きすると plusminus(a, b) = a + b, a - b\n",
    "\n",
    "function plusminus(a, b)\n",
    "    return a + b, a - b\n",
    "end\n",
    "plusminus(10, 5)"
   ]
  },
  {
   "cell_type": "code",
   "execution_count": null,
   "metadata": {
    "collapsed": false
   },
   "outputs": [],
   "source": [
    "# フィボナッチ数列の第 n 項を返す関数\n",
    "# fib(0) = 0, fib(1) = 1, fib(n) = fib(n-1) + fib(n-2)\n",
    "function fib(n)\n",
    "    if n < 2\n",
    "        return n\n",
    "    end\n",
    "    \n",
    "    a, b, c = 0, 1, 0\n",
    "    for iter in 2:n\n",
    "        c = a + b\n",
    "        a = b\n",
    "        b = c\n",
    "    end\n",
    "    \n",
    "    return c\n",
    "end\n",
    "fib(10)"
   ]
  },
  {
   "cell_type": "code",
   "execution_count": null,
   "metadata": {
    "collapsed": false
   },
   "outputs": [],
   "source": [
    "# 引数を取らない関数\n",
    "function hoge()\n",
    "    println(\"hoge\")\n",
    "end\n",
    "hoge()"
   ]
  },
  {
   "cell_type": "code",
   "execution_count": null,
   "metadata": {
    "collapsed": false
   },
   "outputs": [],
   "source": [
    "# 引数に関数 f と数字 x をとり、f(x)^2 を返すような関数\n",
    "function pow2fn(func, x)\n",
    "    func(x)^2\n",
    "end\n",
    "pow2fn(sin, 1), sin(1)^2"
   ]
  },
  {
   "cell_type": "code",
   "execution_count": null,
   "metadata": {
    "collapsed": true
   },
   "outputs": [],
   "source": []
  },
  {
   "cell_type": "markdown",
   "metadata": {},
   "source": [
    "[目次に戻る](#目次)"
   ]
  },
  {
   "cell_type": "markdown",
   "metadata": {},
   "source": [
    "## オプション引数\n",
    "\n",
    "オプション引数を使うと、デフォルトの値を設定が出来ます。\n",
    "\n",
    "オプション引数\n",
    "```julia\n",
    "    function myfunc(x, y, a=1, b=2, ...) # a, b, ...がオプション引数\n",
    "        body\n",
    "    end\n",
    "```"
   ]
  },
  {
   "cell_type": "code",
   "execution_count": null,
   "metadata": {
    "collapsed": false
   },
   "outputs": [],
   "source": [
    "sin_mul_a(x, a=3) = a * sin(x) # オプション引数は普通の引数の後に書く\n",
    "sin_mul_a(1), 3 * sin(1)"
   ]
  },
  {
   "cell_type": "code",
   "execution_count": null,
   "metadata": {
    "collapsed": false
   },
   "outputs": [],
   "source": [
    "sin_mul_a(1, 6)"
   ]
  },
  {
   "cell_type": "markdown",
   "metadata": {},
   "source": [
    "オプション引数は複数入れることも出来ます"
   ]
  },
  {
   "cell_type": "code",
   "execution_count": null,
   "metadata": {
    "collapsed": false
   },
   "outputs": [],
   "source": [
    "function foo(x, y, a=1, b=3)\n",
    "    println(\"x = \", x)\n",
    "    println(\"y = $y\")\n",
    "    println(\"a = \", a)\n",
    "    println(\"b = \", b)\n",
    "end"
   ]
  },
  {
   "cell_type": "code",
   "execution_count": null,
   "metadata": {
    "collapsed": false
   },
   "outputs": [],
   "source": [
    "foo(1, 3)"
   ]
  },
  {
   "cell_type": "code",
   "execution_count": null,
   "metadata": {
    "collapsed": false
   },
   "outputs": [],
   "source": [
    "foo(1, 3, 10)"
   ]
  },
  {
   "cell_type": "code",
   "execution_count": null,
   "metadata": {
    "collapsed": false
   },
   "outputs": [],
   "source": [
    "foo(1, 3, 10, 20)"
   ]
  },
  {
   "cell_type": "code",
   "execution_count": null,
   "metadata": {
    "collapsed": true
   },
   "outputs": [],
   "source": []
  },
  {
   "cell_type": "markdown",
   "metadata": {},
   "source": [
    "[目次に戻る](#目次)"
   ]
  },
  {
   "cell_type": "markdown",
   "metadata": {},
   "source": [
    "## キーワード引数\n",
    "\n",
    "オプション引数はデフォルトの値を設定することができるので便利ですが、数が多くなると大変です。上の例というと b の値だけデフォルトの値とは違う値を使いたい場合でも a の値を入力する必要が有ります。キーワード引数を使うと b = 10 などと明示的に指定することによって b の値だけを変えることが出来ます。\n",
    "キーワード引数を使う場合、; の後にキーワード引数にしたいものを書きます。\n",
    "\n",
    "キーワード引数\n",
    "```julia\n",
    "    function myfunc(x, y, ..., a=1, b=2...; c =3, d=4, ...) # x, yは普通の引数。a, b はオプション引数。c, dがキーワード引数。\n",
    "        body\n",
    "    end\n",
    "```"
   ]
  },
  {
   "cell_type": "code",
   "execution_count": null,
   "metadata": {
    "collapsed": false
   },
   "outputs": [],
   "source": [
    "function piyo(x, y, a=1, b=2; c=3, d=4)\n",
    "    println(\"x = \", x)\n",
    "    println(\"y = $y\")\n",
    "    println(\"a = \", a)\n",
    "    println(\"b = \", b)\n",
    "    println(\"c = \", c)\n",
    "    println(\"d = \", d)\n",
    "end"
   ]
  },
  {
   "cell_type": "code",
   "execution_count": null,
   "metadata": {
    "collapsed": false
   },
   "outputs": [],
   "source": [
    "piyo(100, 200)"
   ]
  },
  {
   "cell_type": "code",
   "execution_count": null,
   "metadata": {
    "collapsed": false
   },
   "outputs": [],
   "source": [
    "piyo(100, 200, c=300)"
   ]
  },
  {
   "cell_type": "code",
   "execution_count": null,
   "metadata": {
    "collapsed": false
   },
   "outputs": [],
   "source": [
    "piyo(100, 200, d=200, c=100) # キーワード引数の順序は任意"
   ]
  },
  {
   "cell_type": "code",
   "execution_count": null,
   "metadata": {
    "collapsed": false
   },
   "outputs": [],
   "source": [
    "piyo(d=200, 1000, c=300, 2000, 3000, 4000) # キーワード引数がついていない部分から順に x, y, a, b に割り当てられる。\n",
    "                                           # ただしこのような書き方は可読性が低くなるので使わないようにしましょう。"
   ]
  },
  {
   "cell_type": "code",
   "execution_count": null,
   "metadata": {
    "collapsed": true
   },
   "outputs": [],
   "source": []
  },
  {
   "cell_type": "markdown",
   "metadata": {},
   "source": [
    "[目次に戻る](#目次)"
   ]
  },
  {
   "cell_type": "markdown",
   "metadata": {},
   "source": [
    "## 関数 （発展編）\n",
    "\n",
    "以下の内容は余裕のある人だけ読んでください。"
   ]
  },
  {
   "cell_type": "markdown",
   "metadata": {},
   "source": [
    "### 再帰処理\n",
    "\n",
    "関数定義時に返り値として自分自身を返す関数も作ることが出来ます。これを使うと上のフィボナッチ数列がよりスマートに書けます。"
   ]
  },
  {
   "cell_type": "code",
   "execution_count": null,
   "metadata": {
    "collapsed": false
   },
   "outputs": [],
   "source": [
    "function fib_rec(n)\n",
    "    if n < 2 # 終了条件。これがないと無限ループに陥る\n",
    "        return n\n",
    "    else\n",
    "        return fib_rec(n-1) + fib_rec(n-2)\n",
    "    end\n",
    "end\n",
    "fib_rec(10)"
   ]
  },
  {
   "cell_type": "markdown",
   "metadata": {},
   "source": [
    "三項演算子と組み合わせると次のように一行で定義できます"
   ]
  },
  {
   "cell_type": "code",
   "execution_count": null,
   "metadata": {
    "collapsed": false
   },
   "outputs": [],
   "source": [
    "fib_rec2(n) = n < 2 ? n : fib_rec2(n-1) + fib_rec2(n-2)\n",
    "fib_rec2(10)"
   ]
  },
  {
   "cell_type": "markdown",
   "metadata": {},
   "source": [
    "[目次に戻る](#目次)"
   ]
  },
  {
   "cell_type": "markdown",
   "metadata": {},
   "source": [
    "### 無名関数\n",
    "\n",
    "sin 2乗の例では無名関数の有り難みは全くありませんでしたが、使うと嬉しい例を少し紹介します。"
   ]
  },
  {
   "cell_type": "markdown",
   "metadata": {},
   "source": [
    "次のように要素が Tuple であるような配列があったとします。"
   ]
  },
  {
   "cell_type": "code",
   "execution_count": null,
   "metadata": {
    "collapsed": false
   },
   "outputs": [],
   "source": [
    "AA = [(i,j) for (i,j) in zip(rand(1:100,10), rand(1:100,10))]"
   ]
  },
  {
   "cell_type": "markdown",
   "metadata": {},
   "source": [
    "この配列から Tuple の第1成分を要素とする配列を作りたいと思った時、愚直にやると次のような感じでしょう"
   ]
  },
  {
   "cell_type": "code",
   "execution_count": null,
   "metadata": {
    "collapsed": false
   },
   "outputs": [],
   "source": [
    "tmparray = zeros(Int, length(AA))\n",
    "for i in 1:10\n",
    "    tmparray[i] = AA[i][1]\n",
    "end\n",
    "tmparray"
   ]
  },
  {
   "cell_type": "markdown",
   "metadata": {},
   "source": [
    "なかなか野暮ったいです。ですが、無名関数と map を使うと以下のようになります。\n",
    "\n",
    "map の使い方\n",
    "```julia\n",
    "    map(func, collection)\n",
    "```\n",
    "map 関数は collecttion (配列やTupleなど) の各要素に関数を作用させる"
   ]
  },
  {
   "cell_type": "code",
   "execution_count": null,
   "metadata": {
    "collapsed": false
   },
   "outputs": [],
   "source": [
    "map(x -> x[1], AA)"
   ]
  },
  {
   "cell_type": "markdown",
   "metadata": {},
   "source": [
    "だいぶスマートになったのではないでしょうか？ \n",
    "\n",
    "※今の場合なら内包表記でも書けますけどね"
   ]
  },
  {
   "cell_type": "code",
   "execution_count": null,
   "metadata": {
    "collapsed": false
   },
   "outputs": [],
   "source": [
    "[x[1] for x in AA]"
   ]
  },
  {
   "cell_type": "code",
   "execution_count": null,
   "metadata": {
    "collapsed": true
   },
   "outputs": [],
   "source": []
  },
  {
   "cell_type": "markdown",
   "metadata": {},
   "source": [
    "次の例として要素数 100 の正規分布に従った乱数の配列を 10 個作り、それをまた別の配列に保存します。"
   ]
  },
  {
   "cell_type": "code",
   "execution_count": null,
   "metadata": {
    "collapsed": false
   },
   "outputs": [],
   "source": [
    "A = [randn(100) for i in 1:10] # このコマンドの意味がわからなければ内包表記 (comprehension) で検索\n",
    "                               # Array{Array{Float64,1},1}: A は配列でその要素も配列"
   ]
  },
  {
   "cell_type": "markdown",
   "metadata": {},
   "source": [
    "配列に var 関数を作用させると分散が計算できます"
   ]
  },
  {
   "cell_type": "code",
   "execution_count": null,
   "metadata": {
    "collapsed": false
   },
   "outputs": [],
   "source": [
    "var(A[1])"
   ]
  },
  {
   "cell_type": "markdown",
   "metadata": {},
   "source": [
    "しかし、配列 A に作用させると ..."
   ]
  },
  {
   "cell_type": "code",
   "execution_count": null,
   "metadata": {
    "collapsed": false
   },
   "outputs": [],
   "source": [
    "var(A) # エラーが出る"
   ]
  },
  {
   "cell_type": "markdown",
   "metadata": {},
   "source": [
    "配列 A[1] 〜 A[10] までそれぞれの分散を知りたい場合は、map 関数を使う。"
   ]
  },
  {
   "cell_type": "code",
   "execution_count": null,
   "metadata": {
    "collapsed": false
   },
   "outputs": [],
   "source": [
    "map(var, A) # [var(A[1]), var(A[2]), ..., var(A[10])] と等価"
   ]
  },
  {
   "cell_type": "markdown",
   "metadata": {},
   "source": [
    "Julia の var 関数は標準で不偏分散を計算しますが、補正のない分散を計算する場合にはキーワード引数で corrected=false とする必要があります。しかし、map 関数ではキーワード引数を取ることが出来ません。このようなとき、わざわざ次のように corrected=false にした関数を作り map 関数を利用するのは不便です。なにより、この場限りでしか使わない関数に名前をつけるのも面倒です。\n",
    "```julia\n",
    "    var_no_correction(x) = var(x, corrected=false)\n",
    "    map(var_no_correction, A)\n",
    "```\n",
    "\n",
    "このような時に無名関数を使えば、わざわざ関数名を考えずに済みます。\n",
    "```julia\n",
    "    map(x -> var(x, corrected=false), A)\n",
    "```"
   ]
  },
  {
   "cell_type": "code",
   "execution_count": null,
   "metadata": {
    "collapsed": false
   },
   "outputs": [],
   "source": [
    "var_no_correction(x) = var(x, corrected=false)\n",
    "map(var_no_correction, A)"
   ]
  },
  {
   "cell_type": "code",
   "execution_count": null,
   "metadata": {
    "collapsed": false
   },
   "outputs": [],
   "source": [
    "map(x -> var(x, corrected=false), A)"
   ]
  },
  {
   "cell_type": "markdown",
   "metadata": {},
   "source": [
    "まぁ、分散の場合ならば map を使わずとも var.(A) とすれば計算できるのですけど。\n",
    "この 関数名.(arg...) という使い方は配列演算の項目でまた詳しく説明します。"
   ]
  },
  {
   "cell_type": "code",
   "execution_count": null,
   "metadata": {
    "collapsed": false
   },
   "outputs": [],
   "source": [
    "var.(A, corrected=false)"
   ]
  },
  {
   "cell_type": "code",
   "execution_count": null,
   "metadata": {
    "collapsed": true
   },
   "outputs": [],
   "source": []
  },
  {
   "cell_type": "markdown",
   "metadata": {},
   "source": [
    "一応、無名関数と map 関数の説明はしましたが、軽くプログラミングをする程度ならこの2つの関数は知らなくても大丈夫です。\n",
    "ただし、スピードを求めて並列化をする場合、map の並列版の pmap という関数があるので、後々並列化に挑戦したいなら覚えておいて損はないです。\n",
    "しかし、並列化はこの講義のレベルを遥かに超えるので、詳しく知りたい人は Julia の公式ドキュメントを読んでください。"
   ]
  },
  {
   "cell_type": "code",
   "execution_count": null,
   "metadata": {
    "collapsed": true
   },
   "outputs": [],
   "source": []
  },
  {
   "cell_type": "markdown",
   "metadata": {},
   "source": [
    "[目次に戻る](#目次)"
   ]
  },
  {
   "cell_type": "markdown",
   "metadata": {},
   "source": [
    "### 多重ディスパッチ\n",
    "\n",
    "Julia では関数の引数の型を明示的に書く必要はありませんが、明示的に指定することも出来ます。明示的に指定することで引数のデータ型によって関数の挙動を変えることができたり、また、実行スピードの向上につながります。この時の型には自分で作ったものも指定することが出来ます。\n",
    "\n",
    "例として、まずは引数に整数型をとる関数を定義します。"
   ]
  },
  {
   "cell_type": "code",
   "execution_count": null,
   "metadata": {
    "collapsed": false
   },
   "outputs": [],
   "source": [
    "print_num_type(x::Int) = println(\"整数です\")"
   ]
  },
  {
   "cell_type": "code",
   "execution_count": null,
   "metadata": {
    "collapsed": false
   },
   "outputs": [],
   "source": [
    "print_num_type(10) # 整数値を入れると動作します"
   ]
  },
  {
   "cell_type": "code",
   "execution_count": null,
   "metadata": {
    "collapsed": false
   },
   "outputs": [],
   "source": [
    "print_num_type(10.9) # 整数以外のものを入れるとエラーが出ます"
   ]
  },
  {
   "cell_type": "code",
   "execution_count": null,
   "metadata": {
    "collapsed": false
   },
   "outputs": [],
   "source": [
    "print_num_type(\"Hello\") # 整数以外のものを入れるとエラーが出ます"
   ]
  },
  {
   "cell_type": "markdown",
   "metadata": {},
   "source": [
    "次に、同じ関数名で浮動小数点を引数にとるように定義します"
   ]
  },
  {
   "cell_type": "code",
   "execution_count": null,
   "metadata": {
    "collapsed": false
   },
   "outputs": [],
   "source": [
    "print_num_type(x::Float64) = println(\"浮動小数点です\")"
   ]
  },
  {
   "cell_type": "code",
   "execution_count": null,
   "metadata": {
    "collapsed": false
   },
   "outputs": [],
   "source": [
    "print_num_type(10.9) # 先程はエラーが出ましたが、今回はエラーが出ません。"
   ]
  },
  {
   "cell_type": "code",
   "execution_count": null,
   "metadata": {
    "collapsed": false
   },
   "outputs": [],
   "source": [
    "print_num_type(5) # 整数を入れるとエラーは出ず、前と同じ動作になります"
   ]
  },
  {
   "cell_type": "markdown",
   "metadata": {},
   "source": [
    "Julia では関数名が同じでも引数の型を変えて定義すれば関数は上書きされません。\n",
    "\n",
    "関数定義時の出力結果を見ると始めの定義時は\n",
    "```julia\n",
    "    print_num_type (generic function with 1 methods)\n",
    "```\n",
    "でしたが、2回目では\n",
    "```julia\n",
    "    print_num_type (generic function with 2 method)\n",
    "```\n",
    "と 2 methods になっています。これは引数の型によって 2 通りの挙動をすること示しています。\n",
    "\n",
    "現在、どのような引数に対して定義されているのか確認するには methods 関数を使います。"
   ]
  },
  {
   "cell_type": "code",
   "execution_count": null,
   "metadata": {
    "collapsed": false
   },
   "outputs": [],
   "source": [
    "methods(print_num_type) # これより Float64, Int64 で定義されていることがわかります。"
   ]
  },
  {
   "cell_type": "code",
   "execution_count": null,
   "metadata": {
    "collapsed": true
   },
   "outputs": [],
   "source": []
  },
  {
   "cell_type": "markdown",
   "metadata": {},
   "source": [
    "現在の状態だと引数に 倍精度整数 Int64 の数字を入れることは出来ますが、単精度整数 Int32 などの他の整数は入れることが出来ません。"
   ]
  },
  {
   "cell_type": "code",
   "execution_count": null,
   "metadata": {
    "collapsed": false
   },
   "outputs": [],
   "source": [
    "print_num_type(Int32(10)) # エラーが出る"
   ]
  },
  {
   "cell_type": "markdown",
   "metadata": {},
   "source": [
    "全ての整数に対して動作するようにするためにはより抽象的な型(abstract type)である Integer 型を使います。今まで使ってきた Int32, Int64 などは具体的な型 (concrete type) と呼ばれ、 Int32, Int64 は 抽象的な型 Integer 型の subtype です。"
   ]
  },
  {
   "cell_type": "code",
   "execution_count": null,
   "metadata": {
    "collapsed": false
   },
   "outputs": [],
   "source": [
    "Int32 <: Integer # subtype かどうかは Type1 <: Type2 として調べることが出来ます。"
   ]
  },
  {
   "cell_type": "code",
   "execution_count": null,
   "metadata": {
    "collapsed": false
   },
   "outputs": [],
   "source": [
    "print_num_type(x::Integer) = println(\"整数です\")"
   ]
  },
  {
   "cell_type": "code",
   "execution_count": null,
   "metadata": {
    "collapsed": false
   },
   "outputs": [],
   "source": [
    "print_num_type(Int32(10))"
   ]
  },
  {
   "cell_type": "code",
   "execution_count": null,
   "metadata": {
    "collapsed": true
   },
   "outputs": [],
   "source": []
  },
  {
   "cell_type": "markdown",
   "metadata": {},
   "source": [
    "[目次に戻る](#目次)"
   ]
  },
  {
   "cell_type": "markdown",
   "metadata": {},
   "source": [
    "# 外部パッケージの利用\n",
    "\n",
    "Julia では標準機能として平均、分散の計算やフーリエ変換などが出来ますが、外部パッケージを利用することさらに様々なことが出来るようになります。\n",
    "\n",
    "パッケージを追加するには\n",
    "```julia\n",
    "    Pkg.add(\"パッケージ名\")\n",
    "```\n",
    "とします。導入できるパッケージは Julia の[公式ページ](http://pkg.julialang.org/)より確認することが出来ます。\n",
    "\n",
    "パッケージのアップデートは\n",
    "```julia\n",
    "    Pkg.update()\n",
    "```\n",
    "とします。これをすることで、今までインストールしたパッケージ全てをアップデートすることが出来ます。\n",
    "\n",
    "\n",
    "今回は外部パッケージの一例としてプロット関連のパッケージの導入から簡単な使い方を紹介します。\n",
    "\n",
    "## プロット\n",
    "\n",
    "プロット関連の有名なパッケージとしては次のようなものが有ります。\n",
    "- [PyPlot](https://github.com/JuliaPy/PyPlot.jl): Python の matplotlib を使用している\n",
    "- [GR](https://github.com/jheinen/GR.jl)\n",
    "- [Plotly](https://plot.ly/)\n",
    "\n",
    "これらのパッケージは作図するまでの文法がそれぞれ違うため、どれか一つの文法を覚えたとしても他の作図パッケージでは使えません。\n",
    "ですが、[Plots](https://github.com/JuliaPlots/Plots.jl) というパッケージを使うと、文法は変えずにバッグエンドを変えることで、ある時は PyPlot で作図し、あるときは GR で作図しと使い分けることが出来ます。"
   ]
  },
  {
   "cell_type": "code",
   "execution_count": null,
   "metadata": {
    "collapsed": true
   },
   "outputs": [],
   "source": [
    "# パッケージの追加\n",
    "# ローカルで Julia 使っている人はコメントを外してコードを実行する。\n",
    "# JuliaBox を使っている人は標準で入っているため実行する必要はない。\n",
    "\n",
    "# Pkg.add(\"Plots\"); Pkg.add(\"GR\")"
   ]
  },
  {
   "cell_type": "markdown",
   "metadata": {},
   "source": [
    "### パッケージの読み込み\n",
    "追加したパッケージを利用するには\n",
    "\n",
    "```julia\n",
    "import パッケージ名\n",
    "\n",
    "or\n",
    "\n",
    "using パッケージ名\n",
    "```\n",
    "とします。これで読み込んだパッケージの関数が使えるようになります。\n",
    "\n",
    "import と using の違いは、import で読み込んだ場合はパッケージの関数を使うときに\n",
    "```julia\n",
    "    パッケージ名.関数名(arg...)\n",
    "```\n",
    "と \" パッケージ名. \" を入れて使用しますが、using で読み込んだ場合は\n",
    "```julia\n",
    "    関数名(arg...)\n",
    "```\n",
    "と関数名だけで読み込んだパッケージの関数を使うことが出来ます。(import 同様パッケージ名を入れても使えます)<br>\n",
    "一見すると import など使わずに常に using を使うのが便利そうです。しかし、複数のパッケージを同時に読み込むと関数名が衝突することが有ります。\n",
    "例えば、PyPlot と GR にはどちらにも plot という関数があるので、どちらのパッケージも using を使って読み込むと plot がどちらのパッケージに依存した関数なのかわからなくなってしまいます。import を使えばパッケージ名を指定するのでこのような関数の衝突はなくなります。\n",
    "\n",
    "今後、講義資料中ではどの関数がどのパッケージに依存する関数なのか明白にするために、パッケージ名.関数名(arg...) と書きますが、みなさんの日頃のプログラミングではこうする必要はありません。"
   ]
  },
  {
   "cell_type": "code",
   "execution_count": null,
   "metadata": {
    "collapsed": false
   },
   "outputs": [],
   "source": [
    "import Plots\n",
    "Plots.gr() # バックエンドを GR に指定. PyPlot にしたい場合は pyplot(), plotly を使いたい場合は plotly() とする。\n",
    "# Plots.pyplot()\n",
    "# Plots.plotly()"
   ]
  },
  {
   "cell_type": "markdown",
   "metadata": {},
   "source": [
    "まずは sin 関数を描写してみましょう。\n",
    "\n",
    "Plots.jl のプロットの基本文法。 ある関数を $a < x < b$ の範囲でプロットする場合\n",
    "```julia\n",
    "    plot(function, a, b)\n",
    "```"
   ]
  },
  {
   "cell_type": "code",
   "execution_count": null,
   "metadata": {
    "collapsed": false
   },
   "outputs": [],
   "source": [
    "Plots.plot(sin, -3π, 3π)"
   ]
  },
  {
   "cell_type": "code",
   "execution_count": null,
   "metadata": {
    "collapsed": true
   },
   "outputs": [],
   "source": []
  },
  {
   "cell_type": "markdown",
   "metadata": {},
   "source": [
    "関数には自分で定義した関数も使用することが出来ます"
   ]
  },
  {
   "cell_type": "code",
   "execution_count": null,
   "metadata": {
    "collapsed": false
   },
   "outputs": [],
   "source": [
    "sin3(x) = sin(x)^3 # sin の3乗\n",
    "Plots.plot(sin3, -3π, 4π)"
   ]
  },
  {
   "cell_type": "code",
   "execution_count": null,
   "metadata": {
    "collapsed": true
   },
   "outputs": [],
   "source": []
  },
  {
   "cell_type": "code",
   "execution_count": null,
   "metadata": {
    "collapsed": false
   },
   "outputs": [],
   "source": [
    "# 無名関数はプロットするときにも便利です\n",
    "Plots.plot(x -> sin(x)^3, -3π, 4π) "
   ]
  },
  {
   "cell_type": "code",
   "execution_count": null,
   "metadata": {
    "collapsed": true
   },
   "outputs": [],
   "source": []
  },
  {
   "cell_type": "markdown",
   "metadata": {},
   "source": [
    "[目次に戻る](#目次)"
   ]
  },
  {
   "cell_type": "markdown",
   "metadata": {},
   "source": [
    "# 練習問題"
   ]
  },
  {
   "cell_type": "markdown",
   "metadata": {},
   "source": [
    "## 1. \n",
    "\n",
    "3つの数 a, b, c を入力すると平均値を返すような関数を作成せよ\n",
    "\n",
    "出力例\n",
    "```julia\n",
    "avg3(10, 20, 30) # -> 20.0\n",
    "```"
   ]
  },
  {
   "cell_type": "code",
   "execution_count": null,
   "metadata": {
    "collapsed": false
   },
   "outputs": [],
   "source": []
  },
  {
   "cell_type": "markdown",
   "metadata": {},
   "source": [
    "## 2.\n",
    "```julia\n",
    "    x = [74,51,98,27,29,2,40,75,75,12]\n",
    "```\n",
    "のような配列を引数にとり、要素の平均を出力する関数 mymean を作成せよ. (mean 関数は使ってはいけない)\n",
    "\n",
    "出力例\n",
    "```julia\n",
    "mymean(x) #-> 48.3\n",
    "```"
   ]
  },
  {
   "cell_type": "code",
   "execution_count": null,
   "metadata": {
    "collapsed": false
   },
   "outputs": [],
   "source": []
  },
  {
   "cell_type": "markdown",
   "metadata": {},
   "source": [
    "## 3.\n",
    "半径 r の球の表面積と体積を計算する関数を作成せよ\n",
    "\n",
    "出力例\n",
    "```julia\n",
    "areavol(4) #-> (201.06192982974676,268.082573106329)\n",
    "```"
   ]
  },
  {
   "cell_type": "code",
   "execution_count": null,
   "metadata": {
    "collapsed": false
   },
   "outputs": [],
   "source": []
  },
  {
   "cell_type": "markdown",
   "metadata": {},
   "source": [
    "## 4.\n",
    "西暦を入力すると、うるう年かどうか判定する関数を作成せよ\n",
    "\n",
    "うるう年\n",
    "- 西暦年が4で割り切れる年は閏年。\n",
    "- ただし、西暦年が100で割り切れる年は平年。\n",
    "- ただし、西暦年が400で割り切れる年は閏年。\n",
    "\n",
    "Wikipedia より<br><br>\n",
    "\n",
    "出力例\n",
    "```julia\n",
    "leap(2000)\n",
    "2000 年はうるう年です\n",
    "\n",
    "leap(2100)\n",
    "2100 年はうるう年ではありません\n",
    "```"
   ]
  },
  {
   "cell_type": "code",
   "execution_count": null,
   "metadata": {
    "collapsed": false
   },
   "outputs": [],
   "source": []
  },
  {
   "cell_type": "markdown",
   "metadata": {},
   "source": [
    "## 5.\n",
    "$y = x^2 + 3$ を $-3 < x < 3$の範囲で図示せよ"
   ]
  },
  {
   "cell_type": "code",
   "execution_count": null,
   "metadata": {
    "collapsed": false
   },
   "outputs": [],
   "source": []
  },
  {
   "cell_type": "markdown",
   "metadata": {},
   "source": [
    "## 6.\n",
    "\n",
    "福岡市の平均気温を調べ、横軸を月、縦軸を平均気温として図示せよ"
   ]
  },
  {
   "cell_type": "code",
   "execution_count": null,
   "metadata": {
    "collapsed": false,
    "scrolled": false
   },
   "outputs": [],
   "source": []
  },
  {
   "cell_type": "markdown",
   "metadata": {},
   "source": [
    "[目次に戻る](#目次)"
   ]
  }
 ],
 "metadata": {
  "kernelspec": {
   "display_name": "Julia 0.5.0",
   "language": "julia",
   "name": "julia-0.5"
  },
  "language_info": {
   "file_extension": ".jl",
   "mimetype": "application/julia",
   "name": "julia",
   "version": "0.5.1"
  }
 },
 "nbformat": 4,
 "nbformat_minor": 2
}
