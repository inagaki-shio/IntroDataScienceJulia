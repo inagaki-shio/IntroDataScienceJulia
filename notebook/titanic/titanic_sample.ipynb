{
 "cells": [
  {
   "cell_type": "markdown",
   "metadata": {},
   "source": [
    "# タイタニック生存者予測モデル\n",
    "\n",
    "[Titanic: Machine Learning from Disaster](https://www.kaggle.com/c/titanic)\n",
    "\n",
    "以下の内容は、九大OB のT君が学部生時代に行った分析過程の一部です。  \n",
    "どうアプローチしたら良いのかわからない人は参考にしてください。\n",
    "\n",
    "---\n",
    "\n",
    "---\n",
    "\n",
    "まずはどんな問題なのか把握しないとな。  \n",
    "なるほど、生死がわかっている人たちのデータ (train.csv) からモデルを立てて、生死が隠されているの人たち (test.csv) の生死を予測すれば良いわけだな。\n",
    "\n",
    "まぁ、とりあえずはデータを読み込んでみよう。"
   ]
  },
  {
   "cell_type": "code",
   "execution_count": 1,
   "metadata": {
    "collapsed": false
   },
   "outputs": [
    {
     "data": {
      "text/html": [
       "<table class=\"data-frame\"><thead><tr><th></th><th>PassengerId</th><th>Survived</th><th>Pclass</th><th>Name</th><th>Sex</th><th>Age</th><th>SibSp</th><th>Parch</th><th>Ticket</th><th>Fare</th><th>Cabin</th><th>Embarked</th></tr></thead><tbody><tr><th>1</th><td>1</td><td>0</td><td>3</td><td>Braund, Mr. Owen Harris</td><td>male</td><td>22.0</td><td>1</td><td>0</td><td>A/5 21171</td><td>7.25</td><td>NA</td><td>S</td></tr><tr><th>2</th><td>2</td><td>1</td><td>1</td><td>Cumings, Mrs. John Bradley (Florence Briggs Thayer)</td><td>female</td><td>38.0</td><td>1</td><td>0</td><td>PC 17599</td><td>71.2833</td><td>C85</td><td>C</td></tr><tr><th>3</th><td>3</td><td>1</td><td>3</td><td>Heikkinen, Miss. Laina</td><td>female</td><td>26.0</td><td>0</td><td>0</td><td>STON/O2. 3101282</td><td>7.925</td><td>NA</td><td>S</td></tr><tr><th>4</th><td>4</td><td>1</td><td>1</td><td>Futrelle, Mrs. Jacques Heath (Lily May Peel)</td><td>female</td><td>35.0</td><td>1</td><td>0</td><td>113803</td><td>53.1</td><td>C123</td><td>S</td></tr><tr><th>5</th><td>5</td><td>0</td><td>3</td><td>Allen, Mr. William Henry</td><td>male</td><td>35.0</td><td>0</td><td>0</td><td>373450</td><td>8.05</td><td>NA</td><td>S</td></tr><tr><th>6</th><td>6</td><td>0</td><td>3</td><td>Moran, Mr. James</td><td>male</td><td>NA</td><td>0</td><td>0</td><td>330877</td><td>8.4583</td><td>NA</td><td>Q</td></tr></tbody></table>"
      ],
      "text/plain": [
       "6×12 DataFrames.DataFrame\n",
       "│ Row │ PassengerId │ Survived │ Pclass │\n",
       "├─────┼─────────────┼──────────┼────────┤\n",
       "│ 1   │ 1           │ 0        │ 3      │\n",
       "│ 2   │ 2           │ 1        │ 1      │\n",
       "│ 3   │ 3           │ 1        │ 3      │\n",
       "│ 4   │ 4           │ 1        │ 1      │\n",
       "│ 5   │ 5           │ 0        │ 3      │\n",
       "│ 6   │ 6           │ 0        │ 3      │\n",
       "\n",
       "│ Row │ Name                                                  │ Sex      │\n",
       "├─────┼───────────────────────────────────────────────────────┼──────────┤\n",
       "│ 1   │ \"Braund, Mr. Owen Harris\"                             │ \"male\"   │\n",
       "│ 2   │ \"Cumings, Mrs. John Bradley (Florence Briggs Thayer)\" │ \"female\" │\n",
       "│ 3   │ \"Heikkinen, Miss. Laina\"                              │ \"female\" │\n",
       "│ 4   │ \"Futrelle, Mrs. Jacques Heath (Lily May Peel)\"        │ \"female\" │\n",
       "│ 5   │ \"Allen, Mr. William Henry\"                            │ \"male\"   │\n",
       "│ 6   │ \"Moran, Mr. James\"                                    │ \"male\"   │\n",
       "\n",
       "│ Row │ Age  │ SibSp │ Parch │ Ticket             │ Fare    │ Cabin  │\n",
       "├─────┼──────┼───────┼───────┼────────────────────┼─────────┼────────┤\n",
       "│ 1   │ 22.0 │ 1     │ 0     │ \"A/5 21171\"        │ 7.25    │ NA     │\n",
       "│ 2   │ 38.0 │ 1     │ 0     │ \"PC 17599\"         │ 71.2833 │ \"C85\"  │\n",
       "│ 3   │ 26.0 │ 0     │ 0     │ \"STON/O2. 3101282\" │ 7.925   │ NA     │\n",
       "│ 4   │ 35.0 │ 1     │ 0     │ \"113803\"           │ 53.1    │ \"C123\" │\n",
       "│ 5   │ 35.0 │ 0     │ 0     │ \"373450\"           │ 8.05    │ NA     │\n",
       "│ 6   │ NA   │ 0     │ 0     │ \"330877\"           │ 8.4583  │ NA     │\n",
       "\n",
       "│ Row │ Embarked │\n",
       "├─────┼──────────┤\n",
       "│ 1   │ \"S\"      │\n",
       "│ 2   │ \"C\"      │\n",
       "│ 3   │ \"S\"      │\n",
       "│ 4   │ \"S\"      │\n",
       "│ 5   │ \"S\"      │\n",
       "│ 6   │ \"Q\"      │"
      ]
     },
     "execution_count": 1,
     "metadata": {},
     "output_type": "execute_result"
    }
   ],
   "source": [
    "using DataFrames, StatsBase, StatPlots\n",
    "gr()\n",
    "\n",
    "train = readtable(\"train.csv\")\n",
    "head(train)"
   ]
  },
  {
   "cell_type": "code",
   "execution_count": 2,
   "metadata": {
    "collapsed": false
   },
   "outputs": [
    {
     "data": {
      "text/html": [
       "<table class=\"data-frame\"><thead><tr><th></th><th>PassengerId</th><th>Pclass</th><th>Name</th><th>Sex</th><th>Age</th><th>SibSp</th><th>Parch</th><th>Ticket</th><th>Fare</th><th>Cabin</th><th>Embarked</th></tr></thead><tbody><tr><th>1</th><td>892</td><td>3</td><td>Kelly, Mr. James</td><td>male</td><td>34.5</td><td>0</td><td>0</td><td>330911</td><td>7.8292</td><td>NA</td><td>Q</td></tr><tr><th>2</th><td>893</td><td>3</td><td>Wilkes, Mrs. James (Ellen Needs)</td><td>female</td><td>47.0</td><td>1</td><td>0</td><td>363272</td><td>7.0</td><td>NA</td><td>S</td></tr><tr><th>3</th><td>894</td><td>2</td><td>Myles, Mr. Thomas Francis</td><td>male</td><td>62.0</td><td>0</td><td>0</td><td>240276</td><td>9.6875</td><td>NA</td><td>Q</td></tr><tr><th>4</th><td>895</td><td>3</td><td>Wirz, Mr. Albert</td><td>male</td><td>27.0</td><td>0</td><td>0</td><td>315154</td><td>8.6625</td><td>NA</td><td>S</td></tr><tr><th>5</th><td>896</td><td>3</td><td>Hirvonen, Mrs. Alexander (Helga E Lindqvist)</td><td>female</td><td>22.0</td><td>1</td><td>1</td><td>3101298</td><td>12.2875</td><td>NA</td><td>S</td></tr><tr><th>6</th><td>897</td><td>3</td><td>Svensson, Mr. Johan Cervin</td><td>male</td><td>14.0</td><td>0</td><td>0</td><td>7538</td><td>9.225</td><td>NA</td><td>S</td></tr></tbody></table>"
      ],
      "text/plain": [
       "6×11 DataFrames.DataFrame\n",
       "│ Row │ PassengerId │ Pclass │ Name                                           │\n",
       "├─────┼─────────────┼────────┼────────────────────────────────────────────────┤\n",
       "│ 1   │ 892         │ 3      │ \"Kelly, Mr. James\"                             │\n",
       "│ 2   │ 893         │ 3      │ \"Wilkes, Mrs. James (Ellen Needs)\"             │\n",
       "│ 3   │ 894         │ 2      │ \"Myles, Mr. Thomas Francis\"                    │\n",
       "│ 4   │ 895         │ 3      │ \"Wirz, Mr. Albert\"                             │\n",
       "│ 5   │ 896         │ 3      │ \"Hirvonen, Mrs. Alexander (Helga E Lindqvist)\" │\n",
       "│ 6   │ 897         │ 3      │ \"Svensson, Mr. Johan Cervin\"                   │\n",
       "\n",
       "│ Row │ Sex      │ Age  │ SibSp │ Parch │ Ticket    │ Fare    │ Cabin │\n",
       "├─────┼──────────┼──────┼───────┼───────┼───────────┼─────────┼───────┤\n",
       "│ 1   │ \"male\"   │ 34.5 │ 0     │ 0     │ \"330911\"  │ 7.8292  │ NA    │\n",
       "│ 2   │ \"female\" │ 47.0 │ 1     │ 0     │ \"363272\"  │ 7.0     │ NA    │\n",
       "│ 3   │ \"male\"   │ 62.0 │ 0     │ 0     │ \"240276\"  │ 9.6875  │ NA    │\n",
       "│ 4   │ \"male\"   │ 27.0 │ 0     │ 0     │ \"315154\"  │ 8.6625  │ NA    │\n",
       "│ 5   │ \"female\" │ 22.0 │ 1     │ 1     │ \"3101298\" │ 12.2875 │ NA    │\n",
       "│ 6   │ \"male\"   │ 14.0 │ 0     │ 0     │ \"7538\"    │ 9.225   │ NA    │\n",
       "\n",
       "│ Row │ Embarked │\n",
       "├─────┼──────────┤\n",
       "│ 1   │ \"Q\"      │\n",
       "│ 2   │ \"S\"      │\n",
       "│ 3   │ \"Q\"      │\n",
       "│ 4   │ \"S\"      │\n",
       "│ 5   │ \"S\"      │\n",
       "│ 6   │ \"S\"      │"
      ]
     },
     "execution_count": 2,
     "metadata": {},
     "output_type": "execute_result"
    }
   ],
   "source": [
    "test = readtable(\"test.csv\")\n",
    "head(test)"
   ]
  },
  {
   "cell_type": "markdown",
   "metadata": {},
   "source": [
    "サイトによると各列のデータの意味は次のとおりと。\n",
    "\n",
    "| Variable | Definition                                 | Key                                            |\n",
    "|----------|--------------------------------------------|------------------------------------------------|\n",
    "| survival | Survival                                   | 0 = No, 1 = Yes                                |\n",
    "| pclass   | Ticket class                               | 1 = 1st, 2 = 2nd, 3 = 3rd                      |\n",
    "| sex      | Sex                                        |                                                |\n",
    "| Age      | Age in years                               |                                                |\n",
    "| sibsp    | # of siblings / spouses aboard the Titanic |                                                |\n",
    "| parch    | # of parents / children aboard the Titanic |                                                |\n",
    "| ticket   | Ticket number                              |                                                |\n",
    "| fare     | Passenger fare                             |                                                |\n",
    "| cabin    | Cabin number                               |                                                |\n",
    "| embarked | Port of Embarkation                        | C = Cherbourg, Q = Queenstown, S = Southampton |\n",
    "\n",
    "パラメータが多くてこれは大変そうだ。どうアプローチしたもんかなぁ。<br>\n",
    "名前で生死に差がでるとは思えないから Name 列でも消しとくかな。"
   ]
  },
  {
   "cell_type": "code",
   "execution_count": 3,
   "metadata": {
    "collapsed": false
   },
   "outputs": [
    {
     "data": {
      "text/html": [
       "<table class=\"data-frame\"><thead><tr><th></th><th>PassengerId</th><th>Survived</th><th>Pclass</th><th>Sex</th><th>Age</th><th>SibSp</th><th>Parch</th><th>Ticket</th><th>Fare</th><th>Cabin</th><th>Embarked</th></tr></thead><tbody><tr><th>1</th><td>1</td><td>0</td><td>3</td><td>male</td><td>22.0</td><td>1</td><td>0</td><td>A/5 21171</td><td>7.25</td><td>NA</td><td>S</td></tr><tr><th>2</th><td>2</td><td>1</td><td>1</td><td>female</td><td>38.0</td><td>1</td><td>0</td><td>PC 17599</td><td>71.2833</td><td>C85</td><td>C</td></tr><tr><th>3</th><td>3</td><td>1</td><td>3</td><td>female</td><td>26.0</td><td>0</td><td>0</td><td>STON/O2. 3101282</td><td>7.925</td><td>NA</td><td>S</td></tr><tr><th>4</th><td>4</td><td>1</td><td>1</td><td>female</td><td>35.0</td><td>1</td><td>0</td><td>113803</td><td>53.1</td><td>C123</td><td>S</td></tr><tr><th>5</th><td>5</td><td>0</td><td>3</td><td>male</td><td>35.0</td><td>0</td><td>0</td><td>373450</td><td>8.05</td><td>NA</td><td>S</td></tr><tr><th>6</th><td>6</td><td>0</td><td>3</td><td>male</td><td>NA</td><td>0</td><td>0</td><td>330877</td><td>8.4583</td><td>NA</td><td>Q</td></tr></tbody></table>"
      ],
      "text/plain": [
       "6×11 DataFrames.DataFrame\n",
       "│ Row │ PassengerId │ Survived │ Pclass │ Sex      │ Age  │ SibSp │ Parch │\n",
       "├─────┼─────────────┼──────────┼────────┼──────────┼──────┼───────┼───────┤\n",
       "│ 1   │ 1           │ 0        │ 3      │ \"male\"   │ 22.0 │ 1     │ 0     │\n",
       "│ 2   │ 2           │ 1        │ 1      │ \"female\" │ 38.0 │ 1     │ 0     │\n",
       "│ 3   │ 3           │ 1        │ 3      │ \"female\" │ 26.0 │ 0     │ 0     │\n",
       "│ 4   │ 4           │ 1        │ 1      │ \"female\" │ 35.0 │ 1     │ 0     │\n",
       "│ 5   │ 5           │ 0        │ 3      │ \"male\"   │ 35.0 │ 0     │ 0     │\n",
       "│ 6   │ 6           │ 0        │ 3      │ \"male\"   │ NA   │ 0     │ 0     │\n",
       "\n",
       "│ Row │ Ticket             │ Fare    │ Cabin  │ Embarked │\n",
       "├─────┼────────────────────┼─────────┼────────┼──────────┤\n",
       "│ 1   │ \"A/5 21171\"        │ 7.25    │ NA     │ \"S\"      │\n",
       "│ 2   │ \"PC 17599\"         │ 71.2833 │ \"C85\"  │ \"C\"      │\n",
       "│ 3   │ \"STON/O2. 3101282\" │ 7.925   │ NA     │ \"S\"      │\n",
       "│ 4   │ \"113803\"           │ 53.1    │ \"C123\" │ \"S\"      │\n",
       "│ 5   │ \"373450\"           │ 8.05    │ NA     │ \"S\"      │\n",
       "│ 6   │ \"330877\"           │ 8.4583  │ NA     │ \"Q\"      │"
      ]
     },
     "execution_count": 3,
     "metadata": {},
     "output_type": "execute_result"
    }
   ],
   "source": [
    "delete!(train, :Name)\n",
    "head(train)"
   ]
  },
  {
   "cell_type": "markdown",
   "metadata": {},
   "source": [
    "生存者と死者にはそれぞれ共通する傾向があるかもしれないからデータを分けておこう！"
   ]
  },
  {
   "cell_type": "code",
   "execution_count": 4,
   "metadata": {
    "collapsed": false
   },
   "outputs": [
    {
     "data": {
      "text/html": [
       "<table class=\"data-frame\"><thead><tr><th></th><th>PassengerId</th><th>Pclass</th><th>Sex</th><th>Age</th><th>SibSp</th><th>Parch</th><th>Ticket</th><th>Fare</th><th>Cabin</th><th>Embarked</th></tr></thead><tbody><tr><th>1</th><td>2</td><td>1</td><td>female</td><td>38.0</td><td>1</td><td>0</td><td>PC 17599</td><td>71.2833</td><td>C85</td><td>C</td></tr><tr><th>2</th><td>3</td><td>3</td><td>female</td><td>26.0</td><td>0</td><td>0</td><td>STON/O2. 3101282</td><td>7.925</td><td>NA</td><td>S</td></tr><tr><th>3</th><td>4</td><td>1</td><td>female</td><td>35.0</td><td>1</td><td>0</td><td>113803</td><td>53.1</td><td>C123</td><td>S</td></tr><tr><th>4</th><td>9</td><td>3</td><td>female</td><td>27.0</td><td>0</td><td>2</td><td>347742</td><td>11.1333</td><td>NA</td><td>S</td></tr><tr><th>5</th><td>10</td><td>2</td><td>female</td><td>14.0</td><td>1</td><td>0</td><td>237736</td><td>30.0708</td><td>NA</td><td>C</td></tr><tr><th>6</th><td>11</td><td>3</td><td>female</td><td>4.0</td><td>1</td><td>1</td><td>PP 9549</td><td>16.7</td><td>G6</td><td>S</td></tr></tbody></table>"
      ],
      "text/plain": [
       "6×10 DataFrames.DataFrame\n",
       "│ Row │ PassengerId │ Pclass │ Sex      │ Age  │ SibSp │ Parch │\n",
       "├─────┼─────────────┼────────┼──────────┼──────┼───────┼───────┤\n",
       "│ 1   │ 2           │ 1      │ \"female\" │ 38.0 │ 1     │ 0     │\n",
       "│ 2   │ 3           │ 3      │ \"female\" │ 26.0 │ 0     │ 0     │\n",
       "│ 3   │ 4           │ 1      │ \"female\" │ 35.0 │ 1     │ 0     │\n",
       "│ 4   │ 9           │ 3      │ \"female\" │ 27.0 │ 0     │ 2     │\n",
       "│ 5   │ 10          │ 2      │ \"female\" │ 14.0 │ 1     │ 0     │\n",
       "│ 6   │ 11          │ 3      │ \"female\" │ 4.0  │ 1     │ 1     │\n",
       "\n",
       "│ Row │ Ticket             │ Fare    │ Cabin  │ Embarked │\n",
       "├─────┼────────────────────┼─────────┼────────┼──────────┤\n",
       "│ 1   │ \"PC 17599\"         │ 71.2833 │ \"C85\"  │ \"C\"      │\n",
       "│ 2   │ \"STON/O2. 3101282\" │ 7.925   │ NA     │ \"S\"      │\n",
       "│ 3   │ \"113803\"           │ 53.1    │ \"C123\" │ \"S\"      │\n",
       "│ 4   │ \"347742\"           │ 11.1333 │ NA     │ \"S\"      │\n",
       "│ 5   │ \"237736\"           │ 30.0708 │ NA     │ \"C\"      │\n",
       "│ 6   │ \"PP 9549\"          │ 16.7    │ \"G6\"   │ \"S\"      │"
      ]
     },
     "execution_count": 4,
     "metadata": {},
     "output_type": "execute_result"
    }
   ],
   "source": [
    "survived = train[train[:Survived] .== 1, :]\n",
    "delete!(survived, :Survived) # 生死はわかっているので Survived 列を削除\n",
    "head(survived)"
   ]
  },
  {
   "cell_type": "code",
   "execution_count": 5,
   "metadata": {
    "collapsed": false
   },
   "outputs": [
    {
     "data": {
      "text/html": [
       "<table class=\"data-frame\"><thead><tr><th></th><th>PassengerId</th><th>Pclass</th><th>Sex</th><th>Age</th><th>SibSp</th><th>Parch</th><th>Ticket</th><th>Fare</th><th>Cabin</th><th>Embarked</th></tr></thead><tbody><tr><th>1</th><td>1</td><td>3</td><td>male</td><td>22.0</td><td>1</td><td>0</td><td>A/5 21171</td><td>7.25</td><td>NA</td><td>S</td></tr><tr><th>2</th><td>5</td><td>3</td><td>male</td><td>35.0</td><td>0</td><td>0</td><td>373450</td><td>8.05</td><td>NA</td><td>S</td></tr><tr><th>3</th><td>6</td><td>3</td><td>male</td><td>NA</td><td>0</td><td>0</td><td>330877</td><td>8.4583</td><td>NA</td><td>Q</td></tr><tr><th>4</th><td>7</td><td>1</td><td>male</td><td>54.0</td><td>0</td><td>0</td><td>17463</td><td>51.8625</td><td>E46</td><td>S</td></tr><tr><th>5</th><td>8</td><td>3</td><td>male</td><td>2.0</td><td>3</td><td>1</td><td>349909</td><td>21.075</td><td>NA</td><td>S</td></tr><tr><th>6</th><td>13</td><td>3</td><td>male</td><td>20.0</td><td>0</td><td>0</td><td>A/5. 2151</td><td>8.05</td><td>NA</td><td>S</td></tr></tbody></table>"
      ],
      "text/plain": [
       "6×10 DataFrames.DataFrame\n",
       "│ Row │ PassengerId │ Pclass │ Sex    │ Age  │ SibSp │ Parch │ Ticket      │\n",
       "├─────┼─────────────┼────────┼────────┼──────┼───────┼───────┼─────────────┤\n",
       "│ 1   │ 1           │ 3      │ \"male\" │ 22.0 │ 1     │ 0     │ \"A/5 21171\" │\n",
       "│ 2   │ 5           │ 3      │ \"male\" │ 35.0 │ 0     │ 0     │ \"373450\"    │\n",
       "│ 3   │ 6           │ 3      │ \"male\" │ NA   │ 0     │ 0     │ \"330877\"    │\n",
       "│ 4   │ 7           │ 1      │ \"male\" │ 54.0 │ 0     │ 0     │ \"17463\"     │\n",
       "│ 5   │ 8           │ 3      │ \"male\" │ 2.0  │ 3     │ 1     │ \"349909\"    │\n",
       "│ 6   │ 13          │ 3      │ \"male\" │ 20.0 │ 0     │ 0     │ \"A/5. 2151\" │\n",
       "\n",
       "│ Row │ Fare    │ Cabin │ Embarked │\n",
       "├─────┼─────────┼───────┼──────────┤\n",
       "│ 1   │ 7.25    │ NA    │ \"S\"      │\n",
       "│ 2   │ 8.05    │ NA    │ \"S\"      │\n",
       "│ 3   │ 8.4583  │ NA    │ \"Q\"      │\n",
       "│ 4   │ 51.8625 │ \"E46\" │ \"S\"      │\n",
       "│ 5   │ 21.075  │ NA    │ \"S\"      │\n",
       "│ 6   │ 8.05    │ NA    │ \"S\"      │"
      ]
     },
     "execution_count": 5,
     "metadata": {},
     "output_type": "execute_result"
    }
   ],
   "source": [
    "dead = train[train[:Survived] .== 0, :]\n",
    "delete!(dead, :Survived) # 生死はわかっているので Survived 列を削除\n",
    "head(dead)"
   ]
  },
  {
   "cell_type": "markdown",
   "metadata": {},
   "source": [
    "タイタニックといえばイギリスの客船だったなぁ。イギリスといえば英国紳士。レディーファーストの文化が根付いてるから、女性の方が優先的に救命ボートに乗ってそうだな。よし、生存者と死者の男女の数を調べてみよう。"
   ]
  },
  {
   "cell_type": "code",
   "execution_count": 6,
   "metadata": {
    "collapsed": false
   },
   "outputs": [
    {
     "data": {
      "text/plain": [
       "Dict{Union{DataArrays.NAtype,String},Int64} with 2 entries:\n",
       "  \"male\"   => 577\n",
       "  \"female\" => 314"
      ]
     },
     "execution_count": 6,
     "metadata": {},
     "output_type": "execute_result"
    }
   ],
   "source": [
    "# データ全体の男女の数\n",
    "countmap(train[:Sex])"
   ]
  },
  {
   "cell_type": "code",
   "execution_count": 7,
   "metadata": {
    "collapsed": false
   },
   "outputs": [
    {
     "data": {
      "text/plain": [
       "Dict{Union{DataArrays.NAtype,String},Int64} with 2 entries:\n",
       "  \"male\"   => 109\n",
       "  \"female\" => 233"
      ]
     },
     "execution_count": 7,
     "metadata": {},
     "output_type": "execute_result"
    }
   ],
   "source": [
    "# 生存者の男女の数\n",
    "countmap(survived[:Sex])"
   ]
  },
  {
   "cell_type": "code",
   "execution_count": 8,
   "metadata": {
    "collapsed": false
   },
   "outputs": [
    {
     "data": {
      "text/plain": [
       "Dict{Union{DataArrays.NAtype,String},Int64} with 2 entries:\n",
       "  \"male\"   => 468\n",
       "  \"female\" => 81"
      ]
     },
     "execution_count": 8,
     "metadata": {},
     "output_type": "execute_result"
    }
   ],
   "source": [
    "# 死者の男女の数\n",
    "countmap(dead[:Sex])"
   ]
  },
  {
   "cell_type": "code",
   "execution_count": 9,
   "metadata": {
    "collapsed": false
   },
   "outputs": [
    {
     "data": {
      "text/plain": [
       "2-element Array{Float64,1}:\n",
       " 0.188908\n",
       " 0.742038"
      ]
     },
     "execution_count": 9,
     "metadata": {},
     "output_type": "execute_result"
    }
   ],
   "source": [
    "# 男女別の生存者の割合\n",
    "collect(values(countmap(survived[:Sex]))) ./ collect(values(countmap(train[:Sex])))"
   ]
  },
  {
   "cell_type": "code",
   "execution_count": 10,
   "metadata": {
    "collapsed": false
   },
   "outputs": [
    {
     "data": {
      "text/html": [
       "<?xml version=\"1.0\" encoding=\"utf-8\"?>\n",
       "<svg xmlns=\"http://www.w3.org/2000/svg\" xmlns:xlink=\"http://www.w3.org/1999/xlink\" width=\"600\" height=\"400\" viewBox=\"0 0 600 400\">\n",
       "<defs>\n",
       "  <clipPath id=\"clip00\">\n",
       "    <rect x=\"0\" y=\"0\" width=\"600\" height=\"400\"/>\n",
       "  </clipPath>\n",
       "</defs>\n",
       "<polygon clip-path=\"url(#clip00)\" points=\"\n",
       "0,400 600,400 600,0 0,0 \n",
       "  \" fill=\"#ffffff\" fill-opacity=\"1\"/>\n",
       "<defs>\n",
       "  <clipPath id=\"clip01\">\n",
       "    <rect x=\"120\" y=\"0\" width=\"421\" height=\"400\"/>\n",
       "  </clipPath>\n",
       "</defs>\n",
       "<polygon clip-path=\"url(#clip00)\" points=\"\n",
       "30.6037,384.952 596.063,384.952 596.063,3.93701 30.6037,3.93701 \n",
       "  \" fill=\"#ffffff\" fill-opacity=\"1\"/>\n",
       "<defs>\n",
       "  <clipPath id=\"clip02\">\n",
       "    <rect x=\"30\" y=\"3\" width=\"566\" height=\"382\"/>\n",
       "  </clipPath>\n",
       "</defs>\n",
       "<polyline clip-path=\"url(#clip02)\" style=\"stroke:#00002d; stroke-width:0.8; stroke-opacity:0.5; fill:none\" stroke-dasharray=\"1, 2\" points=\"\n",
       "  156.436,379.237 156.436,9.65223 \n",
       "  \"/>\n",
       "<polyline clip-path=\"url(#clip02)\" style=\"stroke:#00002d; stroke-width:0.8; stroke-opacity:0.5; fill:none\" stroke-dasharray=\"1, 2\" points=\"\n",
       "  470.231,379.237 470.231,9.65223 \n",
       "  \"/>\n",
       "<polyline clip-path=\"url(#clip02)\" style=\"stroke:#00002d; stroke-width:0.8; stroke-opacity:0.5; fill:none\" stroke-dasharray=\"1, 2\" points=\"\n",
       "  39.0856,384.952 587.581,384.952 \n",
       "  \"/>\n",
       "<polyline clip-path=\"url(#clip02)\" style=\"stroke:#00002d; stroke-width:0.8; stroke-opacity:0.5; fill:none\" stroke-dasharray=\"1, 2\" points=\"\n",
       "  39.0856,278.045 587.581,278.045 \n",
       "  \"/>\n",
       "<polyline clip-path=\"url(#clip02)\" style=\"stroke:#00002d; stroke-width:0.8; stroke-opacity:0.5; fill:none\" stroke-dasharray=\"1, 2\" points=\"\n",
       "  39.0856,171.139 587.581,171.139 \n",
       "  \"/>\n",
       "<polyline clip-path=\"url(#clip02)\" style=\"stroke:#00002d; stroke-width:0.8; stroke-opacity:0.5; fill:none\" stroke-dasharray=\"1, 2\" points=\"\n",
       "  39.0856,64.2323 587.581,64.2323 \n",
       "  \"/>\n",
       "<polyline clip-path=\"url(#clip02)\" style=\"stroke:#00002d; stroke-width:0.8; stroke-opacity:1; fill:none\" points=\"\n",
       "  30.6037,384.952 596.063,384.952 \n",
       "  \"/>\n",
       "<polyline clip-path=\"url(#clip02)\" style=\"stroke:#00002d; stroke-width:0.8; stroke-opacity:1; fill:none\" points=\"\n",
       "  156.436,384.952 156.436,379.237 \n",
       "  \"/>\n",
       "<polyline clip-path=\"url(#clip02)\" style=\"stroke:#00002d; stroke-width:0.8; stroke-opacity:1; fill:none\" points=\"\n",
       "  470.231,384.952 470.231,379.237 \n",
       "  \"/>\n",
       "<polyline clip-path=\"url(#clip02)\" style=\"stroke:#00002d; stroke-width:0.8; stroke-opacity:1; fill:none\" points=\"\n",
       "  30.6037,384.952 30.6037,3.93701 \n",
       "  \"/>\n",
       "<polyline clip-path=\"url(#clip02)\" style=\"stroke:#00002d; stroke-width:0.8; stroke-opacity:1; fill:none\" points=\"\n",
       "  30.6037,384.952 39.0856,384.952 \n",
       "  \"/>\n",
       "<polyline clip-path=\"url(#clip02)\" style=\"stroke:#00002d; stroke-width:0.8; stroke-opacity:1; fill:none\" points=\"\n",
       "  30.6037,278.045 39.0856,278.045 \n",
       "  \"/>\n",
       "<polyline clip-path=\"url(#clip02)\" style=\"stroke:#00002d; stroke-width:0.8; stroke-opacity:1; fill:none\" points=\"\n",
       "  30.6037,171.139 39.0856,171.139 \n",
       "  \"/>\n",
       "<polyline clip-path=\"url(#clip02)\" style=\"stroke:#00002d; stroke-width:0.8; stroke-opacity:1; fill:none\" points=\"\n",
       "  30.6037,64.2323 39.0856,64.2323 \n",
       "  \"/>\n",
       "<g clip-path=\"url(#clip00)\">\n",
       "<text style=\"fill:#00002d; fill-opacity:1; font-family:Arial,Helvetica Neue,Helvetica,sans-serif; font-size:12; text-anchor:middle;\" transform=\"rotate(0, 156.436, 396.952)\" x=\"156.436\" y=\"396.952\">survived</text>\n",
       "</g>\n",
       "<g clip-path=\"url(#clip00)\">\n",
       "<text style=\"fill:#00002d; fill-opacity:1; font-family:Arial,Helvetica Neue,Helvetica,sans-serif; font-size:12; text-anchor:middle;\" transform=\"rotate(0, 470.231, 396.952)\" x=\"470.231\" y=\"396.952\">dead</text>\n",
       "</g>\n",
       "<g clip-path=\"url(#clip00)\">\n",
       "<text style=\"fill:#00002d; fill-opacity:1; font-family:Arial,Helvetica Neue,Helvetica,sans-serif; font-size:12; text-anchor:end;\" transform=\"rotate(0, 29.4037, 389.452)\" x=\"29.4037\" y=\"389.452\">0</text>\n",
       "</g>\n",
       "<g clip-path=\"url(#clip00)\">\n",
       "<text style=\"fill:#00002d; fill-opacity:1; font-family:Arial,Helvetica Neue,Helvetica,sans-serif; font-size:12; text-anchor:end;\" transform=\"rotate(0, 29.4037, 282.545)\" x=\"29.4037\" y=\"282.545\">250</text>\n",
       "</g>\n",
       "<g clip-path=\"url(#clip00)\">\n",
       "<text style=\"fill:#00002d; fill-opacity:1; font-family:Arial,Helvetica Neue,Helvetica,sans-serif; font-size:12; text-anchor:end;\" transform=\"rotate(0, 29.4037, 175.639)\" x=\"29.4037\" y=\"175.639\">500</text>\n",
       "</g>\n",
       "<g clip-path=\"url(#clip00)\">\n",
       "<text style=\"fill:#00002d; fill-opacity:1; font-family:Arial,Helvetica Neue,Helvetica,sans-serif; font-size:12; text-anchor:end;\" transform=\"rotate(0, 29.4037, 68.7323)\" x=\"29.4037\" y=\"68.7323\">750</text>\n",
       "</g>\n",
       "<polygon clip-path=\"url(#clip02)\" points=\"\n",
       "46.6072,138.212 46.6072,384.952 266.264,384.952 266.264,138.212 46.6072,138.212 46.6072,138.212 \n",
       "  \" fill=\"#0099ff\" fill-opacity=\"1\"/>\n",
       "<polyline clip-path=\"url(#clip02)\" style=\"stroke:#00002d; stroke-width:0.8; stroke-opacity:1; fill:none\" points=\"\n",
       "  46.6072,138.212 46.6072,384.952 266.264,384.952 266.264,138.212 46.6072,138.212 \n",
       "  \"/>\n",
       "<polygon clip-path=\"url(#clip02)\" points=\"\n",
       "360.403,184.823 360.403,384.952 580.059,384.952 580.059,184.823 360.403,184.823 360.403,184.823 \n",
       "  \" fill=\"#0099ff\" fill-opacity=\"1\"/>\n",
       "<polyline clip-path=\"url(#clip02)\" style=\"stroke:#00002d; stroke-width:0.8; stroke-opacity:1; fill:none\" points=\"\n",
       "  360.403,184.823 360.403,384.952 580.059,384.952 580.059,184.823 360.403,184.823 \n",
       "  \"/>\n",
       "<polygon clip-path=\"url(#clip02)\" points=\"\n",
       "46.6072,3.93701 46.6072,138.212 266.264,138.212 266.264,3.93701 46.6072,3.93701 46.6072,3.93701 \n",
       "  \" fill=\"#e9746a\" fill-opacity=\"1\"/>\n",
       "<polyline clip-path=\"url(#clip02)\" style=\"stroke:#00002d; stroke-width:0.8; stroke-opacity:1; fill:none\" points=\"\n",
       "  46.6072,3.93701 46.6072,138.212 266.264,138.212 266.264,3.93701 46.6072,3.93701 \n",
       "  \"/>\n",
       "<polygon clip-path=\"url(#clip02)\" points=\"\n",
       "360.403,150.185 360.403,184.823 580.059,184.823 580.059,150.185 360.403,150.185 360.403,150.185 \n",
       "  \" fill=\"#e9746a\" fill-opacity=\"1\"/>\n",
       "<polyline clip-path=\"url(#clip02)\" style=\"stroke:#00002d; stroke-width:0.8; stroke-opacity:1; fill:none\" points=\"\n",
       "  360.403,150.185 360.403,184.823 580.059,184.823 580.059,150.185 360.403,150.185 \n",
       "  \"/>\n",
       "<polygon clip-path=\"url(#clip00)\" points=\"\n",
       "482.496,70.177 578.063,70.177 578.063,24.817 482.496,24.817 \n",
       "  \" fill=\"#ffffff\" fill-opacity=\"1\"/>\n",
       "<polyline clip-path=\"url(#clip00)\" style=\"stroke:#00002d; stroke-width:0.8; stroke-opacity:1; fill:none\" points=\"\n",
       "  482.496,70.177 578.063,70.177 578.063,24.817 482.496,24.817 482.496,70.177 \n",
       "  \"/>\n",
       "<polygon clip-path=\"url(#clip00)\" points=\"\n",
       "488.496,45.985 524.496,45.985 524.496,33.889 488.496,33.889 488.496,45.985 \n",
       "  \" fill=\"#0099ff\" fill-opacity=\"1\"/>\n",
       "<polyline clip-path=\"url(#clip00)\" style=\"stroke:#00002d; stroke-width:0.8; stroke-opacity:1; fill:none\" points=\"\n",
       "  488.496,45.985 524.496,45.985 524.496,33.889 488.496,33.889 488.496,45.985 \n",
       "  \"/>\n",
       "<g clip-path=\"url(#clip00)\">\n",
       "<text style=\"fill:#00002d; fill-opacity:1; font-family:Arial,Helvetica Neue,Helvetica,sans-serif; font-size:12; text-anchor:start;\" transform=\"rotate(0, 530.496, 44.437)\" x=\"530.496\" y=\"44.437\">male</text>\n",
       "</g>\n",
       "<polygon clip-path=\"url(#clip00)\" points=\"\n",
       "488.496,61.105 524.496,61.105 524.496,49.009 488.496,49.009 488.496,61.105 \n",
       "  \" fill=\"#e9746a\" fill-opacity=\"1\"/>\n",
       "<polyline clip-path=\"url(#clip00)\" style=\"stroke:#00002d; stroke-width:0.8; stroke-opacity:1; fill:none\" points=\"\n",
       "  488.496,61.105 524.496,61.105 524.496,49.009 488.496,49.009 488.496,61.105 \n",
       "  \"/>\n",
       "<g clip-path=\"url(#clip00)\">\n",
       "<text style=\"fill:#00002d; fill-opacity:1; font-family:Arial,Helvetica Neue,Helvetica,sans-serif; font-size:12; text-anchor:start;\" transform=\"rotate(0, 530.496, 59.557)\" x=\"530.496\" y=\"59.557\">female</text>\n",
       "</g>\n",
       "</svg>\n"
      ]
     },
     "execution_count": 10,
     "metadata": {},
     "output_type": "execute_result"
    }
   ],
   "source": [
    "groupedbar([countmap(train[:Sex])[\"male\"] countmap(train[:Sex])[\"female\"]; countmap(dead[:Sex])[\"male\"] countmap(dead[:Sex])[\"female\"]],\n",
    "            label = [\"male\" \"female\"],\n",
    "            bar_position = :stack, \n",
    "            bar_width=0.7,\n",
    "            xticks = (1:2, [\"survived\", \"dead\"]),\n",
    "            leg = true)"
   ]
  },
  {
   "cell_type": "markdown",
   "metadata": {
    "collapsed": false
   },
   "source": [
    "睨んだ通り、男性よりも女性の方の生存確率が高そうだ。\n",
    "\n",
    "まだ Kaggle に慣れてないし、練習がてら最初は\n",
    "> 男性は皆亡くなって、女性は皆生き残る\n",
    "\n",
    "という大雑把なモデルの結果で提出してみよう。"
   ]
  },
  {
   "cell_type": "code",
   "execution_count": 11,
   "metadata": {
    "collapsed": true
   },
   "outputs": [],
   "source": [
    "ID = zeros(Int, size(test, 1))\n",
    "live = copy(ID);\n",
    "for (idx, row) in enumerate(eachrow(test))\n",
    "    ID[idx] = row[:PassengerId]\n",
    "    if row[:Sex] == \"female\"\n",
    "        live[idx] = 1\n",
    "    end\n",
    "end"
   ]
  },
  {
   "cell_type": "code",
   "execution_count": 12,
   "metadata": {
    "collapsed": false
   },
   "outputs": [
    {
     "data": {
      "text/html": [
       "<table class=\"data-frame\"><thead><tr><th></th><th>PassengerId</th><th>Survived</th></tr></thead><tbody><tr><th>1</th><td>892</td><td>0</td></tr><tr><th>2</th><td>893</td><td>1</td></tr><tr><th>3</th><td>894</td><td>0</td></tr><tr><th>4</th><td>895</td><td>0</td></tr><tr><th>5</th><td>896</td><td>1</td></tr><tr><th>6</th><td>897</td><td>0</td></tr></tbody></table>"
      ],
      "text/plain": [
       "6×2 DataFrames.DataFrame\n",
       "│ Row │ PassengerId │ Survived │\n",
       "├─────┼─────────────┼──────────┤\n",
       "│ 1   │ 892         │ 0        │\n",
       "│ 2   │ 893         │ 1        │\n",
       "│ 3   │ 894         │ 0        │\n",
       "│ 4   │ 895         │ 0        │\n",
       "│ 5   │ 896         │ 1        │\n",
       "│ 6   │ 897         │ 0        │"
      ]
     },
     "execution_count": 12,
     "metadata": {},
     "output_type": "execute_result"
    }
   ],
   "source": [
    "submit = DataFrame(PassengerId = ID, Survived = live)\n",
    "head(submit)"
   ]
  },
  {
   "cell_type": "code",
   "execution_count": 13,
   "metadata": {
    "collapsed": true
   },
   "outputs": [],
   "source": [
    "writetable(\"submit.csv\", submit)"
   ]
  },
  {
   "cell_type": "markdown",
   "metadata": {
    "collapsed": true
   },
   "source": [
    "さてさて、こんな安直なモデルでどこまでの精度が出るのかな？\n",
    "\n",
    "![KaggleTitanic](kaggle_titanic.png \"titanic\")\n",
    "\n",
    "おぉ!? こんなモデルでも 76 % くらいの精度か。順位は 5834人中の4267位。精度が 80 % 超えると上位 10 % に入れるようだから、ここから 1 % 上げるのは相当難しいってことか。\n",
    "\n",
    "次は何を基準にするかな。若い人のほうが体力あるから生き残れそうだなよなぁ。船は真っ二つに分裂したから客室によっても変わりそうだ ・・・\n",
    "\n",
    "---\n",
    "\n",
    "---\n",
    "\n",
    "アプローチの仕方はわかったでしょうか?  \n",
    "それでは皆さんも試行錯誤を重ね、自分なりのモデルを構築してみてください。"
   ]
  },
  {
   "cell_type": "code",
   "execution_count": null,
   "metadata": {
    "collapsed": true
   },
   "outputs": [],
   "source": []
  }
 ],
 "metadata": {
  "kernelspec": {
   "display_name": "Julia 0.5.0",
   "language": "julia",
   "name": "julia-0.5"
  },
  "language_info": {
   "file_extension": ".jl",
   "mimetype": "application/julia",
   "name": "julia",
   "version": "0.5.1"
  }
 },
 "nbformat": 4,
 "nbformat_minor": 2
}
