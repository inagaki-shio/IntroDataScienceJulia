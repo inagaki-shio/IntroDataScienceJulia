{
 "cells": [
  {
   "cell_type": "markdown",
   "metadata": {},
   "source": [
    "# Introduction to Data Science with Julia\n",
    "\n",
    "<img src=\"http://julialang.org/images/logo_hires.png\" alt=\"Julia Logo\" width=\"300\"></img>\n",
    "\n",
    "# 目次\n",
    "- [データ分析入門](#データ分析入門)\n",
    " - [データの読み込み](#データの読み込み)\n",
    " - [DataFrames パッケージ](#DataFrames-パッケージ)\n",
    " - [データ加工](#データ加工)\n",
    " - [データの結合](#データの結合)\n",
    "- [練習問題](#練習問題)"
   ]
  },
  {
   "cell_type": "markdown",
   "metadata": {},
   "source": [
    "# データ分析入門\n",
    "\n",
    "## データの読み込み\n",
    "\n",
    "世にあふれるデータは Excel や CSV, SQL などいろいろな形式で保存されていますが、この講義では取り扱いが容易な CSV (Comma-Separated Values) ファイルを使用していきます。CSV ファイルは中身を見ればわかりますが、各要素がコンマで区切られたテキストファイルです。テキストファイルであるためメモ帳などで簡単に編集することが出来ます。\n",
    "\n",
    "\n",
    "まずは CSV ファイルからデータを読み込み、平均や分散などの基本統計量を計算してみましょう。\n",
    "今回はサンプルとして、学生のIDと2つの試験の点数が保存された scores.csv というファイルを用意しました。\n",
    "\n",
    "Julia の標準機能を使って csv ファイルを読み込むには readcsv 関数を使います。"
   ]
  },
  {
   "cell_type": "code",
   "execution_count": null,
   "metadata": {
    "collapsed": false
   },
   "outputs": [],
   "source": [
    "scores = readcsv(\"../data/scores.csv\", Int, header=true) # デフォルトでは header=false になっています。"
   ]
  },
  {
   "cell_type": "markdown",
   "metadata": {
    "collapsed": true
   },
   "source": [
    "データを読み込むと変数 scores の第1要素が数値データに、第2要素が header が入ります。"
   ]
  },
  {
   "cell_type": "code",
   "execution_count": null,
   "metadata": {
    "collapsed": false
   },
   "outputs": [],
   "source": [
    "scores[1]"
   ]
  },
  {
   "cell_type": "code",
   "execution_count": null,
   "metadata": {
    "collapsed": false
   },
   "outputs": [],
   "source": [
    "scores[2]"
   ]
  },
  {
   "cell_type": "markdown",
   "metadata": {},
   "source": [
    "summarystats を使って2つの試験の点数の平均などを調べてみましょう。"
   ]
  },
  {
   "cell_type": "code",
   "execution_count": null,
   "metadata": {
    "collapsed": false
   },
   "outputs": [],
   "source": [
    "import StatsBase\n",
    "StatsBase.summarystats(scores[1][:,2])"
   ]
  },
  {
   "cell_type": "code",
   "execution_count": null,
   "metadata": {
    "collapsed": false
   },
   "outputs": [],
   "source": [
    "StatsBase.summarystats(scores[1][:,3])"
   ]
  },
  {
   "cell_type": "markdown",
   "metadata": {},
   "source": [
    "exam 1 と exam 2 の相関係数も計算してみましょう"
   ]
  },
  {
   "cell_type": "code",
   "execution_count": null,
   "metadata": {
    "collapsed": false
   },
   "outputs": [],
   "source": [
    "corcoeff = cor(scores[1][:,2], scores[1][:,3])"
   ]
  },
  {
   "cell_type": "markdown",
   "metadata": {},
   "source": [
    "数字だけを見ていてもよくわからないので可視化もしてみましょう。"
   ]
  },
  {
   "cell_type": "code",
   "execution_count": null,
   "metadata": {
    "collapsed": false
   },
   "outputs": [],
   "source": [
    "import Plots\n",
    "Plots.gr(leg=false)"
   ]
  },
  {
   "cell_type": "code",
   "execution_count": null,
   "metadata": {
    "collapsed": false
   },
   "outputs": [],
   "source": [
    "@show a, b = linreg(scores[1][:,2], scores[1][:,3]) # y = a  + b * x にフィッティング\n",
    "Plots.plot(scores[1][:,2], scores[1][:,3], \n",
    "    linetype=:scatter, \n",
    "    leg=false,\n",
    "    title=\"Scores\",\n",
    "    xlabel=\"exam 1\",\n",
    "    ylabel=\"exam 2\",\n",
    "    xticks=0:20:100,\n",
    "    yticks=0:20:100,\n",
    "    xlims=(0,100),\n",
    "    ylims=(0,100),\n",
    "    aspect_ratio=1\n",
    "    )\n",
    "Plots.plot!([0,100], a + b * [0,100])"
   ]
  },
  {
   "cell_type": "code",
   "execution_count": null,
   "metadata": {
    "collapsed": true
   },
   "outputs": [],
   "source": []
  },
  {
   "cell_type": "markdown",
   "metadata": {},
   "source": [
    "[目次に戻る](#目次)"
   ]
  },
  {
   "cell_type": "markdown",
   "metadata": {},
   "source": [
    "## DataFrames パッケージ\n",
    "\n",
    "先程は readcsv を使ってデータを読み込みましたが、header があるにも関わらず全く活用しませんでした。readcsv で取り込んだ場合、exam1 は 2 列目で、exam2 は 3 列目だから... と header と対応する列番号が必要でした。これではデータ数が増えるとほしいデータ列が何列目なのか数えるだけでも大変です。header があるのだからこれを活用したいものです。\n",
    "\n",
    "DataFrames パッケージを使うと、各列を header で指定することが出来ます。DataFrames パッケージをつかって CSV ファイルを読み込む場合は readtable を使用します。\n",
    "\n",
    "(注) [DataFrames.jl](https://github.com/JuliaStats/DataFrames.jl) からの派生で [DataTables.jl](https://github.com/JuliaData/DataTables.jl) というものもあり、今後 DataTables.jl が主流になっていくと思います。"
   ]
  },
  {
   "cell_type": "code",
   "execution_count": null,
   "metadata": {
    "collapsed": true
   },
   "outputs": [],
   "source": [
    "import DataFrames"
   ]
  },
  {
   "cell_type": "code",
   "execution_count": null,
   "metadata": {
    "collapsed": false
   },
   "outputs": [],
   "source": [
    "df = DataFrames.readtable(\"../data/scores.csv\")\n",
    "DataFrames.head(df, 5) # head(df, n)  最初の n 行目までを表示。tail を使うと末尾を表示"
   ]
  },
  {
   "cell_type": "markdown",
   "metadata": {},
   "source": [
    "読み込んだデータは一見すると配列に似ていますが、実際は DataFrames パッケージ内で定義された DataFrame 型という型で配列と似て非なるものです。概ね配列と同様に扱えますが、扱い方が変わる部分もあるのでそのことを念頭においてください。"
   ]
  },
  {
   "cell_type": "code",
   "execution_count": null,
   "metadata": {
    "collapsed": false
   },
   "outputs": [],
   "source": [
    "typeof(df)"
   ]
  },
  {
   "cell_type": "markdown",
   "metadata": {},
   "source": [
    "各列を抜き出すには普通の配列のように\n",
    "```julia\n",
    "    df[:,2]\n",
    "```\n",
    "とするか、抜き出す列の列番号または header で指定して\n",
    "\n",
    "```julia\n",
    "    df[2]\n",
    "    \n",
    "    or\n",
    "    \n",
    "    df[:exam1]\n",
    "```\n",
    "などとします。"
   ]
  },
  {
   "cell_type": "code",
   "execution_count": null,
   "metadata": {
    "collapsed": false
   },
   "outputs": [],
   "source": [
    "df[:,2]"
   ]
  },
  {
   "cell_type": "code",
   "execution_count": null,
   "metadata": {
    "collapsed": false
   },
   "outputs": [],
   "source": [
    "df[2]"
   ]
  },
  {
   "cell_type": "code",
   "execution_count": null,
   "metadata": {
    "collapsed": false
   },
   "outputs": [],
   "source": [
    "df[:exam1]"
   ]
  },
  {
   "cell_type": "markdown",
   "metadata": {},
   "source": [
    "複数の列を抜き出す場合は\n",
    "```julia\n",
    "    df[ [:exam1, :exam2] ] # 内側のカッコは必須\n",
    "```\n",
    "のようにします。"
   ]
  },
  {
   "cell_type": "code",
   "execution_count": null,
   "metadata": {
    "collapsed": false
   },
   "outputs": [],
   "source": [
    "df[ [:exam1, :exam2] ]"
   ]
  },
  {
   "cell_type": "markdown",
   "metadata": {
    "collapsed": true
   },
   "source": [
    "describe を使うと各列の平均、五数要約、欠損値の数と割合が標準出力されます。"
   ]
  },
  {
   "cell_type": "code",
   "execution_count": null,
   "metadata": {
    "collapsed": false
   },
   "outputs": [],
   "source": [
    "DataFrames.describe(df)"
   ]
  },
  {
   "cell_type": "markdown",
   "metadata": {},
   "source": [
    "既存の配列から DataFrame を作るには次のようにします。"
   ]
  },
  {
   "cell_type": "code",
   "execution_count": null,
   "metadata": {
    "collapsed": false
   },
   "outputs": [],
   "source": [
    "x = [1, 2, 3]\n",
    "y = [4, 5, 6]\n",
    "tmpdf = DataFrames.DataFrame(X = x, Y = y) #  a = b としたとき、左の a が列名になる。\n",
    "                                           # 列名と配列の変数名は同じでも構わない。すなわち、a = a と書いてもOK"
   ]
  },
  {
   "cell_type": "code",
   "execution_count": null,
   "metadata": {
    "collapsed": false
   },
   "outputs": [],
   "source": [
    "tmpdf[:X]"
   ]
  },
  {
   "cell_type": "markdown",
   "metadata": {},
   "source": [
    "可視化も配列の時同様にすることができます。"
   ]
  },
  {
   "cell_type": "code",
   "execution_count": null,
   "metadata": {
    "collapsed": false
   },
   "outputs": [],
   "source": [
    "Plots.plot(df[:exam1], df[:exam2],\n",
    "    linetype=:scatter, \n",
    "    leg=false,\n",
    "    title=\"Scores\",\n",
    "    xlabel=\"exam 1\",\n",
    "    ylabel=\"exam 2\",\n",
    "    xticks=0:20:100,\n",
    "    yticks=0:20:100,\n",
    "    xlims=(0,100),\n",
    "    ylims=(0,100),\n",
    "    aspect_ratio=1)"
   ]
  },
  {
   "cell_type": "markdown",
   "metadata": {},
   "source": [
    "Plots にさらに箱ひげ図などの描写機能を加え、DataFrame 型にも対応している StatPlots パッケージを使うとより分析がはかどります。"
   ]
  },
  {
   "cell_type": "code",
   "execution_count": null,
   "metadata": {
    "collapsed": false
   },
   "outputs": [],
   "source": [
    "import StatPlots # 文法は Plots と概ね一緒\n",
    "StatPlots.gr()"
   ]
  },
  {
   "cell_type": "markdown",
   "metadata": {},
   "source": [
    "普通の Plots では出来きませんが、StatPlots は DataFrame 型に対応しているので次のようにも書けます"
   ]
  },
  {
   "cell_type": "code",
   "execution_count": null,
   "metadata": {
    "collapsed": false
   },
   "outputs": [],
   "source": [
    "StatPlots.plot(df, :exam1, :exam2, linetype=:scatter) # plot(df[:exam1], df[:exam2]) の代わりに左のように書ける"
   ]
  },
  {
   "cell_type": "code",
   "execution_count": null,
   "metadata": {
    "collapsed": false,
    "scrolled": false
   },
   "outputs": [],
   "source": [
    "StatPlots.histogram(df, :exam1, bins=0:5:100, label=\"exam 1\")\n",
    "StatPlots.histogram!(df, :exam2, bins=0:5:100, alpha=0.5, label=\"exam 2\", leg=true) # alpha は透過度\n",
    "StatPlots.xlabel!(\"score\")"
   ]
  },
  {
   "cell_type": "code",
   "execution_count": null,
   "metadata": {
    "collapsed": false
   },
   "outputs": [],
   "source": [
    "StatPlots.boxplot(df, [\"exam 1\" \"exam 2\"], :exam1, :exam2)\n",
    "StatPlots.ylabel!(\"score\")"
   ]
  },
  {
   "cell_type": "code",
   "execution_count": null,
   "metadata": {
    "collapsed": false
   },
   "outputs": [],
   "source": []
  },
  {
   "cell_type": "markdown",
   "metadata": {},
   "source": [
    "[目次に戻る](#目次)"
   ]
  },
  {
   "cell_type": "markdown",
   "metadata": {},
   "source": [
    "## データ加工\n",
    "\n",
    "現在では[統計局](http://www.stat.go.jp/data/guide/download/)や [Kaggle](https://www.kaggle.com/datasets) などから様々なデータをダウンロード出来ますが、それらのデータが始めから解析しやすい形式になっているとは限りません。そのため、まずは解析がしやすくするためにデータを加工する必要が有ります。\n",
    "\n",
    "まずは ID、性別、誕生日だけが入った単純なデータ people.csv を使ってデータ加工に慣れていきましょう。"
   ]
  },
  {
   "cell_type": "code",
   "execution_count": null,
   "metadata": {
    "collapsed": false
   },
   "outputs": [],
   "source": [
    "people = DataFrames.readtable(\"../data/people.csv\")\n",
    "DataFrames.head(people)"
   ]
  },
  {
   "cell_type": "markdown",
   "metadata": {
    "collapsed": true
   },
   "source": [
    "各列の要素の型を調べてみます。"
   ]
  },
  {
   "cell_type": "code",
   "execution_count": null,
   "metadata": {
    "collapsed": false
   },
   "outputs": [],
   "source": [
    "DataFrames.eltypes(people)"
   ]
  },
  {
   "cell_type": "markdown",
   "metadata": {
    "collapsed": true
   },
   "source": [
    "ID 列は Int64 で、性別と誕生日の列は String 型のようです。Julia には日付を扱うための Date 型があるので、より Julia で扱いやすいように誕生日は String 型から Date 型 へ変換したくなります。性別の方も書き方が何通りかあるようなので表し方を揃えたいところです。\n",
    "\n",
    "初めに変換が簡単そうな誕生日の方からやっていきましょう。今回のように「年-月-日」という日付の表し方だと Date を使うだけで簡単に Date 型になります。"
   ]
  },
  {
   "cell_type": "code",
   "execution_count": null,
   "metadata": {
    "collapsed": false
   },
   "outputs": [],
   "source": [
    "Date(people[:Birthday][1])"
   ]
  },
  {
   "cell_type": "markdown",
   "metadata": {},
   "source": [
    "ヨーロッパ式に 日・月・年 の順に書かれていた場合は次のように書きます。"
   ]
  },
  {
   "cell_type": "code",
   "execution_count": null,
   "metadata": {
    "collapsed": false
   },
   "outputs": [],
   "source": [
    "Date(\"12-31-2020\", \"m-d-y\")"
   ]
  },
  {
   "cell_type": "markdown",
   "metadata": {},
   "source": [
    "一見すると変換されていないようですが、型を調べるとちゃんと型変換がされています。"
   ]
  },
  {
   "cell_type": "code",
   "execution_count": null,
   "metadata": {
    "collapsed": false
   },
   "outputs": [],
   "source": [
    "@show typeof(people[:Birthday][1])\n",
    "@show typeof(Date(people[:Birthday][1]));"
   ]
  },
  {
   "cell_type": "markdown",
   "metadata": {},
   "source": [
    "Date 型にすれば、2つの日付の引き算をすると経過日数を計算することが出来ます。"
   ]
  },
  {
   "cell_type": "code",
   "execution_count": null,
   "metadata": {
    "collapsed": false
   },
   "outputs": [],
   "source": [
    "yourbirthday = \"2000-1-1\"\n",
    "print(\"今日はあなたが生まれてから \", Dates.today() - Date(yourbirthday), \" です。\")"
   ]
  },
  {
   "cell_type": "code",
   "execution_count": null,
   "metadata": {
    "collapsed": true
   },
   "outputs": [],
   "source": []
  },
  {
   "cell_type": "markdown",
   "metadata": {},
   "source": [
    "これから、誕生日の列を String 型から Date 型に変換していきますが、もともとの誕生日の列は String 型なので、変換した Date 型を直接代入することは出来ません。そのため、ここでは\n",
    "1. birthday という列を新しく作る\n",
    "1. birthday 列に変換後の誕生日を入れる\n",
    "1. 元の Birthday 列を削除\n",
    "1. birthday を Birthday に名前を変更\n",
    "\n",
    "という手順を踏んでいくことにします。"
   ]
  },
  {
   "cell_type": "code",
   "execution_count": null,
   "metadata": {
    "collapsed": false
   },
   "outputs": [],
   "source": [
    "# 新しい列を作成\n",
    "# 初期化していないので各要素の日付に意味はありません。\n",
    "people[:birthday] = Array{Date}(size(people, 1))"
   ]
  },
  {
   "cell_type": "code",
   "execution_count": null,
   "metadata": {
    "collapsed": false
   },
   "outputs": [],
   "source": [
    "# 型を変換し代入する\n",
    "for i in 1:size(people, 1)\n",
    "    people[:birthday][i] = Date(people[:Birthday][i])\n",
    "end\n",
    "DataFrames.head(people)"
   ]
  },
  {
   "cell_type": "code",
   "execution_count": null,
   "metadata": {
    "collapsed": false
   },
   "outputs": [],
   "source": [
    "# Birthday 列を削除\n",
    "delete!(people, :Birthday)\n",
    "DataFrames.head(people)"
   ]
  },
  {
   "cell_type": "code",
   "execution_count": null,
   "metadata": {
    "collapsed": false
   },
   "outputs": [],
   "source": [
    "# 列名を変更\n",
    "DataFrames.rename!(people, :birthday, :Birthday)\n",
    "DataFrames.head(people)"
   ]
  },
  {
   "cell_type": "code",
   "execution_count": null,
   "metadata": {
    "collapsed": false
   },
   "outputs": [],
   "source": [
    "# 無事に変換できたか確認\n",
    "DataFrames.eltypes(people)"
   ]
  },
  {
   "cell_type": "markdown",
   "metadata": {},
   "source": [
    "注) 今回の様に、変換する列に欠損値が存在しない場合、新しく列を作らずとも一気に型変換できます。"
   ]
  },
  {
   "cell_type": "code",
   "execution_count": null,
   "metadata": {
    "collapsed": false
   },
   "outputs": [],
   "source": [
    "# people = readtable(\"people.csv\")\n",
    "# people[:Birthday] = Date(people[:Birthday])\n",
    "# @show head(people)\n",
    "# eltypes(people)"
   ]
  },
  {
   "cell_type": "markdown",
   "metadata": {},
   "source": [
    "次に性別の方を加工していきましょう。性別の列を見るとどうやら男女の書き方が何通りかあるようです。"
   ]
  },
  {
   "cell_type": "code",
   "execution_count": null,
   "metadata": {
    "collapsed": false
   },
   "outputs": [],
   "source": [
    "people[:Sex]"
   ]
  },
  {
   "cell_type": "markdown",
   "metadata": {},
   "source": [
    "このままでは、何通りの書き方があるのかはっきりしないので、Set を使ってこの列から重複する要素を取り除きましょう。<br>\n",
    "Set 型は数学の集合の同様、要素の順序に意味はありません。"
   ]
  },
  {
   "cell_type": "code",
   "execution_count": null,
   "metadata": {
    "collapsed": false
   },
   "outputs": [],
   "source": [
    "Set(people[:Sex])"
   ]
  },
  {
   "cell_type": "markdown",
   "metadata": {},
   "source": [
    "これから、男性は M, Male, male の3通りの書き方が、女性は F, Female, female の3通りの書き方があることがわかります。 <br>\n",
    "3通りもあると扱いが大変なので、ここでは男性は M、女性は F で統一していきましょう。\n",
    "\n",
    "この性別の列の加工は皆さんが実際にコードを書いてみてください。\n",
    "\n",
    "ヒント\n",
    "```julia\n",
    "    x in 配列 (または集合)\n",
    "        or\n",
    "    x ∈ 配列 (または集合)\n",
    "```\n",
    "とすると x が配列の中に含まれるかどうかを確認することが出来る。"
   ]
  },
  {
   "cell_type": "code",
   "execution_count": null,
   "metadata": {
    "collapsed": false
   },
   "outputs": [],
   "source": [
    "@show 1 in [1, 2, 3]\n",
    "@show 5 ∈ [1, 2, 3];"
   ]
  },
  {
   "cell_type": "code",
   "execution_count": null,
   "metadata": {
    "collapsed": false
   },
   "outputs": [],
   "source": [
    "# 実際にコードを書いてみてください\n"
   ]
  },
  {
   "cell_type": "code",
   "execution_count": null,
   "metadata": {
    "collapsed": true
   },
   "outputs": [],
   "source": []
  },
  {
   "cell_type": "markdown",
   "metadata": {
    "collapsed": true
   },
   "source": [
    "加工ができたら最後に加工したデータを保存しましょう。"
   ]
  },
  {
   "cell_type": "code",
   "execution_count": null,
   "metadata": {
    "collapsed": false
   },
   "outputs": [],
   "source": [
    "# 元のデータと同じ名前にすると上書きされてしまうので、必ず違うファイル名をつける。\n",
    "DataFrames.writetable(\"people_fix.csv\", people)"
   ]
  },
  {
   "cell_type": "markdown",
   "metadata": {},
   "source": [
    "上記の方法で保存したファイルをもう一度読み込むと誕生日の列はまた String 型で読み込まれます。そのため扱いやすくするにはまた Date 型へまた変換する必要が有ります。\n",
    "\n",
    "せっかく扱いやすい型に加工したのだから、その型のまま保存・読み込みがしたいものです。そのようなときには[JLD.jl](https://github.com/JuliaIO/JLD.jl) パッケージを使うと型の情報を保持したまま比較的楽に変数を保存することが出来ます。"
   ]
  },
  {
   "cell_type": "code",
   "execution_count": null,
   "metadata": {
    "collapsed": false
   },
   "outputs": [],
   "source": [
    "import JLD"
   ]
  },
  {
   "cell_type": "code",
   "execution_count": null,
   "metadata": {
    "collapsed": false
   },
   "outputs": [],
   "source": [
    "# 変数を保存\n",
    "JLD.@save \"people_fix.jld\" people\n",
    "\n",
    "# 読み込むときは\n",
    "# JLD.@load \"people_fix.jld\""
   ]
  },
  {
   "cell_type": "code",
   "execution_count": null,
   "metadata": {
    "collapsed": true
   },
   "outputs": [],
   "source": []
  },
  {
   "cell_type": "markdown",
   "metadata": {},
   "source": [
    "[目次に戻る](#目次)"
   ]
  },
  {
   "cell_type": "markdown",
   "metadata": {},
   "source": [
    "## データの結合\n",
    "\n",
    "まずは変数の保存が正しく行われたか確認するために一度カーネルを restart して、下記のコマンドを実行して変数を読み込んでみましょう。\n",
    "\n",
    "カーネルの restart の方法は上の Kernel のタブをクリックし、Restart をクリックしてください。これを行うと Julia を再起動したのと同じになります。そのため、今まで計算してきた変数などの情報は失われます。"
   ]
  },
  {
   "cell_type": "code",
   "execution_count": null,
   "metadata": {
    "collapsed": false
   },
   "outputs": [],
   "source": [
    "import JLD, DataFrames\n",
    "JLD.@load \"people_fix.jld\"\n",
    "DataFrames.head(people)"
   ]
  },
  {
   "cell_type": "code",
   "execution_count": null,
   "metadata": {
    "collapsed": false
   },
   "outputs": [],
   "source": [
    "DataFrames.eltypes(people)"
   ]
  },
  {
   "cell_type": "markdown",
   "metadata": {
    "collapsed": true
   },
   "source": [
    "さらに、今回は people_satisfaction.csv という CSV ファイルも読み込みます。この people_satisfaction.csv 中には\n",
    "ID、あるサービスに対する満足度 の2つのデータが入っています。ここで、people.csv と people_satisfaction.csv の ID が同じ人は同一人物だとします。\n",
    "\n",
    "満足度は数値で入っており\n",
    "1. 非常に不満\n",
    "1. 不満\n",
    "1. 普通\n",
    "1. 満足\n",
    "1. 非常に満足\n",
    "\n",
    "を表します。\n",
    "\n"
   ]
  },
  {
   "cell_type": "code",
   "execution_count": null,
   "metadata": {
    "collapsed": false
   },
   "outputs": [],
   "source": [
    "people_satisfaction = DataFrames.readtable(\"../data/people_satisfaction.csv\")\n",
    "DataFrames.head(people_satisfaction)"
   ]
  },
  {
   "cell_type": "markdown",
   "metadata": {},
   "source": [
    "次に people と people_satisfaction のデータを結合していきます。今回は共通項目として ID があるのでこれを基準にして結合します。\n",
    "2つのデータを結合する場合には join 関数を使います。"
   ]
  },
  {
   "cell_type": "code",
   "execution_count": null,
   "metadata": {
    "collapsed": false
   },
   "outputs": [],
   "source": [
    "people = DataFrames.join(people, people_satisfaction, on = :ID, kind = :outer)\n",
    "DataFrames.head(people)"
   ]
  },
  {
   "cell_type": "markdown",
   "metadata": {},
   "source": [
    "kind を変えると結合方法が変わります。詳しくは[公式ドキュメント](http://juliastats.github.io/DataFrames.jl/stable/man/joins/)を読んでください。\n",
    "\n",
    "今回の様に ID が 2 つのファイルで完全に同じ場合、\n",
    "```julia\n",
    "people[:Satisfaction] = sort(people_satisfaction)[:Satisfaction]\n",
    "```\n",
    "として代入することも出来ますが、常に一致する ID があるとは限らないので join 関数を使ったほうが無難です。"
   ]
  },
  {
   "cell_type": "markdown",
   "metadata": {},
   "source": [
    "[目次に戻る](#目次)"
   ]
  },
  {
   "cell_type": "markdown",
   "metadata": {
    "collapsed": true
   },
   "source": [
    "## 欠損値\n",
    "\n",
    "結合結果を見ると ID 2 の人の Satisfaction が NA となっていることがわかります。ここで NA とは欠損値を表します。アンケートで無回答だった場合や、実験でサンプルが取れなかった場合は欠損値になります。\n",
    "\n",
    "欠損値がある場合、単純に平均などを求めることが出来ません。"
   ]
  },
  {
   "cell_type": "code",
   "execution_count": null,
   "metadata": {
    "collapsed": false
   },
   "outputs": [],
   "source": [
    "mean(people[:Satisfaction])"
   ]
  },
  {
   "cell_type": "markdown",
   "metadata": {},
   "source": [
    "データから欠損値を取り除くには dropna を使います。"
   ]
  },
  {
   "cell_type": "code",
   "execution_count": null,
   "metadata": {
    "collapsed": false
   },
   "outputs": [],
   "source": [
    "DataFrames.dropna(people[:Satisfaction])"
   ]
  },
  {
   "cell_type": "code",
   "execution_count": null,
   "metadata": {
    "collapsed": false
   },
   "outputs": [],
   "source": [
    "mean(DataFrames.dropna(people[:Satisfaction]))"
   ]
  },
  {
   "cell_type": "markdown",
   "metadata": {},
   "source": [
    "欠損値があるデータを describe を使ってみると、欠損値を取り除いたデータでの平均などが表示されます。"
   ]
  },
  {
   "cell_type": "code",
   "execution_count": null,
   "metadata": {
    "collapsed": false
   },
   "outputs": [],
   "source": [
    "DataFrames.describe(people)"
   ]
  },
  {
   "cell_type": "markdown",
   "metadata": {},
   "source": [
    "describe の出力結果より Satisfaction には欠損値が 102 個あることがわかります。\n",
    "この欠損値をどう扱うかというのは難しい問題ですが、ここでは欠損値を平均値に置き換えてみます。"
   ]
  },
  {
   "cell_type": "code",
   "execution_count": null,
   "metadata": {
    "collapsed": false
   },
   "outputs": [],
   "source": [
    "people[:Satisfaction_fix] = Vector{Float64}(size(people, 1))\n",
    "for iter in 1:size(people, 1)\n",
    "    if DataFrames.isna(people[:Satisfaction][iter])\n",
    "        people[:Satisfaction_fix][iter] = mean(DataFrames.dropna(people[:Satisfaction]))\n",
    "    else\n",
    "        people[:Satisfaction_fix][iter] = people[:Satisfaction][iter]\n",
    "    end\n",
    "end\n",
    "DataFrames.head(people)"
   ]
  },
  {
   "cell_type": "markdown",
   "metadata": {},
   "source": [
    "要素が NA か否かを調べるときには isna 関数を使います。isna 関数は引数が NA ならば true を、そうでなければ false を返します。"
   ]
  },
  {
   "cell_type": "code",
   "execution_count": null,
   "metadata": {
    "collapsed": true
   },
   "outputs": [],
   "source": []
  },
  {
   "cell_type": "markdown",
   "metadata": {
    "collapsed": true
   },
   "source": [
    "上の例では for 文を使って欠損値を平均値に置き換えましたが、convert を使うと欠損値をコード一行書きで置き換えることが出来ます。"
   ]
  },
  {
   "cell_type": "code",
   "execution_count": null,
   "metadata": {
    "collapsed": false
   },
   "outputs": [],
   "source": [
    "# meansatisfaction = mean(DataFrames.dropna(people[:Satisfaction]))\n",
    "# people[:Satisfaction_fix] = convert(Vector{Float64}, people[:Satisfaction], meansatisfaction)"
   ]
  },
  {
   "cell_type": "markdown",
   "metadata": {},
   "source": [
    "[目次に戻る](#目次)"
   ]
  },
  {
   "cell_type": "markdown",
   "metadata": {},
   "source": [
    "# 練習問題"
   ]
  },
  {
   "cell_type": "markdown",
   "metadata": {},
   "source": [
    "## 1.\n",
    "\n",
    "people から年齢のヒストグラムを作成せよ。ただし、年齢は数え年とする。"
   ]
  },
  {
   "cell_type": "code",
   "execution_count": null,
   "metadata": {
    "collapsed": false
   },
   "outputs": [],
   "source": []
  },
  {
   "cell_type": "markdown",
   "metadata": {},
   "source": [
    "## 2.\n",
    "\n",
    "2つのデータセット names, jobs を ID を基準に結合せよ。<br>\n",
    "また、kind オプションを変えるとどのような結果が得られるのか確認せよ。<br>\n",
    "※ オプションは[公式ドキュメント](http://juliastats.github.io/DataFrames.jl/stable/man/joins/#Database-Style-Joins-1)参照\n",
    "\n",
    "```julia\n",
    "using DataFrames\n",
    "names = DataFrame(ID = [1, 2], Name = [\"John Doe\", \"Jane Doe\"])\n",
    "jobs = DataFrame(ID = [1, 3], Job = [\"Lawyer\", \"Doctor\"])\n",
    "```\n",
    "\n"
   ]
  },
  {
   "cell_type": "code",
   "execution_count": null,
   "metadata": {
    "collapsed": false
   },
   "outputs": [],
   "source": []
  },
  {
   "cell_type": "markdown",
   "metadata": {
    "collapsed": false
   },
   "source": [
    "## 3.\n",
    "\n",
    "下記のデータの欠損値を全て中央値に置き換えよ\n",
    "```julia\n",
    "srand(1)\n",
    "ex = DataFrame()\n",
    "ex[:sample] = @data([rand(@data([NA, 1, 2, 3, 4, 5])) for i in 1:100])\n",
    "```"
   ]
  },
  {
   "cell_type": "code",
   "execution_count": null,
   "metadata": {
    "collapsed": false
   },
   "outputs": [],
   "source": []
  },
  {
   "cell_type": "markdown",
   "metadata": {},
   "source": [
    "[目次に戻る](#目次)"
   ]
  }
 ],
 "metadata": {
  "kernelspec": {
   "display_name": "Julia 0.5.0",
   "language": "julia",
   "name": "julia-0.5"
  },
  "language_info": {
   "file_extension": ".jl",
   "mimetype": "application/julia",
   "name": "julia",
   "version": "0.5.1"
  }
 },
 "nbformat": 4,
 "nbformat_minor": 2
}
